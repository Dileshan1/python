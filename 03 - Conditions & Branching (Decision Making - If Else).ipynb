{
 "cells": [
  {
   "cell_type": "markdown",
   "metadata": {},
   "source": [
    "# if condition"
   ]
  },
  {
   "cell_type": "code",
   "execution_count": 1,
   "metadata": {},
   "outputs": [
    {
     "name": "stdout",
     "output_type": "stream",
     "text": [
      "Statement is true\n"
     ]
    }
   ],
   "source": [
    "if True:\n",
    "    print(\"Statement is true\")"
   ]
  },
  {
   "cell_type": "code",
   "execution_count": 2,
   "metadata": {},
   "outputs": [
    {
     "name": "stdout",
     "output_type": "stream",
     "text": [
      "Statement is true\n"
     ]
    }
   ],
   "source": [
    "if False:\n",
    "    print(\"Statement is false\")\n",
    "else:\n",
    "    print(\"Statement is true\")"
   ]
  },
  {
   "cell_type": "code",
   "execution_count": 3,
   "metadata": {},
   "outputs": [
    {
     "name": "stdout",
     "output_type": "stream",
     "text": [
      "X is greater than 10\n"
     ]
    }
   ],
   "source": [
    "x=20\n",
    "\n",
    "if x>10:\n",
    "    print(\"X is greater than 10\")"
   ]
  },
  {
   "cell_type": "code",
   "execution_count": 4,
   "metadata": {},
   "outputs": [],
   "source": [
    "x=20\n",
    "\n",
    "if x<10:\n",
    "    print(\"X is less than 10\")\n",
    "\n",
    "#Here no output is given"
   ]
  },
  {
   "cell_type": "code",
   "execution_count": 5,
   "metadata": {},
   "outputs": [
    {
     "name": "stdout",
     "output_type": "stream",
     "text": [
      "20 is a member of L\n"
     ]
    }
   ],
   "source": [
    "L=[10,20,30,40,50]\n",
    "\n",
    "if 20 in L:\n",
    "    print(\"20 is a member of L\")"
   ]
  },
  {
   "cell_type": "markdown",
   "metadata": {},
   "source": [
    "# if else conditions"
   ]
  },
  {
   "cell_type": "code",
   "execution_count": 6,
   "metadata": {},
   "outputs": [
    {
     "name": "stdout",
     "output_type": "stream",
     "text": [
      "X is greater than 10\n"
     ]
    }
   ],
   "source": [
    "x=20\n",
    "\n",
    "if x>10:\n",
    "    print(\"X is greater than 10\")\n",
    "else:\n",
    "    print(\"X is less than 10\")"
   ]
  },
  {
   "cell_type": "code",
   "execution_count": 7,
   "metadata": {},
   "outputs": [],
   "source": [
    "values={}"
   ]
  },
  {
   "cell_type": "code",
   "execution_count": 8,
   "metadata": {},
   "outputs": [
    {
     "name": "stdout",
     "output_type": "stream",
     "text": [
      "Enter a value:154\n"
     ]
    },
    {
     "data": {
      "text/plain": [
       "{'154': 'Even'}"
      ]
     },
     "execution_count": 8,
     "metadata": {},
     "output_type": "execute_result"
    }
   ],
   "source": [
    "x=int(input(\"Enter a value:\"))\n",
    "\n",
    "if x%2==0:\n",
    "    values[str(x)]=\"Even\"\n",
    "else:\n",
    "    values[str(x)]=\"Odd\"\n",
    "    \n",
    "values"
   ]
  },
  {
   "cell_type": "markdown",
   "metadata": {},
   "source": [
    "# if elif else conditions"
   ]
  },
  {
   "cell_type": "code",
   "execution_count": 9,
   "metadata": {},
   "outputs": [],
   "source": [
    "mark=75\n",
    "\n",
    "if mark>=80:\n",
    "    Grade=\"A\"\n",
    "elif mark>=65:\n",
    "    Grade=\"B\"\n",
    "elif mark>=50:\n",
    "    Grade=\"C\"\n",
    "else:\n",
    "    Grade=\"Repeat\""
   ]
  },
  {
   "cell_type": "code",
   "execution_count": 10,
   "metadata": {},
   "outputs": [
    {
     "data": {
      "text/plain": [
       "'B'"
      ]
     },
     "execution_count": 10,
     "metadata": {},
     "output_type": "execute_result"
    }
   ],
   "source": [
    "Grade"
   ]
  },
  {
   "cell_type": "code",
   "execution_count": 14,
   "metadata": {},
   "outputs": [
    {
     "data": {
      "text/plain": [
       "'B'"
      ]
     },
     "execution_count": 14,
     "metadata": {},
     "output_type": "execute_result"
    }
   ],
   "source": [
    "mark = 75\n",
    "\n",
    "\"A\" if mark>=85 else \"B\" if mark>=65 else \"C\" if mark>=45 else \"F\""
   ]
  },
  {
   "cell_type": "markdown",
   "metadata": {},
   "source": [
    "# Making decisions with logical operators"
   ]
  },
  {
   "cell_type": "code",
   "execution_count": 15,
   "metadata": {},
   "outputs": [
    {
     "name": "stdout",
     "output_type": "stream",
     "text": [
      "X is in the correct region\n"
     ]
    }
   ],
   "source": [
    "x=30\n",
    "\n",
    "if x>10 and x<50:\n",
    "    print(\"X is in the correct region\")\n",
    "else:\n",
    "    print(\"X is out of the region\")"
   ]
  },
  {
   "cell_type": "code",
   "execution_count": 16,
   "metadata": {},
   "outputs": [
    {
     "name": "stdout",
     "output_type": "stream",
     "text": [
      "X is in the correct region\n"
     ]
    }
   ],
   "source": [
    "x=30\n",
    "\n",
    "if x>10 or x==50:\n",
    "    print(\"X is in the correct region\")\n",
    "else:\n",
    "    print(\"X is out of the region\")"
   ]
  },
  {
   "cell_type": "code",
   "execution_count": 17,
   "metadata": {},
   "outputs": [
    {
     "name": "stdout",
     "output_type": "stream",
     "text": [
      "X is out of the region\n"
     ]
    }
   ],
   "source": [
    "x=30\n",
    "\n",
    "if not x>10 or x==50:\n",
    "    print(\"X is in the correct region\")\n",
    "else:\n",
    "    print(\"X is out of the region\")"
   ]
  },
  {
   "cell_type": "code",
   "execution_count": 28,
   "metadata": {},
   "outputs": [
    {
     "name": "stdout",
     "output_type": "stream",
     "text": [
      "Please enter your username:Kane\n",
      "Please enter your password:XYZ\n",
      "You have logged successfully!!!\n"
     ]
    }
   ],
   "source": [
    "details={\"Sam\":\"ABC\",\"Kane\":\"XYZ\",\"Jane\":\"PQR\"}\n",
    "\n",
    "username=input(\"Please enter your username:\")\n",
    "\n",
    "if username in details:\n",
    "    password=input(\"Please enter your password:\")\n",
    "    if password==details[username]:\n",
    "        print(\"You have logged successfully!!!\")\n",
    "    else:\n",
    "        print(\"Check your password...\")\n",
    "else:\n",
    "    print(\"You are not in the system. Please check your username again\")"
   ]
  },
  {
   "cell_type": "markdown",
   "metadata": {},
   "source": [
    "# Inline decision making"
   ]
  },
  {
   "cell_type": "code",
   "execution_count": 30,
   "metadata": {},
   "outputs": [],
   "source": [
    "x=20\n",
    "y=10\n",
    "if x>10 : y=30"
   ]
  },
  {
   "cell_type": "code",
   "execution_count": 31,
   "metadata": {},
   "outputs": [
    {
     "data": {
      "text/plain": [
       "30"
      ]
     },
     "execution_count": 31,
     "metadata": {},
     "output_type": "execute_result"
    }
   ],
   "source": [
    "y"
   ]
  },
  {
   "cell_type": "code",
   "execution_count": 32,
   "metadata": {},
   "outputs": [
    {
     "data": {
      "text/plain": [
       "'Yes'"
      ]
     },
     "execution_count": 32,
     "metadata": {},
     "output_type": "execute_result"
    }
   ],
   "source": [
    "fruit = 'Apple'\n",
    "\"Yes\" if fruit == 'Apple' else \"No\" #This is called the ternary operator"
   ]
  },
  {
   "cell_type": "code",
   "execution_count": 33,
   "metadata": {},
   "outputs": [
    {
     "data": {
      "text/plain": [
       "'Yes'"
      ]
     },
     "execution_count": 33,
     "metadata": {},
     "output_type": "execute_result"
    }
   ],
   "source": [
    "fruit = 'Apple'\n",
    "check_apple=\"Yes\" if fruit == 'Apple' else \"No\"\n",
    "check_apple"
   ]
  },
  {
   "cell_type": "code",
   "execution_count": 34,
   "metadata": {},
   "outputs": [
    {
     "data": {
      "text/plain": [
       "'Pass'"
      ]
     },
     "execution_count": 34,
     "metadata": {},
     "output_type": "execute_result"
    }
   ],
   "source": [
    "mark=90\n",
    "result=\"Pass\" if mark>=50 else \"Fail\"\n",
    "result"
   ]
  },
  {
   "cell_type": "code",
   "execution_count": 35,
   "metadata": {},
   "outputs": [
    {
     "data": {
      "text/plain": [
       "'A'"
      ]
     },
     "execution_count": 35,
     "metadata": {},
     "output_type": "execute_result"
    }
   ],
   "source": [
    "mark=90\n",
    "grade = \"A\" if mark>=80 else \"B\" if mark>=65 else \"C\" if mark>=50 else \"F\"\n",
    "grade"
   ]
  },
  {
   "cell_type": "code",
   "execution_count": null,
   "metadata": {},
   "outputs": [],
   "source": []
  }
 ],
 "metadata": {
  "kernelspec": {
   "display_name": "Python 3",
   "language": "python",
   "name": "python3"
  },
  "language_info": {
   "codemirror_mode": {
    "name": "ipython",
    "version": 3
   },
   "file_extension": ".py",
   "mimetype": "text/x-python",
   "name": "python",
   "nbconvert_exporter": "python",
   "pygments_lexer": "ipython3",
   "version": "3.8.5"
  }
 },
 "nbformat": 4,
 "nbformat_minor": 4
}
