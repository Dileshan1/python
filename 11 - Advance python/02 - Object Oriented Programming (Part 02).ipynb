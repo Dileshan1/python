{
 "cells": [
  {
   "cell_type": "markdown",
   "metadata": {},
   "source": [
    "# Class Inheritance (Sub Classes-parent child)"
   ]
  },
  {
   "cell_type": "code",
   "execution_count": 1,
   "metadata": {},
   "outputs": [],
   "source": [
    "class Employee():\n",
    "    \n",
    "    increament=0.5\n",
    "\n",
    "    \n",
    "    def __init__(self,a,b,c,d):\n",
    "        \n",
    "        self.firstname=a \n",
    "        self.lastname=b\n",
    "        self.email=c\n",
    "        self.salary=d\n",
    "        \n",
    "    \n",
    "    def salary_increase(self):\n",
    "        self.salary=self.salary*(1+self.increament)\n",
    "        \n",
    "#Developer is a sub class of Employee\n",
    "class Developer(Employee):\n",
    "    pass"
   ]
  },
  {
   "cell_type": "code",
   "execution_count": 2,
   "metadata": {},
   "outputs": [],
   "source": [
    "dev1 = Employee(\"Dileshan\", \"Prasad\", \"dlsnptrn@gmail.com\", 350000)     \n",
    "dev2 = Developer(\"sajeewa\", \"Dilshan\", \"sajee@gmail.com\", 100000)\n",
    "\n",
    "# we can create object using all class(parent or child)\n",
    "# parent class object has only parent proparty & method\n",
    "# child class object can access parent & child class both classes proparty & method"
   ]
  },
  {
   "cell_type": "code",
   "execution_count": 3,
   "metadata": {},
   "outputs": [
    {
     "data": {
      "text/plain": [
       "False"
      ]
     },
     "execution_count": 3,
     "metadata": {},
     "output_type": "execute_result"
    }
   ],
   "source": [
    "isinstance(dev1,Developer)"
   ]
  },
  {
   "cell_type": "code",
   "execution_count": 4,
   "metadata": {},
   "outputs": [
    {
     "data": {
      "text/plain": [
       "True"
      ]
     },
     "execution_count": 4,
     "metadata": {},
     "output_type": "execute_result"
    }
   ],
   "source": [
    "isinstance(dev1,Employee)"
   ]
  },
  {
   "cell_type": "code",
   "execution_count": 5,
   "metadata": {},
   "outputs": [
    {
     "data": {
      "text/plain": [
       "True"
      ]
     },
     "execution_count": 5,
     "metadata": {},
     "output_type": "execute_result"
    }
   ],
   "source": [
    "isinstance(dev2,Developer)"
   ]
  },
  {
   "cell_type": "code",
   "execution_count": 6,
   "metadata": {},
   "outputs": [
    {
     "data": {
      "text/plain": [
       "True"
      ]
     },
     "execution_count": 6,
     "metadata": {},
     "output_type": "execute_result"
    }
   ],
   "source": [
    "isinstance(dev2,Employee)"
   ]
  },
  {
   "cell_type": "code",
   "execution_count": 7,
   "metadata": {},
   "outputs": [
    {
     "data": {
      "text/plain": [
       "True"
      ]
     },
     "execution_count": 7,
     "metadata": {},
     "output_type": "execute_result"
    }
   ],
   "source": [
    "issubclass(Developer,Employee)"
   ]
  },
  {
   "cell_type": "markdown",
   "metadata": {},
   "source": [
    "**Properties & methods will be accesed according to the method resolution order**"
   ]
  },
  {
   "cell_type": "code",
   "execution_count": 8,
   "metadata": {},
   "outputs": [
    {
     "data": {
      "text/plain": [
       "'dlsnptrn@gmail.com'"
      ]
     },
     "execution_count": 8,
     "metadata": {},
     "output_type": "execute_result"
    }
   ],
   "source": [
    "dev1.email"
   ]
  },
  {
   "cell_type": "code",
   "execution_count": 10,
   "metadata": {},
   "outputs": [
    {
     "data": {
      "text/plain": [
       "{'firstname': 'Dileshan',\n",
       " 'lastname': 'Prasad',\n",
       " 'email': 'dlsnptrn@gmail.com',\n",
       " 'salary': 350000}"
      ]
     },
     "execution_count": 10,
     "metadata": {},
     "output_type": "execute_result"
    }
   ],
   "source": [
    "dev1.__dict__"
   ]
  },
  {
   "cell_type": "code",
   "execution_count": 12,
   "metadata": {},
   "outputs": [
    {
     "data": {
      "text/plain": [
       "{'firstname': 'sajeewa',\n",
       " 'lastname': 'Dilshan',\n",
       " 'email': 'sajee@gmail.com',\n",
       " 'salary': 100000}"
      ]
     },
     "execution_count": 12,
     "metadata": {},
     "output_type": "execute_result"
    }
   ],
   "source": [
    "dev2.__dict__         # child have parent proparty"
   ]
  },
  {
   "cell_type": "code",
   "execution_count": 9,
   "metadata": {},
   "outputs": [
    {
     "name": "stdout",
     "output_type": "stream",
     "text": [
      "Help on class Developer in module __main__:\n",
      "\n",
      "class Developer(Employee)\n",
      " |  Developer(a, b, c, d)\n",
      " |  \n",
      " |  Method resolution order:\n",
      " |      Developer\n",
      " |      Employee\n",
      " |      builtins.object\n",
      " |  \n",
      " |  Methods inherited from Employee:\n",
      " |  \n",
      " |  __init__(self, a, b, c, d)\n",
      " |      Initialize self.  See help(type(self)) for accurate signature.\n",
      " |  \n",
      " |  salary_increase(self)\n",
      " |  \n",
      " |  ----------------------------------------------------------------------\n",
      " |  Data descriptors inherited from Employee:\n",
      " |  \n",
      " |  __dict__\n",
      " |      dictionary for instance variables (if defined)\n",
      " |  \n",
      " |  __weakref__\n",
      " |      list of weak references to the object (if defined)\n",
      " |  \n",
      " |  ----------------------------------------------------------------------\n",
      " |  Data and other attributes inherited from Employee:\n",
      " |  \n",
      " |  increament = 0.5\n",
      "\n"
     ]
    }
   ],
   "source": [
    "help(Developer)        # This will show the method resolution order"
   ]
  },
  {
   "cell_type": "code",
   "execution_count": null,
   "metadata": {},
   "outputs": [],
   "source": [
    "'''\n",
    "Method resolution order:\n",
    " |   1.   Developer\n",
    " |   2.   Employee\n",
    " |   3.   builtins.object'''"
   ]
  },
  {
   "cell_type": "code",
   "execution_count": 14,
   "metadata": {},
   "outputs": [],
   "source": [
    "dev1.salary_increase()"
   ]
  },
  {
   "cell_type": "code",
   "execution_count": 15,
   "metadata": {},
   "outputs": [
    {
     "data": {
      "text/plain": [
       "525000.0"
      ]
     },
     "execution_count": 15,
     "metadata": {},
     "output_type": "execute_result"
    }
   ],
   "source": [
    "dev1.salary"
   ]
  },
  {
   "cell_type": "code",
   "execution_count": 32,
   "metadata": {},
   "outputs": [],
   "source": [
    "# normal employee increment is 0.5, developer increment is 0.8\n",
    "\n",
    "\n",
    "class Employee():\n",
    "    \n",
    "    increament=0.5\n",
    "    \n",
    "    def __init__(self,a,b,c,d):\n",
    "        \n",
    "        self.firstname=a \n",
    "        self.lastname=b\n",
    "        self.email=c\n",
    "        self.salary=d\n",
    "        \n",
    "    def salary_increase(self):\n",
    "        self.salary=self.salary*(1+Employee.increament)       # here we use \"Employee.increament\"\n",
    "        \n",
    "#Developer is a sub class of Employee\n",
    "class Developer(Employee):\n",
    "    increament=0.8"
   ]
  },
  {
   "cell_type": "code",
   "execution_count": 33,
   "metadata": {},
   "outputs": [],
   "source": [
    "dev1 = Employee(\"Dileshan\", \"Prasad\", \"dlsnptrn@gmail.com\", 100000)     \n",
    "dev2 = Developer(\"sajeewa\", \"Dilshan\", \"sajee@gmail.com\", 100000)"
   ]
  },
  {
   "cell_type": "code",
   "execution_count": 34,
   "metadata": {},
   "outputs": [],
   "source": [
    "dev1.salary_increase()\n",
    "dev2.salary_increase()"
   ]
  },
  {
   "cell_type": "code",
   "execution_count": 35,
   "metadata": {},
   "outputs": [
    {
     "name": "stdout",
     "output_type": "stream",
     "text": [
      "0.5\n",
      "0.8\n"
     ]
    }
   ],
   "source": [
    "print(dev1.increament)\n",
    "print(dev2.increament)          # both has different increment, but we use Employee increment for total salary calculation"
   ]
  },
  {
   "cell_type": "code",
   "execution_count": 36,
   "metadata": {},
   "outputs": [
    {
     "data": {
      "text/plain": [
       "150000.0"
      ]
     },
     "execution_count": 36,
     "metadata": {},
     "output_type": "execute_result"
    }
   ],
   "source": [
    "dev1.salary"
   ]
  },
  {
   "cell_type": "code",
   "execution_count": 37,
   "metadata": {},
   "outputs": [
    {
     "data": {
      "text/plain": [
       "150000.0"
      ]
     },
     "execution_count": 37,
     "metadata": {},
     "output_type": "execute_result"
    }
   ],
   "source": [
    "dev2.salary         # same output (not change salary developer.increment is 0.8)\n",
    "                    # reason is we access in Employee.increment in the parent class, therefore we create any child class it access in parent class increment only"
   ]
  },
  {
   "cell_type": "code",
   "execution_count": 38,
   "metadata": {},
   "outputs": [],
   "source": [
    "class Employee():\n",
    "    \n",
    "    increament=0.5\n",
    "    \n",
    "    def __init__(self,a,b,c,d):\n",
    "        \n",
    "        self.firstname=a \n",
    "        self.lastname=b\n",
    "        self.email=c\n",
    "        self.salary=d\n",
    "        \n",
    "    def salary_increase(self):\n",
    "        self.salary=self.salary*(1+self.increament)          # use self.increament, then it access particular object\n",
    "        \n",
    "#Developer is a sub class of Employee\n",
    "class Developer(Employee):\n",
    "    increament=0.8"
   ]
  },
  {
   "cell_type": "code",
   "execution_count": 39,
   "metadata": {},
   "outputs": [],
   "source": [
    "dev1 = Employee(\"Dileshan\", \"Prasad\", \"dlsnptrn@gmail.com\", 100000)     \n",
    "dev2 = Developer(\"sajeewa\", \"Dilshan\", \"sajee@gmail.com\", 100000)"
   ]
  },
  {
   "cell_type": "code",
   "execution_count": 40,
   "metadata": {},
   "outputs": [],
   "source": [
    "dev1.salary_increase()\n",
    "dev2.salary_increase()"
   ]
  },
  {
   "cell_type": "code",
   "execution_count": 41,
   "metadata": {},
   "outputs": [
    {
     "name": "stdout",
     "output_type": "stream",
     "text": [
      "0.5\n",
      "0.8\n"
     ]
    }
   ],
   "source": [
    "print(dev1.increament)\n",
    "print(dev2.increament) "
   ]
  },
  {
   "cell_type": "code",
   "execution_count": 42,
   "metadata": {},
   "outputs": [
    {
     "data": {
      "text/plain": [
       "150000.0"
      ]
     },
     "execution_count": 42,
     "metadata": {},
     "output_type": "execute_result"
    }
   ],
   "source": [
    "dev1.salary"
   ]
  },
  {
   "cell_type": "code",
   "execution_count": 43,
   "metadata": {},
   "outputs": [
    {
     "data": {
      "text/plain": [
       "180000.0"
      ]
     },
     "execution_count": 43,
     "metadata": {},
     "output_type": "execute_result"
    }
   ],
   "source": [
    "dev2.salary            # This will use the modified variable"
   ]
  },
  {
   "cell_type": "markdown",
   "metadata": {},
   "source": [
    "**subclass has there proparty**"
   ]
  },
  {
   "cell_type": "code",
   "execution_count": 76,
   "metadata": {},
   "outputs": [],
   "source": [
    "class Employee():\n",
    "    \n",
    "    increament=0.5\n",
    "    \n",
    "    def __init__(self,a,b,c,d):\n",
    "        \n",
    "        self.firstname=a \n",
    "        self.lastname=b\n",
    "        self.email=c\n",
    "        self.salary=d\n",
    "    \n",
    "    def salary_increase(self):\n",
    "        self.salary=self.salary*(1+self.increament)\n",
    "        \n",
    "#Developer is a sub class of Employee\n",
    "class Developer(Employee):\n",
    "    increament=0.8\n",
    "    \n",
    "    def __init__(self,a,b,c,d,e,f):\n",
    "        super().__init__(a,b,c,d)\n",
    "        #Employee.__init__(self,a,b,c,d)\n",
    "        self.language=e\n",
    "        self.experience=f"
   ]
  },
  {
   "cell_type": "code",
   "execution_count": 77,
   "metadata": {},
   "outputs": [],
   "source": [
    "emp1 = Employee(\"Dileshan\", \"Prasad\", \"dile@gmail.com\", 350000)                       # parent class object (parent has only 4 proparty)\n",
    "\n",
    "dev1 = Developer(\"Sajeewa\", \"Dilshan\", \"sajee@hotgmail.com\", 150000, \"python\", 2)     # child class object (child has additional two propartys)"
   ]
  },
  {
   "cell_type": "code",
   "execution_count": 78,
   "metadata": {
    "scrolled": false
   },
   "outputs": [
    {
     "data": {
      "text/plain": [
       "{'firstname': 'Dileshan',\n",
       " 'lastname': 'Prasad',\n",
       " 'email': 'dile@gmail.com',\n",
       " 'salary': 350000}"
      ]
     },
     "execution_count": 78,
     "metadata": {},
     "output_type": "execute_result"
    }
   ],
   "source": [
    "emp1.__dict__"
   ]
  },
  {
   "cell_type": "code",
   "execution_count": 79,
   "metadata": {
    "scrolled": false
   },
   "outputs": [
    {
     "data": {
      "text/plain": [
       "{'firstname': 'Sajeewa',\n",
       " 'lastname': 'Dilshan',\n",
       " 'email': 'sajee@hotgmail.com',\n",
       " 'salary': 150000,\n",
       " 'language': 'python',\n",
       " 'experience': 2}"
      ]
     },
     "execution_count": 79,
     "metadata": {},
     "output_type": "execute_result"
    }
   ],
   "source": [
    "dev1.__dict__             # there has more property"
   ]
  },
  {
   "cell_type": "code",
   "execution_count": 80,
   "metadata": {
    "scrolled": false
   },
   "outputs": [
    {
     "data": {
      "text/plain": [
       "'sajee@hotgmail.com'"
      ]
     },
     "execution_count": 80,
     "metadata": {},
     "output_type": "execute_result"
    }
   ],
   "source": [
    "dev1.email"
   ]
  },
  {
   "cell_type": "code",
   "execution_count": 48,
   "metadata": {
    "scrolled": false
   },
   "outputs": [
    {
     "data": {
      "text/plain": [
       "2"
      ]
     },
     "execution_count": 48,
     "metadata": {},
     "output_type": "execute_result"
    }
   ],
   "source": [
    "dev1.experience"
   ]
  },
  {
   "cell_type": "code",
   "execution_count": 63,
   "metadata": {
    "scrolled": true
   },
   "outputs": [
    {
     "ename": "AttributeError",
     "evalue": "'Employee' object has no attribute 'language'",
     "output_type": "error",
     "traceback": [
      "\u001b[1;31m---------------------------------------------------------------------------\u001b[0m",
      "\u001b[1;31mAttributeError\u001b[0m                            Traceback (most recent call last)",
      "\u001b[1;32m<ipython-input-63-a2f1da2f0c77>\u001b[0m in \u001b[0;36m<module>\u001b[1;34m\u001b[0m\n\u001b[1;32m----> 1\u001b[1;33m \u001b[0memp1\u001b[0m\u001b[1;33m.\u001b[0m\u001b[0mlanguage\u001b[0m     \u001b[1;31m# emp1 (parent class object) hasn't this kind of proparty\u001b[0m\u001b[1;33m\u001b[0m\u001b[1;33m\u001b[0m\u001b[0m\n\u001b[0m",
      "\u001b[1;31mAttributeError\u001b[0m: 'Employee' object has no attribute 'language'"
     ]
    }
   ],
   "source": [
    "emp1.language     # emp1 (parent class object) hasn't this kind of proparty"
   ]
  },
  {
   "cell_type": "code",
   "execution_count": 52,
   "metadata": {},
   "outputs": [],
   "source": [
    "# create new class for technical leader\n",
    "# technical leader is also developer\n",
    "# add technical leader\n",
    "# remove technical leader\n",
    "\n",
    "\n",
    "class Employee():\n",
    "    \n",
    "    increament=0.5\n",
    "\n",
    "    def __init__(self,a,b,c,d):\n",
    "        \n",
    "        self.firstname=a \n",
    "        self.lastname=b\n",
    "        self.email=c\n",
    "        self.salary=d\n",
    "    \n",
    "    def salary_increase(self):\n",
    "        self.salary=self.salary*(1+self.increament)\n",
    "        \n",
    "#Developer is a sub class of Employee\n",
    "class Developer(Employee):\n",
    "    increament=0.8\n",
    "    \n",
    "    def __init__(self,a,b,c,d,e,f):\n",
    "        super().__init__(a,b,c,d)\n",
    "        #Employee.__init__(self,a,b,c,d)\n",
    "        self.language=e\n",
    "        self.experience=f\n",
    "        \n",
    "class Tech_Lead(Employee):\n",
    "    \n",
    "    def __init__(self,a,b,c,d,p=\"No team\"):          # here you should use developer for \"p\"\n",
    "        super().__init__(a,b,c,d)\n",
    "        self.team=p\n",
    "        \n",
    "    def new_developer(self,x):\n",
    "        \n",
    "        if not isinstance(self.team,str):\n",
    "            if x not in self.team:\n",
    "                self.team.append(x)\n",
    "            else:\n",
    "                print(\"This developer is already a member\")\n",
    "        else:\n",
    "            self.team=[x]\n",
    "            \n",
    "    def remove_developer(self,y):\n",
    "        if not isinstance(self.team,str):\n",
    "            if y in self.team:\n",
    "                self.team.remove(y)\n",
    "            else:\n",
    "                print(\"This developer is not a member\")\n",
    "        else:\n",
    "            print(\"The team has no developers to remove\")\n",
    "            \n",
    "    def show_team(self):\n",
    "        if not isinstance(self.team,str):\n",
    "            for dev in self.team:\n",
    "                print(dev.firstname+\" \"+dev.lastname)\n",
    "        else:\n",
    "            return self.team"
   ]
  },
  {
   "cell_type": "code",
   "execution_count": 64,
   "metadata": {},
   "outputs": [],
   "source": [
    "dev1=Developer(\"Sam\",\"Taylor\",\"sam@gmail.com\",10000,\"Python\",20)\n",
    "dev2=Developer(\"Kane\",\"Taylor\",\"kane@gmail.com\",10000,\"Java\",10)\n",
    "dev3=Developer(\"Julia\",\"James\",\"julia@gmail.com\",10000,\"C++\",30)"
   ]
  },
  {
   "cell_type": "code",
   "execution_count": 65,
   "metadata": {},
   "outputs": [],
   "source": [
    "tl1=Tech_Lead(\"Pale\",\"Samson\",\"pale@gmail.com\",20000,[dev1,dev2])\n",
    "tl2=Tech_Lead(\"Jane\",\"Francis\",\"jane@gmail.com\",20000)"
   ]
  },
  {
   "cell_type": "code",
   "execution_count": 66,
   "metadata": {
    "scrolled": true
   },
   "outputs": [
    {
     "data": {
      "text/plain": [
       "[<__main__.Developer at 0x2b46b1152e0>, <__main__.Developer at 0x2b46adaa9d0>]"
      ]
     },
     "execution_count": 66,
     "metadata": {},
     "output_type": "execute_result"
    }
   ],
   "source": [
    "tl1.team"
   ]
  },
  {
   "cell_type": "code",
   "execution_count": 67,
   "metadata": {
    "scrolled": true
   },
   "outputs": [
    {
     "data": {
      "text/plain": [
       "'No team'"
      ]
     },
     "execution_count": 67,
     "metadata": {},
     "output_type": "execute_result"
    }
   ],
   "source": [
    "tl2.team"
   ]
  },
  {
   "cell_type": "code",
   "execution_count": 68,
   "metadata": {
    "scrolled": false
   },
   "outputs": [
    {
     "name": "stdout",
     "output_type": "stream",
     "text": [
      "Sam Taylor\n",
      "Kane Taylor\n"
     ]
    }
   ],
   "source": [
    "tl1.show_team()"
   ]
  },
  {
   "cell_type": "code",
   "execution_count": 69,
   "metadata": {
    "scrolled": true
   },
   "outputs": [
    {
     "data": {
      "text/plain": [
       "'No team'"
      ]
     },
     "execution_count": 69,
     "metadata": {},
     "output_type": "execute_result"
    }
   ],
   "source": [
    "tl2.show_team()"
   ]
  },
  {
   "cell_type": "code",
   "execution_count": 70,
   "metadata": {
    "scrolled": true
   },
   "outputs": [
    {
     "name": "stdout",
     "output_type": "stream",
     "text": [
      "Sam Taylor\n",
      "Kane Taylor\n",
      "Julia James\n"
     ]
    }
   ],
   "source": [
    "tl1.new_developer(dev3)\n",
    "tl1.show_team()"
   ]
  },
  {
   "cell_type": "code",
   "execution_count": 71,
   "metadata": {
    "scrolled": false
   },
   "outputs": [
    {
     "name": "stdout",
     "output_type": "stream",
     "text": [
      "Sam Taylor\n"
     ]
    }
   ],
   "source": [
    "tl2.new_developer(dev1)\n",
    "tl2.show_team()"
   ]
  },
  {
   "cell_type": "code",
   "execution_count": 72,
   "metadata": {
    "scrolled": true
   },
   "outputs": [
    {
     "name": "stdout",
     "output_type": "stream",
     "text": [
      "Sam Taylor\n",
      "Kane Taylor\n"
     ]
    }
   ],
   "source": [
    "tl2.new_developer(dev2)\n",
    "tl2.show_team()"
   ]
  },
  {
   "cell_type": "code",
   "execution_count": 73,
   "metadata": {
    "scrolled": true
   },
   "outputs": [
    {
     "name": "stdout",
     "output_type": "stream",
     "text": [
      "Kane Taylor\n",
      "Julia James\n"
     ]
    }
   ],
   "source": [
    "tl1.remove_developer(dev1)\n",
    "tl1.show_team()"
   ]
  },
  {
   "cell_type": "markdown",
   "metadata": {},
   "source": [
    "# Magic (Dunder) Methods"
   ]
  },
  {
   "cell_type": "code",
   "execution_count": 81,
   "metadata": {},
   "outputs": [],
   "source": [
    "class Employee():\n",
    "    \n",
    "    increament=0.5 #This is a class variable\n",
    "    \n",
    "    def __init__(self,a,b,c,d):\n",
    "        \n",
    "        #These are instance variables\n",
    "        self.firstname=a \n",
    "        self.lastname=b\n",
    "        self.email=c\n",
    "        self.salary=d\n",
    "\n",
    "    def salary_increase(self):\n",
    "        self.salary=self.salary*(1+self.increament)\n",
    "    \n",
    "    def __repr__(self):\n",
    "        return \"Email address of {} is {}\".format(self.firstname,self.email)\n",
    "    \n",
    "    def __str__(self):\n",
    "        return \"{} : {}\".format(self.firstname,self.email)\n",
    "    \n",
    "    def __add__(self,other):\n",
    "        return self.salary+other.salary\n",
    "    \n",
    "    def __sub__(self,other):\n",
    "        return self.salary-other.salary\n",
    "    \n",
    "    def __len__(self):\n",
    "        return len(self.email)"
   ]
  },
  {
   "cell_type": "code",
   "execution_count": 82,
   "metadata": {},
   "outputs": [],
   "source": [
    "emp1=Employee(\"Sam\",\"Taylor\",\"sam@gmail.com\",10000)\n",
    "emp2=Employee(\"Jane\",\"Jacob\",\"jane@gmail.com\",20000)"
   ]
  },
  {
   "cell_type": "code",
   "execution_count": 83,
   "metadata": {},
   "outputs": [
    {
     "data": {
      "text/plain": [
       "Email address of Sam is sam@gmail.com"
      ]
     },
     "execution_count": 83,
     "metadata": {},
     "output_type": "execute_result"
    }
   ],
   "source": [
    "emp1"
   ]
  },
  {
   "cell_type": "code",
   "execution_count": 84,
   "metadata": {},
   "outputs": [
    {
     "data": {
      "text/plain": [
       "'Email address of Sam is sam@gmail.com'"
      ]
     },
     "execution_count": 84,
     "metadata": {},
     "output_type": "execute_result"
    }
   ],
   "source": [
    "repr(emp1)"
   ]
  },
  {
   "cell_type": "code",
   "execution_count": 87,
   "metadata": {},
   "outputs": [
    {
     "data": {
      "text/plain": [
       "'Email address of Sam is sam@gmail.com'"
      ]
     },
     "execution_count": 87,
     "metadata": {},
     "output_type": "execute_result"
    }
   ],
   "source": [
    "emp1.__repr__()"
   ]
  },
  {
   "cell_type": "code",
   "execution_count": 88,
   "metadata": {},
   "outputs": [
    {
     "data": {
      "text/plain": [
       "'Sam : sam@gmail.com'"
      ]
     },
     "execution_count": 88,
     "metadata": {},
     "output_type": "execute_result"
    }
   ],
   "source": [
    "str(emp1)"
   ]
  },
  {
   "cell_type": "code",
   "execution_count": 89,
   "metadata": {},
   "outputs": [
    {
     "data": {
      "text/plain": [
       "13"
      ]
     },
     "execution_count": 89,
     "metadata": {},
     "output_type": "execute_result"
    }
   ],
   "source": [
    "len(emp1)"
   ]
  },
  {
   "cell_type": "code",
   "execution_count": 90,
   "metadata": {},
   "outputs": [
    {
     "data": {
      "text/plain": [
       "30000"
      ]
     },
     "execution_count": 90,
     "metadata": {},
     "output_type": "execute_result"
    }
   ],
   "source": [
    "emp1+emp2        # __add__ dunder method will come to the action"
   ]
  },
  {
   "cell_type": "code",
   "execution_count": 91,
   "metadata": {},
   "outputs": [
    {
     "data": {
      "text/plain": [
       "-10000"
      ]
     },
     "execution_count": 91,
     "metadata": {},
     "output_type": "execute_result"
    }
   ],
   "source": [
    "emp1-emp2"
   ]
  },
  {
   "cell_type": "code",
   "execution_count": 95,
   "metadata": {},
   "outputs": [
    {
     "ename": "TypeError",
     "evalue": "unsupported operand type(s) for *: 'Employee' and 'Employee'",
     "output_type": "error",
     "traceback": [
      "\u001b[1;31m---------------------------------------------------------------------------\u001b[0m",
      "\u001b[1;31mTypeError\u001b[0m                                 Traceback (most recent call last)",
      "\u001b[1;32m<ipython-input-95-73a9f1c7a928>\u001b[0m in \u001b[0;36m<module>\u001b[1;34m\u001b[0m\n\u001b[1;32m----> 1\u001b[1;33m \u001b[0memp1\u001b[0m\u001b[1;33m*\u001b[0m\u001b[0memp2\u001b[0m\u001b[1;33m\u001b[0m\u001b[1;33m\u001b[0m\u001b[0m\n\u001b[0m",
      "\u001b[1;31mTypeError\u001b[0m: unsupported operand type(s) for *: 'Employee' and 'Employee'"
     ]
    }
   ],
   "source": [
    "emp1*emp2             # there has no function for multification"
   ]
  },
  {
   "cell_type": "code",
   "execution_count": 92,
   "metadata": {},
   "outputs": [
    {
     "data": {
      "text/plain": [
       "'Email address of Sam is sam@gmail.com'"
      ]
     },
     "execution_count": 92,
     "metadata": {},
     "output_type": "execute_result"
    }
   ],
   "source": [
    "emp1.__repr__()"
   ]
  },
  {
   "cell_type": "code",
   "execution_count": 93,
   "metadata": {},
   "outputs": [
    {
     "data": {
      "text/plain": [
       "'Sam : sam@gmail.com'"
      ]
     },
     "execution_count": 93,
     "metadata": {},
     "output_type": "execute_result"
    }
   ],
   "source": [
    "emp1.__str__()"
   ]
  },
  {
   "cell_type": "code",
   "execution_count": 94,
   "metadata": {},
   "outputs": [
    {
     "data": {
      "text/plain": [
       "13"
      ]
     },
     "execution_count": 94,
     "metadata": {},
     "output_type": "execute_result"
    }
   ],
   "source": [
    "emp1.__len__()"
   ]
  },
  {
   "cell_type": "markdown",
   "metadata": {},
   "source": [
    "# Property Decorators - Getters, Setters, and Deleters"
   ]
  },
  {
   "cell_type": "markdown",
   "metadata": {},
   "source": [
    "# Getter\n",
    "**function convert to property**"
   ]
  },
  {
   "cell_type": "code",
   "execution_count": 96,
   "metadata": {},
   "outputs": [],
   "source": [
    "class Employee():\n",
    "    \n",
    "    def __init__(self,a,b):\n",
    "\n",
    "        self.firstname=a \n",
    "        self.lastname=b\n",
    "        self.email=a.lower()+\".\"+b.lower()+\"@gmail.com\"\n",
    "        \n",
    "    def fullname(self):\n",
    "        return \"{} {}\".format(self.firstname,self.lastname)"
   ]
  },
  {
   "cell_type": "code",
   "execution_count": 97,
   "metadata": {},
   "outputs": [],
   "source": [
    "emp1=Employee(\"James\",\"Bond\")"
   ]
  },
  {
   "cell_type": "code",
   "execution_count": 98,
   "metadata": {},
   "outputs": [
    {
     "data": {
      "text/plain": [
       "'James'"
      ]
     },
     "execution_count": 98,
     "metadata": {},
     "output_type": "execute_result"
    }
   ],
   "source": [
    "emp1.firstname"
   ]
  },
  {
   "cell_type": "code",
   "execution_count": 99,
   "metadata": {},
   "outputs": [
    {
     "data": {
      "text/plain": [
       "'Bond'"
      ]
     },
     "execution_count": 99,
     "metadata": {},
     "output_type": "execute_result"
    }
   ],
   "source": [
    "emp1.lastname"
   ]
  },
  {
   "cell_type": "code",
   "execution_count": 100,
   "metadata": {},
   "outputs": [
    {
     "data": {
      "text/plain": [
       "'james.bond@gmail.com'"
      ]
     },
     "execution_count": 100,
     "metadata": {},
     "output_type": "execute_result"
    }
   ],
   "source": [
    "emp1.email"
   ]
  },
  {
   "cell_type": "code",
   "execution_count": 101,
   "metadata": {},
   "outputs": [
    {
     "data": {
      "text/plain": [
       "'James Bond'"
      ]
     },
     "execution_count": 101,
     "metadata": {},
     "output_type": "execute_result"
    }
   ],
   "source": [
    "emp1.fullname()"
   ]
  },
  {
   "cell_type": "code",
   "execution_count": 102,
   "metadata": {},
   "outputs": [],
   "source": [
    "emp1.firstname=\"Peter\""
   ]
  },
  {
   "cell_type": "code",
   "execution_count": 103,
   "metadata": {},
   "outputs": [
    {
     "data": {
      "text/plain": [
       "'Peter'"
      ]
     },
     "execution_count": 103,
     "metadata": {},
     "output_type": "execute_result"
    }
   ],
   "source": [
    "emp1.firstname"
   ]
  },
  {
   "cell_type": "code",
   "execution_count": 104,
   "metadata": {},
   "outputs": [
    {
     "data": {
      "text/plain": [
       "'james.bond@gmail.com'"
      ]
     },
     "execution_count": 104,
     "metadata": {},
     "output_type": "execute_result"
    }
   ],
   "source": [
    "emp1.email           # Still this is the first name given"
   ]
  },
  {
   "cell_type": "code",
   "execution_count": 105,
   "metadata": {},
   "outputs": [],
   "source": [
    "class Employee():\n",
    "    \n",
    "    def __init__(self,a,b):\n",
    "\n",
    "        self.firstname=a \n",
    "        self.lastname=b\n",
    "    \n",
    "    @property\n",
    "    def fullname(self):\n",
    "        return \"{} {}\".format(self.firstname,self.lastname)\n",
    "    \n",
    "    @property\n",
    "    def email(self):\n",
    "        return \"{}.{}@gmail.com\".format(self.firstname.lower(),self.lastname.lower())"
   ]
  },
  {
   "cell_type": "code",
   "execution_count": 106,
   "metadata": {},
   "outputs": [],
   "source": [
    "emp1=Employee(\"James\",\"Bond\")"
   ]
  },
  {
   "cell_type": "code",
   "execution_count": 107,
   "metadata": {},
   "outputs": [
    {
     "data": {
      "text/plain": [
       "'James'"
      ]
     },
     "execution_count": 107,
     "metadata": {},
     "output_type": "execute_result"
    }
   ],
   "source": [
    "emp1.firstname"
   ]
  },
  {
   "cell_type": "code",
   "execution_count": 108,
   "metadata": {},
   "outputs": [
    {
     "data": {
      "text/plain": [
       "'james.bond@gmail.com'"
      ]
     },
     "execution_count": 108,
     "metadata": {},
     "output_type": "execute_result"
    }
   ],
   "source": [
    "emp1.email                 # no need to (), now it os property"
   ]
  },
  {
   "cell_type": "code",
   "execution_count": 109,
   "metadata": {},
   "outputs": [],
   "source": [
    "emp1.firstname=\"Peter\""
   ]
  },
  {
   "cell_type": "code",
   "execution_count": 110,
   "metadata": {},
   "outputs": [
    {
     "data": {
      "text/plain": [
       "'peter.bond@gmail.com'"
      ]
     },
     "execution_count": 110,
     "metadata": {},
     "output_type": "execute_result"
    }
   ],
   "source": [
    "emp1.email                # now it change"
   ]
  },
  {
   "cell_type": "code",
   "execution_count": 111,
   "metadata": {},
   "outputs": [
    {
     "data": {
      "text/plain": [
       "'Peter Bond'"
      ]
     },
     "execution_count": 111,
     "metadata": {},
     "output_type": "execute_result"
    }
   ],
   "source": [
    "emp1.fullname"
   ]
  },
  {
   "cell_type": "markdown",
   "metadata": {},
   "source": [
    "# Setter"
   ]
  },
  {
   "cell_type": "code",
   "execution_count": 112,
   "metadata": {},
   "outputs": [],
   "source": [
    "class Employee():\n",
    "    \n",
    "    def __init__(self,a,b):\n",
    "\n",
    "        self.firstname=a \n",
    "        self.lastname=b\n",
    "    \n",
    "    @property\n",
    "    def fullname(self):\n",
    "        return \"{} {}\".format(self.firstname,self.lastname)\n",
    "    \n",
    "    @property\n",
    "    def email(self):\n",
    "        return \"{}.{}@gmail.com\".format(self.firstname.lower(),self.lastname.lower())\n",
    "    \n",
    "    @fullname.setter    \n",
    "    def fullname(self,name):                     # set firstName & lastName\n",
    "        self.firstname=name.split(\" \")[0]\n",
    "        self.lastname=name.split(\" \")[1]"
   ]
  },
  {
   "cell_type": "code",
   "execution_count": 113,
   "metadata": {},
   "outputs": [],
   "source": [
    "emp1=Employee(\"James\",\"Bond\")"
   ]
  },
  {
   "cell_type": "code",
   "execution_count": 114,
   "metadata": {},
   "outputs": [
    {
     "data": {
      "text/plain": [
       "'James Bond'"
      ]
     },
     "execution_count": 114,
     "metadata": {},
     "output_type": "execute_result"
    }
   ],
   "source": [
    "emp1.fullname"
   ]
  },
  {
   "cell_type": "code",
   "execution_count": 117,
   "metadata": {},
   "outputs": [],
   "source": [
    "emp1.fullname=\"Dileshan Prasad\""
   ]
  },
  {
   "cell_type": "code",
   "execution_count": 118,
   "metadata": {},
   "outputs": [
    {
     "data": {
      "text/plain": [
       "'Dileshan'"
      ]
     },
     "execution_count": 118,
     "metadata": {},
     "output_type": "execute_result"
    }
   ],
   "source": [
    "emp1.firstname"
   ]
  },
  {
   "cell_type": "code",
   "execution_count": 119,
   "metadata": {},
   "outputs": [
    {
     "data": {
      "text/plain": [
       "'Prasad'"
      ]
     },
     "execution_count": 119,
     "metadata": {},
     "output_type": "execute_result"
    }
   ],
   "source": [
    "emp1.lastname"
   ]
  },
  {
   "cell_type": "code",
   "execution_count": 120,
   "metadata": {},
   "outputs": [
    {
     "data": {
      "text/plain": [
       "'dileshan.prasad@gmail.com'"
      ]
     },
     "execution_count": 120,
     "metadata": {},
     "output_type": "execute_result"
    }
   ],
   "source": [
    "emp1.email"
   ]
  },
  {
   "cell_type": "code",
   "execution_count": 121,
   "metadata": {},
   "outputs": [],
   "source": [
    "emp1.fullname=\"Prasad Karunarathna\""
   ]
  },
  {
   "cell_type": "code",
   "execution_count": 122,
   "metadata": {},
   "outputs": [
    {
     "data": {
      "text/plain": [
       "'prasad.karunarathna@gmail.com'"
      ]
     },
     "execution_count": 122,
     "metadata": {},
     "output_type": "execute_result"
    }
   ],
   "source": [
    "emp1.email"
   ]
  },
  {
   "cell_type": "markdown",
   "metadata": {},
   "source": [
    "# Deleter"
   ]
  },
  {
   "cell_type": "code",
   "execution_count": 151,
   "metadata": {},
   "outputs": [],
   "source": [
    "# if you delete fullName, at the same time you must delete it's fist and last name\n",
    "\n",
    "class Employee():\n",
    "    \n",
    "    def __init__(self,a,b):\n",
    "\n",
    "        self.firstname=a \n",
    "        self.lastname=b\n",
    "    \n",
    "    @property\n",
    "    def fullname(self):\n",
    "        return \"{} {}\".format(self.firstname,self.lastname)\n",
    "    \n",
    "    @property\n",
    "    def email(self):\n",
    "        return \"{}.{}@gmail.com\".format(self.firstname,self.lastname)\n",
    "                                     # None hasn't lower case, therefore we remove that part\n",
    "    @fullname.setter\n",
    "    def fullname(self,name):\n",
    "        self.firstname=name.split(\" \")[0]\n",
    "        self.lastname=name.split(\" \")[1]\n",
    "        \n",
    "    @fullname.deleter\n",
    "    def fullname(self):\n",
    "        self.firstname=None\n",
    "        self.lastname=None"
   ]
  },
  {
   "cell_type": "code",
   "execution_count": 152,
   "metadata": {},
   "outputs": [],
   "source": [
    "emp1=Employee(\"James\",\"Bond\")"
   ]
  },
  {
   "cell_type": "code",
   "execution_count": 153,
   "metadata": {},
   "outputs": [
    {
     "data": {
      "text/plain": [
       "'James'"
      ]
     },
     "execution_count": 153,
     "metadata": {},
     "output_type": "execute_result"
    }
   ],
   "source": [
    "emp1.firstname"
   ]
  },
  {
   "cell_type": "code",
   "execution_count": 154,
   "metadata": {},
   "outputs": [
    {
     "data": {
      "text/plain": [
       "'Bond'"
      ]
     },
     "execution_count": 154,
     "metadata": {},
     "output_type": "execute_result"
    }
   ],
   "source": [
    "emp1.lastname"
   ]
  },
  {
   "cell_type": "code",
   "execution_count": 155,
   "metadata": {},
   "outputs": [
    {
     "data": {
      "text/plain": [
       "'James Bond'"
      ]
     },
     "execution_count": 155,
     "metadata": {},
     "output_type": "execute_result"
    }
   ],
   "source": [
    "emp1.fullname"
   ]
  },
  {
   "cell_type": "code",
   "execution_count": 156,
   "metadata": {},
   "outputs": [],
   "source": [
    "del emp1.fullname"
   ]
  },
  {
   "cell_type": "code",
   "execution_count": 157,
   "metadata": {},
   "outputs": [
    {
     "data": {
      "text/plain": [
       "'None None'"
      ]
     },
     "execution_count": 157,
     "metadata": {},
     "output_type": "execute_result"
    }
   ],
   "source": [
    "emp1.fullname"
   ]
  },
  {
   "cell_type": "code",
   "execution_count": 158,
   "metadata": {},
   "outputs": [],
   "source": [
    "emp1.firstname"
   ]
  },
  {
   "cell_type": "code",
   "execution_count": 159,
   "metadata": {},
   "outputs": [
    {
     "data": {
      "text/plain": [
       "'None.None@gmail.com'"
      ]
     },
     "execution_count": 159,
     "metadata": {},
     "output_type": "execute_result"
    }
   ],
   "source": [
    "emp1.email          # haven't fullName and lastName"
   ]
  },
  {
   "cell_type": "markdown",
   "metadata": {},
   "source": [
    "# Encapsulation (Restricting Access)\n",
    "**private variable & private method**"
   ]
  },
  {
   "cell_type": "code",
   "execution_count": 171,
   "metadata": {},
   "outputs": [],
   "source": [
    "class Employee():\n",
    "\n",
    "    def __init__(self,a,b,c,d,e):\n",
    "        \n",
    "        self.firstname=a \n",
    "        self.lastname=b\n",
    "        self.email=c\n",
    "        self.salary=d\n",
    "        self.__workex=e         # Privare attribute - private attribute (you can hide this attribute)\n",
    "                                # you can't acces this you should create getter & setter for access private variable\n",
    "            \n",
    "    def get_workex(self):           # getter\n",
    "        return self.__workex\n",
    "    \n",
    "    def set_workex(self,y):         # setter\n",
    "        self.__workex=y\n",
    "        \n",
    "    def __increment(self):          # private method\n",
    "        return self.salary+10000\n",
    "    \n",
    "    def show_details(self):         # using get method you can get private method values\n",
    "        print(\"{}'s salary is {}'\".format(self.firstname,self.__increment()))"
   ]
  },
  {
   "cell_type": "code",
   "execution_count": 172,
   "metadata": {},
   "outputs": [],
   "source": [
    "emp1=Employee(\"Sam\",\"Taylor\",\"sam@gmail.com\",10000,3)"
   ]
  },
  {
   "cell_type": "code",
   "execution_count": 162,
   "metadata": {},
   "outputs": [
    {
     "data": {
      "text/plain": [
       "{'firstname': 'Sam',\n",
       " 'lastname': 'Taylor',\n",
       " 'email': 'sam@gmail.com',\n",
       " 'salary': 10000,\n",
       " '_Employee__workex': 3}"
      ]
     },
     "execution_count": 162,
     "metadata": {},
     "output_type": "execute_result"
    }
   ],
   "source": [
    "emp1.__dict__                    # here haven't \"__work_Ex\", therefore you cannot access it"
   ]
  },
  {
   "cell_type": "code",
   "execution_count": 163,
   "metadata": {},
   "outputs": [
    {
     "data": {
      "text/plain": [
       "'Sam'"
      ]
     },
     "execution_count": 163,
     "metadata": {},
     "output_type": "execute_result"
    }
   ],
   "source": [
    "emp1.firstname"
   ]
  },
  {
   "cell_type": "code",
   "execution_count": 164,
   "metadata": {},
   "outputs": [
    {
     "ename": "AttributeError",
     "evalue": "'Employee' object has no attribute '__workex'",
     "output_type": "error",
     "traceback": [
      "\u001b[1;31m---------------------------------------------------------------------------\u001b[0m",
      "\u001b[1;31mAttributeError\u001b[0m                            Traceback (most recent call last)",
      "\u001b[1;32m<ipython-input-164-1808b153c7c0>\u001b[0m in \u001b[0;36m<module>\u001b[1;34m\u001b[0m\n\u001b[1;32m----> 1\u001b[1;33m \u001b[0memp1\u001b[0m\u001b[1;33m.\u001b[0m\u001b[0m__workex\u001b[0m\u001b[1;33m\u001b[0m\u001b[1;33m\u001b[0m\u001b[0m\n\u001b[0m",
      "\u001b[1;31mAttributeError\u001b[0m: 'Employee' object has no attribute '__workex'"
     ]
    }
   ],
   "source": [
    "emp1.__workex            # no property named \"__workex\""
   ]
  },
  {
   "cell_type": "code",
   "execution_count": 165,
   "metadata": {},
   "outputs": [
    {
     "data": {
      "text/plain": [
       "3"
      ]
     },
     "execution_count": 165,
     "metadata": {},
     "output_type": "execute_result"
    }
   ],
   "source": [
    "emp1.get_workex()"
   ]
  },
  {
   "cell_type": "code",
   "execution_count": 166,
   "metadata": {},
   "outputs": [],
   "source": [
    "emp1.set_workex(10)"
   ]
  },
  {
   "cell_type": "code",
   "execution_count": 167,
   "metadata": {},
   "outputs": [
    {
     "data": {
      "text/plain": [
       "10"
      ]
     },
     "execution_count": 167,
     "metadata": {},
     "output_type": "execute_result"
    }
   ],
   "source": [
    "emp1.get_workex()"
   ]
  },
  {
   "cell_type": "code",
   "execution_count": 168,
   "metadata": {},
   "outputs": [
    {
     "ename": "AttributeError",
     "evalue": "'Employee' object has no attribute '__increament'",
     "output_type": "error",
     "traceback": [
      "\u001b[1;31m---------------------------------------------------------------------------\u001b[0m",
      "\u001b[1;31mAttributeError\u001b[0m                            Traceback (most recent call last)",
      "\u001b[1;32m<ipython-input-168-77af6c27e5f1>\u001b[0m in \u001b[0;36m<module>\u001b[1;34m\u001b[0m\n\u001b[1;32m----> 1\u001b[1;33m \u001b[0memp1\u001b[0m\u001b[1;33m.\u001b[0m\u001b[0m__increament\u001b[0m\u001b[1;33m(\u001b[0m\u001b[1;33m)\u001b[0m\u001b[1;33m\u001b[0m\u001b[1;33m\u001b[0m\u001b[0m\n\u001b[0m",
      "\u001b[1;31mAttributeError\u001b[0m: 'Employee' object has no attribute '__increament'"
     ]
    }
   ],
   "source": [
    "emp1.__increament()            # this is private method, you can't access it"
   ]
  },
  {
   "cell_type": "code",
   "execution_count": 169,
   "metadata": {
    "scrolled": true
   },
   "outputs": [
    {
     "name": "stdout",
     "output_type": "stream",
     "text": [
      "Sam's salary is 20000'\n"
     ]
    }
   ],
   "source": [
    "emp1.show_details()             # adding 10000 for salary in hidden method"
   ]
  },
  {
   "cell_type": "code",
   "execution_count": 170,
   "metadata": {},
   "outputs": [
    {
     "data": {
      "text/plain": [
       "10000"
      ]
     },
     "execution_count": 170,
     "metadata": {},
     "output_type": "execute_result"
    }
   ],
   "source": [
    "emp1.salary"
   ]
  },
  {
   "cell_type": "markdown",
   "metadata": {},
   "source": [
    "# Polymorphism\n",
    "**different classes have same name methods**"
   ]
  },
  {
   "cell_type": "code",
   "execution_count": 173,
   "metadata": {},
   "outputs": [],
   "source": [
    "class Software():\n",
    "    \n",
    "    def __init__(self,p):\n",
    "        self.price=p\n",
    "    \n",
    "    def show_price(self):\n",
    "        print(\"This software is USD {}\".format(self.price))\n",
    "        \n",
    "        \n",
    "class Hardware():\n",
    "    \n",
    "    def __init__(self,p):\n",
    "        self.price=p\n",
    "    \n",
    "    def show_price(self):\n",
    "        print(\"This hardware is USD {}\".format(self.price))"
   ]
  },
  {
   "cell_type": "code",
   "execution_count": 174,
   "metadata": {},
   "outputs": [],
   "source": [
    "item1=Software(1000)\n",
    "item2=Hardware(2000)"
   ]
  },
  {
   "cell_type": "code",
   "execution_count": 175,
   "metadata": {},
   "outputs": [
    {
     "name": "stdout",
     "output_type": "stream",
     "text": [
      "This software is USD 1000\n"
     ]
    }
   ],
   "source": [
    "item1.show_price()"
   ]
  },
  {
   "cell_type": "code",
   "execution_count": 176,
   "metadata": {},
   "outputs": [
    {
     "name": "stdout",
     "output_type": "stream",
     "text": [
      "This hardware is USD 2000\n"
     ]
    }
   ],
   "source": [
    "item2.show_price()"
   ]
  },
  {
   "cell_type": "markdown",
   "metadata": {},
   "source": [
    "# Method Overloading (Not Available in Python)"
   ]
  },
  {
   "cell_type": "markdown",
   "metadata": {},
   "source": [
    "Method Overloading is not available in Python. So alternative approaches can be used as possible."
   ]
  },
  {
   "cell_type": "markdown",
   "metadata": {},
   "source": [
    "**Overloading-different method has same name, those methods are in one class**"
   ]
  },
  {
   "cell_type": "code",
   "execution_count": 177,
   "metadata": {},
   "outputs": [],
   "source": [
    "class Calculations():\n",
    "    \n",
    "    def adding(self,a=0,b=0,c=0,d=0,e=0):\n",
    "        return a+b+c+d+e"
   ]
  },
  {
   "cell_type": "code",
   "execution_count": 178,
   "metadata": {},
   "outputs": [],
   "source": [
    "a=Calculations()"
   ]
  },
  {
   "cell_type": "code",
   "execution_count": 179,
   "metadata": {},
   "outputs": [
    {
     "data": {
      "text/plain": [
       "5"
      ]
     },
     "execution_count": 179,
     "metadata": {},
     "output_type": "execute_result"
    }
   ],
   "source": [
    "a.adding(2,3)"
   ]
  },
  {
   "cell_type": "code",
   "execution_count": 180,
   "metadata": {},
   "outputs": [
    {
     "data": {
      "text/plain": [
       "12"
      ]
     },
     "execution_count": 180,
     "metadata": {},
     "output_type": "execute_result"
    }
   ],
   "source": [
    "a.adding(3,4,5)"
   ]
  },
  {
   "cell_type": "code",
   "execution_count": 181,
   "metadata": {},
   "outputs": [],
   "source": [
    "class Calculations():\n",
    "    \n",
    "    def adding(self,a=None,b=None,c=None):\n",
    "        \n",
    "        if all(val!=None for val in [a,b,c]):\n",
    "            return a+b+c\n",
    "        elif all(val!=None for val in [a,b]):\n",
    "            return a+b\n",
    "        elif a!=None:\n",
    "            return a\n",
    "        else:\n",
    "            return 0"
   ]
  },
  {
   "cell_type": "code",
   "execution_count": 182,
   "metadata": {},
   "outputs": [],
   "source": [
    "b=Calculations()"
   ]
  },
  {
   "cell_type": "code",
   "execution_count": 183,
   "metadata": {},
   "outputs": [
    {
     "data": {
      "text/plain": [
       "0"
      ]
     },
     "execution_count": 183,
     "metadata": {},
     "output_type": "execute_result"
    }
   ],
   "source": [
    "b.adding()"
   ]
  },
  {
   "cell_type": "code",
   "execution_count": 184,
   "metadata": {},
   "outputs": [
    {
     "data": {
      "text/plain": [
       "2"
      ]
     },
     "execution_count": 184,
     "metadata": {},
     "output_type": "execute_result"
    }
   ],
   "source": [
    "b.adding(2)"
   ]
  },
  {
   "cell_type": "code",
   "execution_count": 185,
   "metadata": {},
   "outputs": [
    {
     "data": {
      "text/plain": [
       "7"
      ]
     },
     "execution_count": 185,
     "metadata": {},
     "output_type": "execute_result"
    }
   ],
   "source": [
    "b.adding(2,5)"
   ]
  },
  {
   "cell_type": "code",
   "execution_count": 186,
   "metadata": {},
   "outputs": [
    {
     "data": {
      "text/plain": [
       "12"
      ]
     },
     "execution_count": 186,
     "metadata": {},
     "output_type": "execute_result"
    }
   ],
   "source": [
    "b.adding(2,6,4)"
   ]
  },
  {
   "cell_type": "markdown",
   "metadata": {},
   "source": [
    "# Method Overriding"
   ]
  },
  {
   "cell_type": "markdown",
   "metadata": {},
   "source": [
    "**Overriding-different method has same name, those methods in parent & child class**"
   ]
  },
  {
   "cell_type": "code",
   "execution_count": 187,
   "metadata": {},
   "outputs": [],
   "source": [
    "class Employee():\n",
    "    \n",
    "    def process(self):\n",
    "        print(\"Providing the service for the company\")\n",
    "    \n",
    "class ProjectManager(Employee):\n",
    "    \n",
    "    def process(self):\n",
    "        print(\"Managing the projects\")"
   ]
  },
  {
   "cell_type": "code",
   "execution_count": 188,
   "metadata": {},
   "outputs": [
    {
     "name": "stdout",
     "output_type": "stream",
     "text": [
      "Providing the service for the company\n"
     ]
    }
   ],
   "source": [
    "emp1=Employee()\n",
    "emp1.process()"
   ]
  },
  {
   "cell_type": "markdown",
   "metadata": {},
   "source": [
    "**Here the method in the Project manager class will override the method in Employee**"
   ]
  },
  {
   "cell_type": "code",
   "execution_count": 192,
   "metadata": {},
   "outputs": [
    {
     "name": "stdout",
     "output_type": "stream",
     "text": [
      "Managing the projects\n"
     ]
    }
   ],
   "source": [
    "emp2=ProjectManager()             # chaild main first acces in his method \n",
    "emp2.process()"
   ]
  },
  {
   "cell_type": "code",
   "execution_count": 190,
   "metadata": {},
   "outputs": [
    {
     "name": "stdout",
     "output_type": "stream",
     "text": [
      "Help on ProjectManager in module __main__ object:\n",
      "\n",
      "class ProjectManager(Employee)\n",
      " |  Method resolution order:\n",
      " |      ProjectManager\n",
      " |      Employee\n",
      " |      builtins.object\n",
      " |  \n",
      " |  Methods defined here:\n",
      " |  \n",
      " |  process(self)\n",
      " |  \n",
      " |  ----------------------------------------------------------------------\n",
      " |  Data descriptors inherited from Employee:\n",
      " |  \n",
      " |  __dict__\n",
      " |      dictionary for instance variables (if defined)\n",
      " |  \n",
      " |  __weakref__\n",
      " |      list of weak references to the object (if defined)\n",
      "\n"
     ]
    }
   ],
   "source": [
    "help(emp2)"
   ]
  },
  {
   "cell_type": "markdown",
   "metadata": {},
   "source": [
    "# Abstraction (Restricting Sub Classes)"
   ]
  },
  {
   "cell_type": "code",
   "execution_count": 193,
   "metadata": {},
   "outputs": [],
   "source": [
    "from abc import ABC,abstractmethod\n",
    "\n",
    "class Employee(ABC):\n",
    "    \n",
    "    @abstractmethod\n",
    "    def process(self):\n",
    "        pass\n",
    "    \n",
    "    def duration(self):\n",
    "        print(\"8.00AM to 5.00PM\")\n",
    "    \n",
    "class ProjectManager(Employee):\n",
    "    pass\n",
    "\n",
    "# you must override abstract menthod\n",
    "# in here you cannot create object in your parent class, because it is hide\n",
    "# you can create method using child classes, from it(ඒකෙන්) you can access child & parent class methods."
   ]
  },
  {
   "cell_type": "markdown",
   "metadata": {},
   "source": [
    "**You can't create an object from this**"
   ]
  },
  {
   "cell_type": "code",
   "execution_count": 194,
   "metadata": {},
   "outputs": [
    {
     "ename": "TypeError",
     "evalue": "Can't instantiate abstract class ProjectManager with abstract methods process",
     "output_type": "error",
     "traceback": [
      "\u001b[1;31m---------------------------------------------------------------------------\u001b[0m",
      "\u001b[1;31mTypeError\u001b[0m                                 Traceback (most recent call last)",
      "\u001b[1;32m<ipython-input-194-34b672c4ebf0>\u001b[0m in \u001b[0;36m<module>\u001b[1;34m\u001b[0m\n\u001b[1;32m----> 1\u001b[1;33m \u001b[0memp1\u001b[0m\u001b[1;33m=\u001b[0m\u001b[0mProjectManager\u001b[0m\u001b[1;33m(\u001b[0m\u001b[1;33m)\u001b[0m\u001b[1;33m\u001b[0m\u001b[1;33m\u001b[0m\u001b[0m\n\u001b[0m",
      "\u001b[1;31mTypeError\u001b[0m: Can't instantiate abstract class ProjectManager with abstract methods process"
     ]
    }
   ],
   "source": [
    "emp1=ProjectManager()"
   ]
  },
  {
   "cell_type": "code",
   "execution_count": 204,
   "metadata": {},
   "outputs": [],
   "source": [
    "from abc import ABC,abstractmethod\n",
    "\n",
    "class Employee(ABC):\n",
    "    \n",
    "    @abstractmethod\n",
    "    def process(self):\n",
    "        pass\n",
    "    \n",
    "    def duration(self):\n",
    "        print(\"8.00AM to 5.00PM\")\n",
    "    \n",
    "class ProjectManager(Employee):\n",
    "    def dresscode(self):\n",
    "        print(\"Formal\")"
   ]
  },
  {
   "cell_type": "markdown",
   "metadata": {},
   "source": [
    "**You can't create an object from this**"
   ]
  },
  {
   "cell_type": "code",
   "execution_count": 205,
   "metadata": {},
   "outputs": [
    {
     "ename": "TypeError",
     "evalue": "Can't instantiate abstract class ProjectManager with abstract methods process",
     "output_type": "error",
     "traceback": [
      "\u001b[1;31m---------------------------------------------------------------------------\u001b[0m",
      "\u001b[1;31mTypeError\u001b[0m                                 Traceback (most recent call last)",
      "\u001b[1;32m<ipython-input-205-34b672c4ebf0>\u001b[0m in \u001b[0;36m<module>\u001b[1;34m\u001b[0m\n\u001b[1;32m----> 1\u001b[1;33m \u001b[0memp1\u001b[0m\u001b[1;33m=\u001b[0m\u001b[0mProjectManager\u001b[0m\u001b[1;33m(\u001b[0m\u001b[1;33m)\u001b[0m\u001b[1;33m\u001b[0m\u001b[1;33m\u001b[0m\u001b[0m\n\u001b[0m",
      "\u001b[1;31mTypeError\u001b[0m: Can't instantiate abstract class ProjectManager with abstract methods process"
     ]
    }
   ],
   "source": [
    "emp1=ProjectManager()"
   ]
  },
  {
   "cell_type": "markdown",
   "metadata": {},
   "source": [
    "**You must difine Abstract method body in the child class**"
   ]
  },
  {
   "cell_type": "code",
   "execution_count": 199,
   "metadata": {},
   "outputs": [],
   "source": [
    "from abc import ABC,abstractmethod\n",
    "\n",
    "class Employee(ABC):\n",
    "    \n",
    "    @abstractmethod\n",
    "    def process(self):\n",
    "        pass\n",
    "    \n",
    "    def duration(self):\n",
    "        print(\"8.00AM to 5.00PM\")\n",
    "    \n",
    "class ProjectManager(Employee):\n",
    "    def process(self):\n",
    "        print(\"Managing the projects\")\n",
    "    \n",
    "    def dresscode(self):\n",
    "        print(\"Formal\")"
   ]
  },
  {
   "cell_type": "code",
   "execution_count": 200,
   "metadata": {},
   "outputs": [],
   "source": [
    "emp1=ProjectManager()"
   ]
  },
  {
   "cell_type": "code",
   "execution_count": 201,
   "metadata": {},
   "outputs": [
    {
     "name": "stdout",
     "output_type": "stream",
     "text": [
      "Managing the projects\n"
     ]
    }
   ],
   "source": [
    "emp1.process()"
   ]
  },
  {
   "cell_type": "code",
   "execution_count": 202,
   "metadata": {},
   "outputs": [
    {
     "name": "stdout",
     "output_type": "stream",
     "text": [
      "Formal\n"
     ]
    }
   ],
   "source": [
    "emp1.dresscode()"
   ]
  },
  {
   "cell_type": "code",
   "execution_count": 203,
   "metadata": {},
   "outputs": [
    {
     "name": "stdout",
     "output_type": "stream",
     "text": [
      "8.00AM to 5.00PM\n"
     ]
    }
   ],
   "source": [
    "emp1.duration()"
   ]
  },
  {
   "cell_type": "markdown",
   "metadata": {},
   "source": [
    "# Extra"
   ]
  },
  {
   "cell_type": "code",
   "execution_count": 206,
   "metadata": {},
   "outputs": [
    {
     "name": "stdout",
     "output_type": "stream",
     "text": [
      "63\n",
      "63\n",
      "5665\n",
      "486\n"
     ]
    }
   ],
   "source": [
    "a,b=9,54\n",
    "x,y='56','65'\n",
    "print((a+b))\n",
    "print(int.__add__(a,b))\n",
    "print(str.__add__(x,y))\n",
    "print(int.__mul__(a,b))"
   ]
  },
  {
   "cell_type": "code",
   "execution_count": 209,
   "metadata": {},
   "outputs": [
    {
     "name": "stdout",
     "output_type": "stream",
     "text": [
      "55 36\n",
      "48 45\n",
      "91 93\n",
      "91\n",
      "91\n",
      "s1 wins\n",
      "sfdvb\n",
      "s2 get schoolership\n"
     ]
    }
   ],
   "source": [
    "class student():\n",
    "\n",
    "    def __init__(self,m1,m2):\n",
    "        self.m1=m1\n",
    "        self.m2=m2\n",
    "\n",
    "    def __sub__(self, other):\n",
    "        m1=self.m1+self.m2\n",
    "        m2=other.m1+other.m2\n",
    "        s3=student(m1,m2)\n",
    "        return s3\n",
    "\n",
    "    def __gt__(self, other):    #### greater than\n",
    "        g1 = self.m1 + self.m2\n",
    "        g2 = other.m1 + other.m2\n",
    "        if g1>g2:\n",
    "            return True\n",
    "        else:\n",
    "            print('sfdvb')\n",
    "\n",
    "    def __str__(self):\n",
    "        return '{} {}'.format(self.m1,self.m2)\n",
    "\n",
    "s1=student(55,36)\n",
    "s2=student(48,45)\n",
    "\n",
    "s3=s1-s2\n",
    "\n",
    "print(s1)\n",
    "print(s2)\n",
    "print(s3)\n",
    "\n",
    "print(s3.m1)\n",
    "print(s1.m2+s1.m1)\n",
    "\n",
    "if s1.m1>s2.m2:\n",
    "    print('s1 wins')\n",
    "else:\n",
    "    print('s2 wins')\n",
    "\n",
    "\n",
    "if s1>s2:\n",
    "    print('s1 get schoolership')\n",
    "else:\n",
    "    print('s2 get schoolership')"
   ]
  },
  {
   "cell_type": "code",
   "execution_count": 210,
   "metadata": {},
   "outputs": [
    {
     "name": "stdout",
     "output_type": "stream",
     "text": [
      "56\n",
      "56\n",
      "55 36\n"
     ]
    }
   ],
   "source": [
    "a=56\n",
    "print(a)                 #### .__str__ in behaind the seen\n",
    "print(a.__str__())\n",
    "\n",
    "print(s1)"
   ]
  },
  {
   "cell_type": "code",
   "execution_count": null,
   "metadata": {},
   "outputs": [],
   "source": []
  }
 ],
 "metadata": {
  "kernelspec": {
   "display_name": "Python 3",
   "language": "python",
   "name": "python3"
  },
  "language_info": {
   "codemirror_mode": {
    "name": "ipython",
    "version": 3
   },
   "file_extension": ".py",
   "mimetype": "text/x-python",
   "name": "python",
   "nbconvert_exporter": "python",
   "pygments_lexer": "ipython3",
   "version": "3.8.5"
  }
 },
 "nbformat": 4,
 "nbformat_minor": 4
}
