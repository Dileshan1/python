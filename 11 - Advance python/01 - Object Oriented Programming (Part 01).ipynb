{
 "cells": [
  {
   "cell_type": "markdown",
   "metadata": {},
   "source": [
    "# Classes & Instances"
   ]
  },
  {
   "cell_type": "markdown",
   "metadata": {},
   "source": [
    "Classes and instances can be created as follows"
   ]
  },
  {
   "cell_type": "code",
   "execution_count": 1,
   "metadata": {},
   "outputs": [],
   "source": [
    "class Employee():\n",
    "    pass"
   ]
  },
  {
   "cell_type": "code",
   "execution_count": 2,
   "metadata": {},
   "outputs": [],
   "source": [
    "emp1=Employee()\n",
    "emp2=Employee()\n",
    "emp3=Employee()\n",
    "emp4=Employee()\n",
    "emp5=Employee()"
   ]
  },
  {
   "cell_type": "code",
   "execution_count": 3,
   "metadata": {},
   "outputs": [
    {
     "name": "stdout",
     "output_type": "stream",
     "text": [
      "<__main__.Employee object at 0x0000019D17654AC0>\n",
      "<__main__.Employee object at 0x0000019D17654A30>\n",
      "<__main__.Employee object at 0x0000019D17654A90>\n",
      "<__main__.Employee object at 0x0000019D17654B80>\n",
      "<__main__.Employee object at 0x0000019D17654BE0>\n"
     ]
    }
   ],
   "source": [
    "print(emp1)\n",
    "print(emp2)\n",
    "print(emp3)\n",
    "print(emp4)\n",
    "print(emp5)"
   ]
  },
  {
   "cell_type": "markdown",
   "metadata": {},
   "source": [
    "# Initializing the instances"
   ]
  },
  {
   "cell_type": "code",
   "execution_count": 30,
   "metadata": {},
   "outputs": [],
   "source": [
    "class Employee():\n",
    "    \n",
    "    #This is called as a constructor\n",
    "    def __init__(self,a,b,c,d):\n",
    "        self.firstname=a\n",
    "        self.lastname=b\n",
    "        self.fullname=a+\" \"+b\n",
    "        self.email=c\n",
    "        self.salary=d"
   ]
  },
  {
   "cell_type": "code",
   "execution_count": 31,
   "metadata": {},
   "outputs": [],
   "source": [
    "# create object\n",
    "emp1=Employee(\"Dileshan\", \"Prasad\", \"dlsnptrn@gmail.com\", 75000)"
   ]
  },
  {
   "cell_type": "code",
   "execution_count": 32,
   "metadata": {},
   "outputs": [
    {
     "data": {
      "text/plain": [
       "'Dileshan'"
      ]
     },
     "execution_count": 32,
     "metadata": {},
     "output_type": "execute_result"
    }
   ],
   "source": [
    "emp1.firstname"
   ]
  },
  {
   "cell_type": "code",
   "execution_count": 33,
   "metadata": {},
   "outputs": [
    {
     "data": {
      "text/plain": [
       "'Prasad'"
      ]
     },
     "execution_count": 33,
     "metadata": {},
     "output_type": "execute_result"
    }
   ],
   "source": [
    "emp1.lastname"
   ]
  },
  {
   "cell_type": "code",
   "execution_count": 34,
   "metadata": {},
   "outputs": [
    {
     "data": {
      "text/plain": [
       "'Dileshan Prasad'"
      ]
     },
     "execution_count": 34,
     "metadata": {},
     "output_type": "execute_result"
    }
   ],
   "source": [
    "emp1.fullname"
   ]
  },
  {
   "cell_type": "code",
   "execution_count": 35,
   "metadata": {},
   "outputs": [
    {
     "data": {
      "text/plain": [
       "'dlsnptrn@gmail.com'"
      ]
     },
     "execution_count": 35,
     "metadata": {},
     "output_type": "execute_result"
    }
   ],
   "source": [
    "emp1.email"
   ]
  },
  {
   "cell_type": "code",
   "execution_count": 36,
   "metadata": {},
   "outputs": [
    {
     "data": {
      "text/plain": [
       "75000"
      ]
     },
     "execution_count": 36,
     "metadata": {},
     "output_type": "execute_result"
    }
   ],
   "source": [
    "emp1.salary"
   ]
  },
  {
   "cell_type": "code",
   "execution_count": 37,
   "metadata": {},
   "outputs": [
    {
     "data": {
      "text/plain": [
       "{'firstname': 'Dileshan',\n",
       " 'lastname': 'Prasad',\n",
       " 'fullname': 'Dileshan Prasad',\n",
       " 'email': 'dlsnptrn@gmail.com',\n",
       " 'salary': 75000}"
      ]
     },
     "execution_count": 37,
     "metadata": {},
     "output_type": "execute_result"
    }
   ],
   "source": [
    "emp1.__dict__           # This will show everything"
   ]
  },
  {
   "cell_type": "code",
   "execution_count": 38,
   "metadata": {},
   "outputs": [],
   "source": [
    "# you can create more object using same class\n",
    "emp2 = Employee(\"Prasad\", \"Karunarathna\", \"prasad97@gamil.com\", 55000)"
   ]
  },
  {
   "cell_type": "code",
   "execution_count": 39,
   "metadata": {},
   "outputs": [
    {
     "data": {
      "text/plain": [
       "'Prasad'"
      ]
     },
     "execution_count": 39,
     "metadata": {},
     "output_type": "execute_result"
    }
   ],
   "source": [
    "emp2.firstname"
   ]
  },
  {
   "cell_type": "code",
   "execution_count": 40,
   "metadata": {},
   "outputs": [
    {
     "data": {
      "text/plain": [
       "'Prasad Karunarathna'"
      ]
     },
     "execution_count": 40,
     "metadata": {},
     "output_type": "execute_result"
    }
   ],
   "source": [
    "emp2.fullname"
   ]
  },
  {
   "cell_type": "markdown",
   "metadata": {},
   "source": [
    "# Creating methods"
   ]
  },
  {
   "cell_type": "code",
   "execution_count": 41,
   "metadata": {},
   "outputs": [],
   "source": [
    "class Employee():\n",
    "    \n",
    "    def __init__(self,a,b,c,d):\n",
    "        \n",
    "        #These are instance variables\n",
    "        self.firstname=a                        # these are proparty\n",
    "        self.lastname=b\n",
    "        self.email=c\n",
    "        self.salary=d\n",
    "        \n",
    "    #These are instance methods                 # this is function in the class\n",
    "    def salary_msg(self):\n",
    "        return f\"{self.firstname} {self.lastname} earns a USD {self.salary} salary per month.\"\n",
    "    \n",
    "    def salary_bonus(self,p):\n",
    "        return self.salary*p\n",
    "    \n",
    "    def salary_total(self,p):\n",
    "        return self.salary+self.salary_bonus(p)"
   ]
  },
  {
   "cell_type": "code",
   "execution_count": 42,
   "metadata": {},
   "outputs": [],
   "source": [
    "emp1=Employee(\"Dileshan\", \"Prasad\", \"dlsnptrn@gmail.com\", 75000)"
   ]
  },
  {
   "cell_type": "code",
   "execution_count": 43,
   "metadata": {},
   "outputs": [
    {
     "data": {
      "text/plain": [
       "'Dileshan Prasad earns a USD 75000 salary per month.'"
      ]
     },
     "execution_count": 43,
     "metadata": {},
     "output_type": "execute_result"
    }
   ],
   "source": [
    "emp1.salary_msg()"
   ]
  },
  {
   "cell_type": "code",
   "execution_count": 44,
   "metadata": {},
   "outputs": [
    {
     "data": {
      "text/plain": [
       "37500.0"
      ]
     },
     "execution_count": 44,
     "metadata": {},
     "output_type": "execute_result"
    }
   ],
   "source": [
    "emp1.salary_bonus(0.5)"
   ]
  },
  {
   "cell_type": "code",
   "execution_count": 45,
   "metadata": {},
   "outputs": [
    {
     "data": {
      "text/plain": [
       "112500.0"
      ]
     },
     "execution_count": 45,
     "metadata": {},
     "output_type": "execute_result"
    }
   ],
   "source": [
    "emp1.salary_total(0.5)"
   ]
  },
  {
   "cell_type": "code",
   "execution_count": 46,
   "metadata": {},
   "outputs": [
    {
     "data": {
      "text/plain": [
       "112500.0"
      ]
     },
     "execution_count": 46,
     "metadata": {},
     "output_type": "execute_result"
    }
   ],
   "source": [
    "Employee.salary_total(emp1,0.5)"
   ]
  },
  {
   "cell_type": "markdown",
   "metadata": {},
   "source": [
    "# Class Variables"
   ]
  },
  {
   "cell_type": "code",
   "execution_count": 47,
   "metadata": {},
   "outputs": [],
   "source": [
    "class Employee():\n",
    "    \n",
    "    def __init__(self,a,b,c,d):\n",
    "        \n",
    "        #These are instance variables\n",
    "        self.firstname=a \n",
    "        self.lastname=b\n",
    "        self.email=c\n",
    "        self.salary=d\n",
    "\n",
    "    def salary_increase(self,p):\n",
    "        self.salary=self.salary*(1+p)"
   ]
  },
  {
   "cell_type": "code",
   "execution_count": 48,
   "metadata": {},
   "outputs": [],
   "source": [
    "emp1=Employee(\"Dileshan\", \"Prasad\", \"dlsnptrn@gmail.com\", 75000)"
   ]
  },
  {
   "cell_type": "code",
   "execution_count": 49,
   "metadata": {},
   "outputs": [
    {
     "data": {
      "text/plain": [
       "75000"
      ]
     },
     "execution_count": 49,
     "metadata": {},
     "output_type": "execute_result"
    }
   ],
   "source": [
    "emp1.salary"
   ]
  },
  {
   "cell_type": "code",
   "execution_count": 50,
   "metadata": {},
   "outputs": [],
   "source": [
    "emp1.salary_increase(0.5)"
   ]
  },
  {
   "cell_type": "code",
   "execution_count": 51,
   "metadata": {},
   "outputs": [
    {
     "data": {
      "text/plain": [
       "112500.0"
      ]
     },
     "execution_count": 51,
     "metadata": {},
     "output_type": "execute_result"
    }
   ],
   "source": [
    "emp1.salary"
   ]
  },
  {
   "cell_type": "markdown",
   "metadata": {},
   "source": [
    "Think that this increament is fixed for every instance"
   ]
  },
  {
   "cell_type": "code",
   "execution_count": 76,
   "metadata": {},
   "outputs": [],
   "source": [
    "class Employee():\n",
    "    \n",
    "    increament=0.5     # This is a class variable(static variable-fix for every one)\n",
    "    \n",
    "    def __init__(self,a,b,c,d):\n",
    "        \n",
    "        #These are instance variables\n",
    "        self.firstname=a \n",
    "        self.lastname=b\n",
    "        self.email=c\n",
    "        self.salary=d\n",
    "\n",
    "    def salary_increase(self):\n",
    "        self.salary=self.salary*(1+Employee.increament)\n",
    "                    \n",
    "                # class variable calling ----> Employee.increment or self.increment"
   ]
  },
  {
   "cell_type": "code",
   "execution_count": 77,
   "metadata": {},
   "outputs": [],
   "source": [
    "emp1 = Employee(\"Dileshan\", \"Prasad\", \"dlsnptrn@gmail.com\", 75000)\n",
    "emp2 = Employee(\"Prasad\", \"Karunarathna\", \"prasad97@gamil.com\", 55000)"
   ]
  },
  {
   "cell_type": "markdown",
   "metadata": {},
   "source": [
    "Any instance and the class can access that class varlable"
   ]
  },
  {
   "cell_type": "code",
   "execution_count": 56,
   "metadata": {},
   "outputs": [
    {
     "name": "stdout",
     "output_type": "stream",
     "text": [
      "0.5\n",
      "0.5\n",
      "0.5\n"
     ]
    }
   ],
   "source": [
    "print(emp1.increament)\n",
    "print(emp2.increament)\n",
    "print(Employee.increament)"
   ]
  },
  {
   "cell_type": "code",
   "execution_count": 124,
   "metadata": {},
   "outputs": [],
   "source": [
    "class Employee():\n",
    "    \n",
    "    increament=0.5 #This is a class variable\n",
    "    \n",
    "    def __init__(self,a,b,c,d):\n",
    "        \n",
    "        #These are instance variables\n",
    "        self.firstname=a \n",
    "        self.lastname=b\n",
    "        self.email=c\n",
    "        self.salary=d\n",
    "\n",
    "    def salary_increase(self):\n",
    "        self.salary=self.salary*(1+self.increament)"
   ]
  },
  {
   "cell_type": "code",
   "execution_count": 125,
   "metadata": {},
   "outputs": [],
   "source": [
    "emp1 = Employee(\"Dileshan\", \"Prasad\", \"dlsnptrn@gmail.com\", 75000)\n",
    "emp2 = Employee(\"Prasad\", \"Karunarathna\", \"prasad97@gamil.com\", 55000)"
   ]
  },
  {
   "cell_type": "code",
   "execution_count": 126,
   "metadata": {},
   "outputs": [
    {
     "name": "stdout",
     "output_type": "stream",
     "text": [
      "0.5\n",
      "0.5\n",
      "0.5\n"
     ]
    }
   ],
   "source": [
    "print(emp1.increament)\n",
    "print(emp2.increament)\n",
    "print(Employee.increament)"
   ]
  },
  {
   "cell_type": "code",
   "execution_count": 127,
   "metadata": {},
   "outputs": [
    {
     "data": {
      "text/plain": [
       "75000"
      ]
     },
     "execution_count": 127,
     "metadata": {},
     "output_type": "execute_result"
    }
   ],
   "source": [
    "emp1.salary"
   ]
  },
  {
   "cell_type": "code",
   "execution_count": 128,
   "metadata": {},
   "outputs": [],
   "source": [
    "emp1.salary_increase()"
   ]
  },
  {
   "cell_type": "code",
   "execution_count": 129,
   "metadata": {},
   "outputs": [
    {
     "data": {
      "text/plain": [
       "112500.0"
      ]
     },
     "execution_count": 129,
     "metadata": {},
     "output_type": "execute_result"
    }
   ],
   "source": [
    "emp1.salary"
   ]
  },
  {
   "cell_type": "code",
   "execution_count": 131,
   "metadata": {
    "scrolled": false
   },
   "outputs": [
    {
     "data": {
      "text/plain": [
       "{'firstname': 'Dileshan',\n",
       " 'lastname': 'Prasad',\n",
       " 'email': 'dlsnptrn@gmail.com',\n",
       " 'salary': 112500.0}"
      ]
     },
     "execution_count": 131,
     "metadata": {},
     "output_type": "execute_result"
    }
   ],
   "source": [
    "emp1.__dict__                   # there haven't class variable"
   ]
  },
  {
   "cell_type": "code",
   "execution_count": 132,
   "metadata": {},
   "outputs": [
    {
     "data": {
      "text/plain": [
       "{'firstname': 'Prasad',\n",
       " 'lastname': 'Karunarathna',\n",
       " 'email': 'prasad97@gamil.com',\n",
       " 'salary': 55000}"
      ]
     },
     "execution_count": 132,
     "metadata": {},
     "output_type": "execute_result"
    }
   ],
   "source": [
    "emp2.__dict__"
   ]
  },
  {
   "cell_type": "code",
   "execution_count": 133,
   "metadata": {},
   "outputs": [
    {
     "data": {
      "text/plain": [
       "mappingproxy({'__module__': '__main__',\n",
       "              'increament': 0.5,\n",
       "              '__init__': <function __main__.Employee.__init__(self, a, b, c, d)>,\n",
       "              'salary_increase': <function __main__.Employee.salary_increase(self)>,\n",
       "              '__dict__': <attribute '__dict__' of 'Employee' objects>,\n",
       "              '__weakref__': <attribute '__weakref__' of 'Employee' objects>,\n",
       "              '__doc__': None})"
      ]
     },
     "execution_count": 133,
     "metadata": {},
     "output_type": "execute_result"
    }
   ],
   "source": [
    "Employee.__dict__             # there has it"
   ]
  },
  {
   "cell_type": "code",
   "execution_count": 84,
   "metadata": {},
   "outputs": [],
   "source": [
    "Employee.increament=0.7       # we can change static variable in out side\n",
    "                              # if you want to change static variable you must use \"Employee\""
   ]
  },
  {
   "cell_type": "code",
   "execution_count": 85,
   "metadata": {},
   "outputs": [
    {
     "name": "stdout",
     "output_type": "stream",
     "text": [
      "0.7\n",
      "0.7\n",
      "0.7\n"
     ]
    }
   ],
   "source": [
    "print(emp1.increament)\n",
    "print(emp2.increament)\n",
    "print(Employee.increament)"
   ]
  },
  {
   "cell_type": "code",
   "execution_count": 86,
   "metadata": {},
   "outputs": [],
   "source": [
    "emp1.increament=0.4                 # only change partiqular object"
   ]
  },
  {
   "cell_type": "code",
   "execution_count": 87,
   "metadata": {},
   "outputs": [
    {
     "name": "stdout",
     "output_type": "stream",
     "text": [
      "0.4\n",
      "0.7\n",
      "0.7\n"
     ]
    }
   ],
   "source": [
    "print(emp1.increament)              # Only this is chaaged\n",
    "print(emp2.increament)\n",
    "print(Employee.increament)"
   ]
  },
  {
   "cell_type": "code",
   "execution_count": 88,
   "metadata": {},
   "outputs": [
    {
     "name": "stdout",
     "output_type": "stream",
     "text": [
      "{'firstname': 'Dileshan', 'lastname': 'Prasad', 'email': 'dlsnptrn@gmail.com', 'salary': 112500.0, 'increament': 0.4}\n",
      "{'firstname': 'Prasad', 'lastname': 'Karunarathna', 'email': 'prasad97@gamil.com', 'salary': 55000}\n"
     ]
    }
   ],
   "source": [
    "print(emp1.__dict__)\n",
    "print(emp2.__dict__)"
   ]
  },
  {
   "cell_type": "code",
   "execution_count": 94,
   "metadata": {},
   "outputs": [],
   "source": [
    "emp1 = Employee(\"Dileshan\", \"Prasad\", \"dlsnptrn@gmail.com\", 75000)\n",
    "emp2 = Employee(\"Prasad\", \"Karunarathna\", \"prasad97@gamil.com\", 55000)"
   ]
  },
  {
   "cell_type": "code",
   "execution_count": 95,
   "metadata": {},
   "outputs": [],
   "source": [
    "emp1.increament=0.8"
   ]
  },
  {
   "cell_type": "code",
   "execution_count": 96,
   "metadata": {},
   "outputs": [],
   "source": [
    "emp1.salary_increase()\n",
    "emp2.salary_increase()"
   ]
  },
  {
   "cell_type": "code",
   "execution_count": 97,
   "metadata": {},
   "outputs": [
    {
     "name": "stdout",
     "output_type": "stream",
     "text": [
      "127500.0\n",
      "93500.0\n"
     ]
    }
   ],
   "source": [
    "print(emp1.salary)\n",
    "print(emp2.salary)"
   ]
  },
  {
   "cell_type": "code",
   "execution_count": 231,
   "metadata": {},
   "outputs": [],
   "source": [
    "# get count how many objects you created\n",
    "# after get how many employees get salary greater than 100000\n",
    "\n",
    "\n",
    "class Employee():\n",
    "    \n",
    "    increament=0.5          # This are a class variable\n",
    "    no_employees=0\n",
    "    high_salary_employees=0\n",
    "    \n",
    "    def __init__(self,a,b,c,d):\n",
    "        \n",
    "        #These are instance variables\n",
    "        self.firstname=a \n",
    "        self.lastname=b\n",
    "        self.email=c\n",
    "        self.salary=d\n",
    "        \n",
    "        self.no_employees=self.no_employees+1\n",
    "        \n",
    "        if self.salary>=100000:\n",
    "            Employee.high_salary_employees=Employee.high_salary_employees+1\n",
    "\n",
    "    def salary_increase(self):\n",
    "        self.salary=self.salary*(1+self.increament)"
   ]
  },
  {
   "cell_type": "code",
   "execution_count": 232,
   "metadata": {},
   "outputs": [],
   "source": [
    "emp1 = Employee(\"Dileshan\", \"Prasad\", \"dlsnptrn@gmail.com\", 75000)\n",
    "emp2 = Employee(\"Prasad\", \"Karunarathna\", \"prasad97@gamil.com\", 55000)\n",
    "emp3=Employee(\"Jane\",\"Johanson\",\"jane@gmail.com\",10000)\n",
    "emp4=Employee(\"Kelly\",\"Daniel\",\"kelly@gmail.com\",150000)"
   ]
  },
  {
   "cell_type": "code",
   "execution_count": 233,
   "metadata": {
    "scrolled": true
   },
   "outputs": [
    {
     "data": {
      "text/plain": [
       "0"
      ]
     },
     "execution_count": 233,
     "metadata": {},
     "output_type": "execute_result"
    }
   ],
   "source": [
    "Employee.no_employees         # not cahnge, reason is we use \"self\""
   ]
  },
  {
   "cell_type": "code",
   "execution_count": 234,
   "metadata": {},
   "outputs": [
    {
     "data": {
      "text/plain": [
       "1"
      ]
     },
     "execution_count": 234,
     "metadata": {},
     "output_type": "execute_result"
    }
   ],
   "source": [
    "emp4.no_employees "
   ]
  },
  {
   "cell_type": "code",
   "execution_count": 115,
   "metadata": {
    "scrolled": true
   },
   "outputs": [
    {
     "data": {
      "text/plain": [
       "1"
      ]
     },
     "execution_count": 115,
     "metadata": {},
     "output_type": "execute_result"
    }
   ],
   "source": [
    "Employee.high_salary_employees"
   ]
  },
  {
   "cell_type": "code",
   "execution_count": 239,
   "metadata": {},
   "outputs": [],
   "source": [
    "class Employee():\n",
    "    \n",
    "    increament=0.5          # This are a class variable\n",
    "    no_employees=0\n",
    "    high_salary_employees=0\n",
    "    \n",
    "    def __init__(self,a,b,c,d):\n",
    "        \n",
    "        #These are instance variables\n",
    "        self.firstname=a \n",
    "        self.lastname=b\n",
    "        self.email=c\n",
    "        self.salary=d\n",
    "        self.fullName = a + \" \" + b\n",
    "        \n",
    "        Employee.no_employees=Employee.no_employees+1\n",
    "        \n",
    "        if self.salary>=100000:\n",
    "            Employee.high_salary_employees=Employee.high_salary_employees+1\n",
    "\n",
    "    def salary_increase(self):\n",
    "        self.salary=self.salary*(1+self.increament)"
   ]
  },
  {
   "cell_type": "code",
   "execution_count": 240,
   "metadata": {},
   "outputs": [],
   "source": [
    "emp1 = Employee(\"Dileshan\", \"Prasad\", \"dlsnptrn@gmail.com\", 75000)\n",
    "emp2 = Employee(\"Prasad\", \"Karunarathna\", \"prasad97@gamil.com\", 55000)\n",
    "emp3=Employee(\"Jane\",\"Johanson\",\"jane@gmail.com\",10000)\n",
    "emp4=Employee(\"Kelly\",\"Daniel\",\"kelly@gmail.com\",150000)"
   ]
  },
  {
   "cell_type": "code",
   "execution_count": 241,
   "metadata": {},
   "outputs": [
    {
     "data": {
      "text/plain": [
       "4"
      ]
     },
     "execution_count": 241,
     "metadata": {},
     "output_type": "execute_result"
    }
   ],
   "source": [
    "Employee.no_employees"
   ]
  },
  {
   "cell_type": "code",
   "execution_count": 242,
   "metadata": {
    "scrolled": true
   },
   "outputs": [
    {
     "data": {
      "text/plain": [
       "1"
      ]
     },
     "execution_count": 242,
     "metadata": {},
     "output_type": "execute_result"
    }
   ],
   "source": [
    "Employee.high_salary_employees"
   ]
  },
  {
   "cell_type": "code",
   "execution_count": 243,
   "metadata": {},
   "outputs": [],
   "source": [
    "emp1.firstName = \"Sanjeewa\"      # but not change other instace valuse(fullName)\n",
    "                                 # we cannot change in a class, only change in particular object "
   ]
  },
  {
   "cell_type": "code",
   "execution_count": 244,
   "metadata": {},
   "outputs": [
    {
     "data": {
      "text/plain": [
       "{'firstname': 'Dileshan',\n",
       " 'lastname': 'Prasad',\n",
       " 'email': 'dlsnptrn@gmail.com',\n",
       " 'salary': 75000,\n",
       " 'fullName': 'Dileshan Prasad',\n",
       " 'firstName': 'Sanjeewa'}"
      ]
     },
     "execution_count": 244,
     "metadata": {},
     "output_type": "execute_result"
    }
   ],
   "source": [
    "emp1.__dict__                    # not change fullName"
   ]
  },
  {
   "cell_type": "code",
   "execution_count": 245,
   "metadata": {},
   "outputs": [
    {
     "data": {
      "text/plain": [
       "'Dileshan Prasad'"
      ]
     },
     "execution_count": 245,
     "metadata": {},
     "output_type": "execute_result"
    }
   ],
   "source": [
    "emp1.fullName              # Not \"Sanjeewa Prasad\""
   ]
  },
  {
   "cell_type": "markdown",
   "metadata": {},
   "source": [
    "**We need to creat function for create fullName**"
   ]
  },
  {
   "cell_type": "code",
   "execution_count": 170,
   "metadata": {},
   "outputs": [],
   "source": [
    "class Employee():\n",
    "    \n",
    "    increament=0.5          # This are a class variable\n",
    "    no_employees=0\n",
    "    high_salary_employees=0\n",
    "    \n",
    "    def __init__(self,a,b,c,d):\n",
    "        \n",
    "        #These are instance variables\n",
    "        self.firstname=a \n",
    "        self.lastname=b\n",
    "        self.email=c\n",
    "        self.salary=d\n",
    "        self.fullName = a + \" \" + b\n",
    "        \n",
    "        Employee.no_employees=Employee.no_employees+1\n",
    "        \n",
    "        if self.salary>=100000:\n",
    "            Employee.high_salary_employees=Employee.high_salary_employees+1\n",
    "\n",
    "    def salary_increase(self):\n",
    "        self.salary=self.salary*(1+self.increament)\n",
    "        \n",
    "    def full_Name(self):\n",
    "        self.fullName = self.firstname + \" \" + self.lastname"
   ]
  },
  {
   "cell_type": "code",
   "execution_count": 171,
   "metadata": {},
   "outputs": [],
   "source": [
    "emp1 = Employee(\"Dileshan\", \"Prasad\", \"dlsnptrn@gmail.com\", 75000)"
   ]
  },
  {
   "cell_type": "code",
   "execution_count": 173,
   "metadata": {},
   "outputs": [
    {
     "data": {
      "text/plain": [
       "'Dileshan Prasad'"
      ]
     },
     "execution_count": 173,
     "metadata": {},
     "output_type": "execute_result"
    }
   ],
   "source": [
    "emp1.fullName"
   ]
  },
  {
   "cell_type": "code",
   "execution_count": 172,
   "metadata": {
    "scrolled": false
   },
   "outputs": [
    {
     "data": {
      "text/plain": [
       "'Dileshan'"
      ]
     },
     "execution_count": 172,
     "metadata": {},
     "output_type": "execute_result"
    }
   ],
   "source": [
    "emp1.firstname"
   ]
  },
  {
   "cell_type": "code",
   "execution_count": 174,
   "metadata": {
    "scrolled": true
   },
   "outputs": [],
   "source": [
    "emp1.firstname = \"Sanjeewa\""
   ]
  },
  {
   "cell_type": "code",
   "execution_count": 175,
   "metadata": {},
   "outputs": [],
   "source": [
    "emp1.full_Name()"
   ]
  },
  {
   "cell_type": "code",
   "execution_count": 176,
   "metadata": {},
   "outputs": [
    {
     "data": {
      "text/plain": [
       "'Sanjeewa Prasad'"
      ]
     },
     "execution_count": 176,
     "metadata": {},
     "output_type": "execute_result"
    }
   ],
   "source": [
    "emp1.fullName"
   ]
  },
  {
   "cell_type": "markdown",
   "metadata": {},
   "source": [
    "# Regular Methods, Class Methods & Static Methods"
   ]
  },
  {
   "cell_type": "code",
   "execution_count": 182,
   "metadata": {},
   "outputs": [],
   "source": [
    "class Employee():\n",
    "    \n",
    "    increament=0.5 #This is a class variable\n",
    "    no_employees=0\n",
    "    high_salary_employees=0\n",
    "    \n",
    "    def __init__(self,a,b,c,d):\n",
    "        \n",
    "        #These are instance variables\n",
    "        self.firstname=a \n",
    "        self.lastname=b\n",
    "        self.email=c\n",
    "        self.salary=d\n",
    "        \n",
    "        Employee.no_employees=Employee.no_employees+1\n",
    "        \n",
    "        if self.salary>=100000:\n",
    "            Employee.high_salary_employees=Employee.high_salary_employees+1\n",
    "    \n",
    "    \n",
    "    #These are regular methods\n",
    "    def salary_increase(self):\n",
    "        self.salary=self.salary*(1+self.increament)\n",
    "        \n",
    "    @classmethod\n",
    "    def set_increment(cls,inc):\n",
    "        cls.increament=inc                 # object can't be accessed, here you access class(cls)\n",
    "        cls.increment = x                  # if you change anywere (any object) class varible is change\n",
    "                                           # we can use class variable"
   ]
  },
  {
   "cell_type": "code",
   "execution_count": 183,
   "metadata": {},
   "outputs": [],
   "source": [
    "emp1 = Employee(\"Dileshan\", \"Prasad\", \"dlsnptrn@gmail.com\", 75000)\n",
    "emp2 = Employee(\"Prasad\", \"Karunarathna\", \"prasad97@gamil.com\", 55000)"
   ]
  },
  {
   "cell_type": "code",
   "execution_count": 184,
   "metadata": {},
   "outputs": [
    {
     "name": "stdout",
     "output_type": "stream",
     "text": [
      "0.5\n",
      "0.5\n",
      "0.5\n"
     ]
    }
   ],
   "source": [
    "print(emp1.increament)\n",
    "print(emp2.increament)\n",
    "print(Employee.increament)"
   ]
  },
  {
   "cell_type": "code",
   "execution_count": 185,
   "metadata": {},
   "outputs": [],
   "source": [
    "Employee.set_increment(0.8)         # change original class varible"
   ]
  },
  {
   "cell_type": "code",
   "execution_count": 186,
   "metadata": {
    "scrolled": true
   },
   "outputs": [
    {
     "name": "stdout",
     "output_type": "stream",
     "text": [
      "0.8\n",
      "0.8\n",
      "0.8\n"
     ]
    }
   ],
   "source": [
    "print(emp1.increament)\n",
    "print(emp2.increament)\n",
    "print(Employee.increament)"
   ]
  },
  {
   "cell_type": "code",
   "execution_count": 187,
   "metadata": {},
   "outputs": [],
   "source": [
    "emp1.set_increment(0.7)             # change original class varible\n",
    "                                    # access class"
   ]
  },
  {
   "cell_type": "code",
   "execution_count": 188,
   "metadata": {
    "scrolled": false
   },
   "outputs": [
    {
     "name": "stdout",
     "output_type": "stream",
     "text": [
      "0.7\n",
      "0.7\n",
      "0.7\n"
     ]
    }
   ],
   "source": [
    "print(emp1.increament)\n",
    "print(emp2.increament)\n",
    "print(Employee.increament)"
   ]
  },
  {
   "cell_type": "code",
   "execution_count": 193,
   "metadata": {},
   "outputs": [],
   "source": [
    "emp1.increament = 0.5           # this is not in static method"
   ]
  },
  {
   "cell_type": "code",
   "execution_count": 194,
   "metadata": {
    "scrolled": true
   },
   "outputs": [
    {
     "name": "stdout",
     "output_type": "stream",
     "text": [
      "0.5\n",
      "0.7\n",
      "0.7\n"
     ]
    }
   ],
   "source": [
    "print(emp1.increament)\n",
    "print(emp2.increament)\n",
    "print(Employee.increament)"
   ]
  },
  {
   "cell_type": "markdown",
   "metadata": {},
   "source": [
    "# alternative constructor\n",
    "**Class methods can be used as an alternative constructor**"
   ]
  },
  {
   "cell_type": "code",
   "execution_count": 215,
   "metadata": {},
   "outputs": [],
   "source": [
    "# the object can create salary greater than 10000, otherwise cannot create object\n",
    "\n",
    "\n",
    "class Employee():\n",
    "    \n",
    "    increament=0.5 #This is a class variable\n",
    "    no_employees=0\n",
    "    high_salary_employees=0\n",
    "    \n",
    "    def __init__(self,a,b,c,d):\n",
    "        \n",
    "        #These are instance variables\n",
    "        self.firstname=a \n",
    "        self.lastname=b\n",
    "        self.email=c\n",
    "        self.salary=d\n",
    "        self.fullName = a + \" \" + b\n",
    "        \n",
    "        Employee.no_employees=Employee.no_employees+1\n",
    "        \n",
    "        #Now this should be casted to float for checking because we have included an alternative constructor with a string input\n",
    "        if float(self.salary)>=100000:\n",
    "            Employee.high_salary_employees=Employee.high_salary_employees+1\n",
    "    \n",
    "    def salary_increase(self):\n",
    "        self.salary=self.salary*(1+self.increament)\n",
    "        \n",
    "    @classmethod\n",
    "    #This is an alternative constructor\n",
    "    def select_salary(cls,a,b,c,d):\n",
    "        if d>=2000:\n",
    "            return cls(a,b,c,d)             # return a, b, c, d ; if salary greater than 10000\n",
    "        \n",
    "    #This is an alternative constructor    \n",
    "    @classmethod\n",
    "    def string_instance(cls,details):\n",
    "        a,b,c,d=details.split(\" \")\n",
    "        return cls(a,b,c,d)"
   ]
  },
  {
   "cell_type": "code",
   "execution_count": 216,
   "metadata": {},
   "outputs": [],
   "source": [
    "emp1=Employee.select_salary(\"Sam\",\"Taylor\",\"sam@gmail.com\",10000)\n",
    "emp2=Employee.select_salary(\"Kane\",\"Jacob\",\"kane@gmail.com\",1000)"
   ]
  },
  {
   "cell_type": "code",
   "execution_count": 217,
   "metadata": {},
   "outputs": [
    {
     "data": {
      "text/plain": [
       "<__main__.Employee at 0x19d193510d0>"
      ]
     },
     "execution_count": 217,
     "metadata": {},
     "output_type": "execute_result"
    }
   ],
   "source": [
    "emp1"
   ]
  },
  {
   "cell_type": "code",
   "execution_count": 218,
   "metadata": {},
   "outputs": [],
   "source": [
    "emp2                # This is nothing"
   ]
  },
  {
   "cell_type": "code",
   "execution_count": 246,
   "metadata": {},
   "outputs": [],
   "source": [
    "emp3 = Employee(\"Dileshan\", \"Prasad\", \"dlsnptrn@gmail.com\", 75000)      # This is okey"
   ]
  },
  {
   "cell_type": "code",
   "execution_count": 247,
   "metadata": {},
   "outputs": [
    {
     "data": {
      "text/plain": [
       "<__main__.Employee at 0x19d18b806d0>"
      ]
     },
     "execution_count": 247,
     "metadata": {},
     "output_type": "execute_result"
    }
   ],
   "source": [
    "emp3"
   ]
  },
  {
   "cell_type": "code",
   "execution_count": 219,
   "metadata": {},
   "outputs": [
    {
     "data": {
      "text/plain": [
       "10000"
      ]
     },
     "execution_count": 219,
     "metadata": {},
     "output_type": "execute_result"
    }
   ],
   "source": [
    "emp1.salary"
   ]
  },
  {
   "cell_type": "code",
   "execution_count": 220,
   "metadata": {},
   "outputs": [
    {
     "ename": "AttributeError",
     "evalue": "'NoneType' object has no attribute 'salary'",
     "output_type": "error",
     "traceback": [
      "\u001b[1;31m---------------------------------------------------------------------------\u001b[0m",
      "\u001b[1;31mAttributeError\u001b[0m                            Traceback (most recent call last)",
      "\u001b[1;32m<ipython-input-220-9c9751343c80>\u001b[0m in \u001b[0;36m<module>\u001b[1;34m\u001b[0m\n\u001b[1;32m----> 1\u001b[1;33m \u001b[0memp2\u001b[0m\u001b[1;33m.\u001b[0m\u001b[0msalary\u001b[0m         \u001b[1;31m# This is nothing\u001b[0m\u001b[1;33m\u001b[0m\u001b[1;33m\u001b[0m\u001b[0m\n\u001b[0m",
      "\u001b[1;31mAttributeError\u001b[0m: 'NoneType' object has no attribute 'salary'"
     ]
    }
   ],
   "source": [
    "emp2.salary         # This is nothing"
   ]
  },
  {
   "cell_type": "code",
   "execution_count": 221,
   "metadata": {},
   "outputs": [],
   "source": [
    "emp3=Employee.string_instance(\"Roshan Kanishka rosan9@gmail.com 30000\")"
   ]
  },
  {
   "cell_type": "code",
   "execution_count": 222,
   "metadata": {},
   "outputs": [
    {
     "data": {
      "text/plain": [
       "{'firstname': 'Roshan',\n",
       " 'lastname': 'Kanishka',\n",
       " 'email': 'rosan9@gmail.com',\n",
       " 'salary': '30000',\n",
       " 'fullName': 'Roshan Kanishka'}"
      ]
     },
     "execution_count": 222,
     "metadata": {},
     "output_type": "execute_result"
    }
   ],
   "source": [
    "emp3.__dict__"
   ]
  },
  {
   "cell_type": "code",
   "execution_count": 212,
   "metadata": {
    "scrolled": true
   },
   "outputs": [
    {
     "data": {
      "text/plain": [
       "<__main__.Employee at 0x19d1877d910>"
      ]
     },
     "execution_count": 212,
     "metadata": {},
     "output_type": "execute_result"
    }
   ],
   "source": [
    "emp3"
   ]
  },
  {
   "cell_type": "code",
   "execution_count": 223,
   "metadata": {},
   "outputs": [
    {
     "data": {
      "text/plain": [
       "'Roshan Kanishka'"
      ]
     },
     "execution_count": 223,
     "metadata": {},
     "output_type": "execute_result"
    }
   ],
   "source": [
    "emp3.fullName"
   ]
  },
  {
   "cell_type": "markdown",
   "metadata": {},
   "source": [
    "# Static methods\n",
    "**Static methods are the methods which don't take classes or instances as parameters while they are working with them.**"
   ]
  },
  {
   "cell_type": "code",
   "execution_count": 224,
   "metadata": {},
   "outputs": [],
   "source": [
    "class Employee():\n",
    "    \n",
    "    increament=0.5 #This is a class variable\n",
    "    no_employees=0\n",
    "    high_salary_employees=0\n",
    "    \n",
    "    def __init__(self,a,b,c,d):\n",
    "        \n",
    "        #These are instance variables\n",
    "        self.firstname=a \n",
    "        self.lastname=b\n",
    "        self.email=c\n",
    "        self.salary=d\n",
    "        \n",
    "        Employee.no_employees=Employee.no_employees+1\n",
    "        \n",
    "        if float(self.salary)>=100000:\n",
    "            Employee.high_salary_employees=Employee.high_salary_employees+1\n",
    "    \n",
    "    def salary_increase(self):\n",
    "        self.salary=self.salary*(1+self.increament)\n",
    "    \n",
    "    @staticmethod\n",
    "    def check_experience(years):\n",
    "        if years>=10:\n",
    "            return True\n",
    "        \n",
    "        return False"
   ]
  },
  {
   "cell_type": "code",
   "execution_count": 229,
   "metadata": {},
   "outputs": [],
   "source": [
    "wexp=20"
   ]
  },
  {
   "cell_type": "code",
   "execution_count": 230,
   "metadata": {},
   "outputs": [
    {
     "data": {
      "text/plain": [
       "True"
      ]
     },
     "execution_count": 230,
     "metadata": {},
     "output_type": "execute_result"
    }
   ],
   "source": [
    "Employee.check_experience(wexp)"
   ]
  },
  {
   "cell_type": "code",
   "execution_count": 225,
   "metadata": {},
   "outputs": [],
   "source": [
    "emp1=Employee(\"Sam\",\"Taylor\",\"sam@gmail.com\",10000)"
   ]
  },
  {
   "cell_type": "code",
   "execution_count": 227,
   "metadata": {},
   "outputs": [
    {
     "data": {
      "text/plain": [
       "True"
      ]
     },
     "execution_count": 227,
     "metadata": {},
     "output_type": "execute_result"
    }
   ],
   "source": [
    "emp1.check_experience(wexp)           # These static methods can be accessed by the instances as well"
   ]
  },
  {
   "cell_type": "code",
   "execution_count": 228,
   "metadata": {},
   "outputs": [
    {
     "data": {
      "text/plain": [
       "False"
      ]
     },
     "execution_count": 228,
     "metadata": {},
     "output_type": "execute_result"
    }
   ],
   "source": [
    "emp1.check_experience(9)"
   ]
  },
  {
   "cell_type": "code",
   "execution_count": null,
   "metadata": {},
   "outputs": [],
   "source": []
  }
 ],
 "metadata": {
  "kernelspec": {
   "display_name": "Python 3",
   "language": "python",
   "name": "python3"
  },
  "language_info": {
   "codemirror_mode": {
    "name": "ipython",
    "version": 3
   },
   "file_extension": ".py",
   "mimetype": "text/x-python",
   "name": "python",
   "nbconvert_exporter": "python",
   "pygments_lexer": "ipython3",
   "version": "3.8.5"
  }
 },
 "nbformat": 4,
 "nbformat_minor": 4
}
