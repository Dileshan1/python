{
 "cells": [
  {
   "cell_type": "markdown",
   "metadata": {},
   "source": [
    "# Funnction"
   ]
  },
  {
   "cell_type": "code",
   "execution_count": 3,
   "metadata": {},
   "outputs": [
    {
     "name": "stdout",
     "output_type": "stream",
     "text": [
      "Hi Dileshan\n",
      "Happy birth day.....!\n",
      "How about you\n",
      "What are we do today for your birthday\n",
      "We can go park\n",
      "\n",
      "Hi Prasad\n",
      "Happy birth day.....!\n",
      "How about you\n",
      "What are we do today for your birthday\n",
      "We can go park\n",
      "\n",
      "Hi Kamal\n",
      "Happy birth day.....!\n",
      "How about you\n",
      "What are we do today for your birthday\n",
      "We can go park\n",
      "\n",
      "Hi Sudeee\n",
      "Happy birth day.....!\n",
      "How about you\n",
      "What are we do today for your birthday\n",
      "We can go park\n",
      "\n"
     ]
    }
   ],
   "source": [
    "print(\"Hi Dileshan\")\n",
    "print(\"Happy birth day.....!\")\n",
    "print(\"How about you\")\n",
    "print(\"What are we do today for your birthday\")\n",
    "print(\"We can go park\")\n",
    "print()\n",
    "\n",
    "print(\"Hi Prasad\")\n",
    "print(\"Happy birth day.....!\")\n",
    "print(\"How about you\")\n",
    "print(\"What are we do today for your birthday\")\n",
    "print(\"We can go park\")\n",
    "print()\n",
    "\n",
    "print(\"Hi Kamal\")\n",
    "print(\"Happy birth day.....!\")\n",
    "print(\"How about you\")\n",
    "print(\"What are we do today for your birthday\")\n",
    "print(\"We can go park\")\n",
    "print()\n",
    "\n",
    "print(\"Hi Sudeee\")\n",
    "print(\"Happy birth day.....!\")\n",
    "print(\"How about you\")\n",
    "print(\"What are we do today for your birthday\")\n",
    "print(\"We can go park\")\n",
    "print()"
   ]
  },
  {
   "cell_type": "code",
   "execution_count": 4,
   "metadata": {},
   "outputs": [],
   "source": [
    "def wish_birthdar():\n",
    "    print(\"Happy birth day.....!\")\n",
    "    print(\"How about you\")\n",
    "    print(\"What are we do today for your birthday\")\n",
    "    print(\"We can go park\")\n",
    "    print()"
   ]
  },
  {
   "cell_type": "code",
   "execution_count": 5,
   "metadata": {},
   "outputs": [
    {
     "name": "stdout",
     "output_type": "stream",
     "text": [
      "Hi Dileshan\n",
      "Happy birth day.....!\n",
      "How about you\n",
      "What are we do today for your birthday\n",
      "We can go park\n",
      "\n",
      "Hi Prasad\n",
      "Happy birth day.....!\n",
      "How about you\n",
      "What are we do today for your birthday\n",
      "We can go park\n",
      "\n",
      "Hi Buddika\n",
      "Happy birth day.....!\n",
      "How about you\n",
      "What are we do today for your birthday\n",
      "We can go park\n",
      "\n",
      "Hi Sajeewa\n",
      "Happy birth day.....!\n",
      "How about you\n",
      "What are we do today for your birthday\n",
      "We can go park\n",
      "\n"
     ]
    }
   ],
   "source": [
    "print(\"Hi Dileshan\")\n",
    "wish_birthdar()\n",
    "\n",
    "print(\"Hi Prasad\")\n",
    "wish_birthdar()\n",
    "\n",
    "print(\"Hi Buddika\")\n",
    "wish_birthdar()\n",
    "\n",
    "print(\"Hi Sajeewa\")\n",
    "wish_birthdar()"
   ]
  },
  {
   "cell_type": "markdown",
   "metadata": {},
   "source": [
    "# Functions without arguments"
   ]
  },
  {
   "cell_type": "code",
   "execution_count": 6,
   "metadata": {},
   "outputs": [],
   "source": [
    "def wish_birthday():\n",
    "    print(\"Happy Birthday!!!\")"
   ]
  },
  {
   "cell_type": "code",
   "execution_count": 7,
   "metadata": {},
   "outputs": [
    {
     "name": "stdout",
     "output_type": "stream",
     "text": [
      "Happy Birthday!!!\n"
     ]
    }
   ],
   "source": [
    "wish_birthday()"
   ]
  },
  {
   "cell_type": "markdown",
   "metadata": {},
   "source": [
    "# Functions with arguments"
   ]
  },
  {
   "cell_type": "code",
   "execution_count": 8,
   "metadata": {},
   "outputs": [],
   "source": [
    "def add_vals(a,b):\n",
    "    print(a+b)"
   ]
  },
  {
   "cell_type": "code",
   "execution_count": 9,
   "metadata": {},
   "outputs": [
    {
     "name": "stdout",
     "output_type": "stream",
     "text": [
      "30\n"
     ]
    }
   ],
   "source": [
    "add_vals(20,10)"
   ]
  },
  {
   "cell_type": "code",
   "execution_count": 10,
   "metadata": {},
   "outputs": [
    {
     "name": "stdout",
     "output_type": "stream",
     "text": [
      "30\n"
     ]
    }
   ],
   "source": [
    "add_vals(-10,40)"
   ]
  },
  {
   "cell_type": "code",
   "execution_count": 16,
   "metadata": {},
   "outputs": [
    {
     "name": "stdout",
     "output_type": "stream",
     "text": [
      "Dileshan is good human\n"
     ]
    }
   ],
   "source": [
    "def name(name):                             # any kind(str, int, list....) of data you can add\n",
    "    print(\"{} is good human\".format(name))\n",
    "    \n",
    "name(\"Dileshan\")"
   ]
  },
  {
   "cell_type": "code",
   "execution_count": 17,
   "metadata": {},
   "outputs": [
    {
     "name": "stdout",
     "output_type": "stream",
     "text": [
      "[10, 13, 14, 12, 7]\n"
     ]
    }
   ],
   "source": [
    "def add_list(x, y):\n",
    "    print([i + j for i, j in zip(x, y)])\n",
    "    \n",
    "L1 = [1, 6, 9, 4, 5]\n",
    "L2 = [9, 7, 5, 8, 2, 0, 20]\n",
    "\n",
    "add_list(L1, L2)"
   ]
  },
  {
   "cell_type": "code",
   "execution_count": 18,
   "metadata": {},
   "outputs": [
    {
     "name": "stdout",
     "output_type": "stream",
     "text": [
      "Dileshan has Pass the exam with the grade A\n"
     ]
    }
   ],
   "source": [
    "def result(name, mark):\n",
    "    F_P = \"Pass\" if mark > 50 else \"Fail\"\n",
    "    Grade = \"A\" if mark > 80 else \"B\" if mark > 60 else \"C\" if mark > 45 else \"F\"\n",
    "    print(\"{} has {} the exam with the grade {}\".format(name, F_P, Grade))\n",
    "    \n",
    "result(\"Dileshan\", 99)"
   ]
  },
  {
   "cell_type": "code",
   "execution_count": 19,
   "metadata": {},
   "outputs": [
    {
     "name": "stdout",
     "output_type": "stream",
     "text": [
      "Dileshan has Pass the exam with the grade A\n"
     ]
    }
   ],
   "source": [
    "def result(name, mark):\n",
    "    print(\"{} has {} the exam with the grade {}\".format(name, \n",
    "                                                        \"Pass\" if mark > 50 else \"Fail\", \n",
    "                                                        \"A\" if mark > 80 else \"B\" if mark > 60 else \"C\" if mark > 45 else \"F\"))\n",
    "    \n",
    "result(\"Dileshan\", 99)"
   ]
  },
  {
   "cell_type": "markdown",
   "metadata": {},
   "source": [
    "# Default arguments"
   ]
  },
  {
   "cell_type": "code",
   "execution_count": 20,
   "metadata": {},
   "outputs": [
    {
     "name": "stdout",
     "output_type": "stream",
     "text": [
      "17\n",
      "31\n"
     ]
    }
   ],
   "source": [
    "def add_val(a = 12, b = 5):     # you get output, you can set the different values for a, b\n",
    "    print(a+b)\n",
    "    \n",
    "add_val()\n",
    "add_val(12, 19)"
   ]
  },
  {
   "cell_type": "code",
   "execution_count": 11,
   "metadata": {},
   "outputs": [],
   "source": [
    "def add_vals(a,b=10):\n",
    "    print(a+b)"
   ]
  },
  {
   "cell_type": "code",
   "execution_count": 12,
   "metadata": {},
   "outputs": [
    {
     "name": "stdout",
     "output_type": "stream",
     "text": [
      "15\n"
     ]
    }
   ],
   "source": [
    "add_vals(5)"
   ]
  },
  {
   "cell_type": "code",
   "execution_count": 13,
   "metadata": {},
   "outputs": [
    {
     "name": "stdout",
     "output_type": "stream",
     "text": [
      "30\n"
     ]
    }
   ],
   "source": [
    "add_vals(20,10)"
   ]
  },
  {
   "cell_type": "code",
   "execution_count": 14,
   "metadata": {},
   "outputs": [
    {
     "ename": "SyntaxError",
     "evalue": "non-default argument follows default argument (<ipython-input-14-a7e9e54bd437>, line 1)",
     "output_type": "error",
     "traceback": [
      "\u001b[1;36m  File \u001b[1;32m\"<ipython-input-14-a7e9e54bd437>\"\u001b[1;36m, line \u001b[1;32m1\u001b[0m\n\u001b[1;33m    def add_vals(a=10,b):\u001b[0m\n\u001b[1;37m                 ^\u001b[0m\n\u001b[1;31mSyntaxError\u001b[0m\u001b[1;31m:\u001b[0m non-default argument follows default argument\n"
     ]
    }
   ],
   "source": [
    "def add_vals(a=10,b):\n",
    "    print(a+b)\n",
    "\n",
    "# This returns an error. Non default argument can not follow a default argument"
   ]
  },
  {
   "cell_type": "code",
   "execution_count": 21,
   "metadata": {},
   "outputs": [],
   "source": [
    "def add_val(a, c, b = 12):       # this is work       \n",
    "    print(a+b)"
   ]
  },
  {
   "cell_type": "code",
   "execution_count": 23,
   "metadata": {},
   "outputs": [
    {
     "ename": "SyntaxError",
     "evalue": "non-default argument follows default argument (<ipython-input-23-864e4c8fbbba>, line 1)",
     "output_type": "error",
     "traceback": [
      "\u001b[1;36m  File \u001b[1;32m\"<ipython-input-23-864e4c8fbbba>\"\u001b[1;36m, line \u001b[1;32m1\u001b[0m\n\u001b[1;33m    def add_val(a = 15, c, b = 12):       # this is not work\u001b[0m\n\u001b[1;37m                ^\u001b[0m\n\u001b[1;31mSyntaxError\u001b[0m\u001b[1;31m:\u001b[0m non-default argument follows default argument\n"
     ]
    }
   ],
   "source": [
    "def add_val(a = 15, c, b = 12):       # this is not work       \n",
    "    print(a+b)"
   ]
  },
  {
   "cell_type": "markdown",
   "metadata": {},
   "source": [
    "# Return statement"
   ]
  },
  {
   "cell_type": "code",
   "execution_count": 37,
   "metadata": {},
   "outputs": [],
   "source": [
    "def add_vals(a = 15, b = 12):\n",
    "    print(a+b)             # This function does not return any value, It's just print. Therefore we cann't do any this output"
   ]
  },
  {
   "cell_type": "code",
   "execution_count": 39,
   "metadata": {},
   "outputs": [
    {
     "name": "stdout",
     "output_type": "stream",
     "text": [
      "27\n"
     ]
    }
   ],
   "source": [
    "x = add_vals()          "
   ]
  },
  {
   "cell_type": "code",
   "execution_count": 40,
   "metadata": {},
   "outputs": [],
   "source": [
    "x             # nothing "
   ]
  },
  {
   "cell_type": "code",
   "execution_count": 41,
   "metadata": {},
   "outputs": [
    {
     "name": "stdout",
     "output_type": "stream",
     "text": [
      "9\n"
     ]
    },
    {
     "ename": "TypeError",
     "evalue": "unsupported operand type(s) for +: 'int' and 'NoneType'",
     "output_type": "error",
     "traceback": [
      "\u001b[1;31m---------------------------------------------------------------------------\u001b[0m",
      "\u001b[1;31mTypeError\u001b[0m                                 Traceback (most recent call last)",
      "\u001b[1;32m<ipython-input-41-7ecc473fe256>\u001b[0m in \u001b[0;36m<module>\u001b[1;34m\u001b[0m\n\u001b[1;32m----> 1\u001b[1;33m \u001b[1;36m2\u001b[0m\u001b[1;33m+\u001b[0m\u001b[0madd_vals\u001b[0m\u001b[1;33m(\u001b[0m\u001b[1;36m4\u001b[0m\u001b[1;33m,\u001b[0m\u001b[1;36m5\u001b[0m\u001b[1;33m)\u001b[0m \u001b[1;31m#Print a value. But an error is given\u001b[0m\u001b[1;33m\u001b[0m\u001b[1;33m\u001b[0m\u001b[0m\n\u001b[0m",
      "\u001b[1;31mTypeError\u001b[0m: unsupported operand type(s) for +: 'int' and 'NoneType'"
     ]
    }
   ],
   "source": [
    "2+add_vals(4,5)         # Print a value. But an error is given"
   ]
  },
  {
   "cell_type": "code",
   "execution_count": 46,
   "metadata": {},
   "outputs": [],
   "source": [
    "def add_val2(a,b):\n",
    "    return a+b"
   ]
  },
  {
   "cell_type": "code",
   "execution_count": 48,
   "metadata": {},
   "outputs": [],
   "source": [
    "x = add_val2(15, 12)"
   ]
  },
  {
   "cell_type": "code",
   "execution_count": 50,
   "metadata": {},
   "outputs": [
    {
     "data": {
      "text/plain": [
       "27"
      ]
     },
     "execution_count": 50,
     "metadata": {},
     "output_type": "execute_result"
    }
   ],
   "source": [
    "x       # we can get output for out\n",
    "        # we can do any mathematical operation for this output"
   ]
  },
  {
   "cell_type": "code",
   "execution_count": 51,
   "metadata": {},
   "outputs": [
    {
     "data": {
      "text/plain": [
       "33"
      ]
     },
     "execution_count": 51,
     "metadata": {},
     "output_type": "execute_result"
    }
   ],
   "source": [
    "3+add_val2(10,20)"
   ]
  },
  {
   "cell_type": "code",
   "execution_count": 52,
   "metadata": {},
   "outputs": [
    {
     "data": {
      "text/plain": [
       "14"
      ]
     },
     "execution_count": 52,
     "metadata": {},
     "output_type": "execute_result"
    }
   ],
   "source": [
    "add_val2(add_val2(3,5),6)"
   ]
  },
  {
   "cell_type": "code",
   "execution_count": 53,
   "metadata": {},
   "outputs": [],
   "source": [
    "def absulute_val(a):\n",
    "    if a>=0:\n",
    "        return a\n",
    "    else:\n",
    "        return -a"
   ]
  },
  {
   "cell_type": "code",
   "execution_count": 54,
   "metadata": {},
   "outputs": [
    {
     "data": {
      "text/plain": [
       "10"
      ]
     },
     "execution_count": 54,
     "metadata": {},
     "output_type": "execute_result"
    }
   ],
   "source": [
    "absulute_val(10)"
   ]
  },
  {
   "cell_type": "code",
   "execution_count": 55,
   "metadata": {},
   "outputs": [
    {
     "data": {
      "text/plain": [
       "20"
      ]
     },
     "execution_count": 55,
     "metadata": {},
     "output_type": "execute_result"
    }
   ],
   "source": [
    "absulute_val(-20)"
   ]
  },
  {
   "cell_type": "code",
   "execution_count": 57,
   "metadata": {},
   "outputs": [
    {
     "data": {
      "text/plain": [
       "20"
      ]
     },
     "execution_count": 57,
     "metadata": {},
     "output_type": "execute_result"
    }
   ],
   "source": [
    "add_prod_vals(2,3,4)"
   ]
  },
  {
   "cell_type": "code",
   "execution_count": 56,
   "metadata": {},
   "outputs": [],
   "source": [
    "def add_prod_vals(a,b,c):\n",
    "    return add_val2(a,b)*c"
   ]
  },
  {
   "cell_type": "code",
   "execution_count": 59,
   "metadata": {},
   "outputs": [
    {
     "name": "stdout",
     "output_type": "stream",
     "text": [
      "Dile has Passed exam with the grade B\n"
     ]
    }
   ],
   "source": [
    "def pass_fail(p):\n",
    "    if p > 50:\n",
    "        return \"Pass\"\n",
    "    else:\n",
    "        return \"Fail\"\n",
    "    \n",
    "\n",
    "def grade(m):\n",
    "    if m > 80:\n",
    "        return \"A\"\n",
    "    elif m > 60:\n",
    "        return \"B\"\n",
    "    elif m > 45:\n",
    "        return \"C\"\n",
    "    else:\n",
    "        return \"F\"\n",
    "    \n",
    "def result(name, mark):\n",
    "    print(\"{} has {}ed exam with the grade {}\".format(name, pass_fail(mark), grade(mark)))\n",
    "    \n",
    "\n",
    "result(\"Dile\", 77)"
   ]
  },
  {
   "cell_type": "code",
   "execution_count": 60,
   "metadata": {},
   "outputs": [
    {
     "name": "stdout",
     "output_type": "stream",
     "text": [
      "dileshan has passed  exam with the grade C\n"
     ]
    }
   ],
   "source": [
    "def pass_fail(p):\n",
    "    return \"pass\" if p > 50 else \"fail\"\n",
    "\n",
    "def grade(m):\n",
    "    return \"A\" if m > 80 else \"B\" if m > 65 else \"C\" if m > 45 else \"F\"\n",
    "\n",
    "def result(name, mark):\n",
    "    print(\"{} has {}ed  exam with the grade {}\".format(name, pass_fail(mark), grade(mark)))\n",
    "    \n",
    "result(\"dileshan\", 63)"
   ]
  },
  {
   "cell_type": "code",
   "execution_count": 131,
   "metadata": {},
   "outputs": [
    {
     "data": {
      "text/plain": [
       "[53.25, 31.5, 56.75]"
      ]
     },
     "execution_count": 131,
     "metadata": {},
     "output_type": "execute_result"
    }
   ],
   "source": [
    "L = [[64, 24, 50], [30, 28, 48], [58, 55, 49], [61, 19, 80]]     # get average [p, q, r]\n",
    "\n",
    "def avg(L):\n",
    "    return [sum([L[i][j] for i in range(len(L))])/len(L) for j in range(len(L[0]))]\n",
    "\n",
    "avg(L)"
   ]
  },
  {
   "cell_type": "markdown",
   "metadata": {},
   "source": [
    "# Nested function (function with in the function)"
   ]
  },
  {
   "cell_type": "code",
   "execution_count": 61,
   "metadata": {},
   "outputs": [
    {
     "data": {
      "text/plain": [
       "289"
      ]
     },
     "execution_count": 61,
     "metadata": {},
     "output_type": "execute_result"
    }
   ],
   "source": [
    "def fun1(x, y):\n",
    "    def fun2(a, b):             # but we cann't change globle varible in here\n",
    "        return a + b\n",
    "    return fun2(x, y)**2\n",
    "\n",
    "\n",
    "fun1(12, 5)"
   ]
  },
  {
   "cell_type": "markdown",
   "metadata": {},
   "source": [
    "# Scope of the variables (global & local variable)"
   ]
  },
  {
   "cell_type": "code",
   "execution_count": 20,
   "metadata": {},
   "outputs": [
    {
     "name": "stdout",
     "output_type": "stream",
     "text": [
      "30\n",
      "20\n",
      "30\n"
     ]
    }
   ],
   "source": [
    "x=30                     # global variable\n",
    "\n",
    "def ret_val():\n",
    "    x=20                 # local variable\n",
    "    return x\n",
    "\n",
    "\n",
    "print(x)\n",
    "print(ret_val())\n",
    "print(x)             # not change global variable(only change local variable)"
   ]
  },
  {
   "cell_type": "code",
   "execution_count": 21,
   "metadata": {},
   "outputs": [
    {
     "name": "stdout",
     "output_type": "stream",
     "text": [
      "30\n",
      "20\n",
      "20\n"
     ]
    }
   ],
   "source": [
    "x=30\n",
    "\n",
    "def ret_val():\n",
    "    global x              \n",
    "    x=20                  # now this is global variable\n",
    "    return x\n",
    "\n",
    "\n",
    "print(x)\n",
    "print(ret_val())\n",
    "print(x)"
   ]
  },
  {
   "cell_type": "markdown",
   "metadata": {},
   "source": [
    "# map function - function for list"
   ]
  },
  {
   "cell_type": "code",
   "execution_count": 62,
   "metadata": {},
   "outputs": [],
   "source": [
    "def fun(x):\n",
    "    return 2*x"
   ]
  },
  {
   "cell_type": "code",
   "execution_count": 63,
   "metadata": {},
   "outputs": [
    {
     "data": {
      "text/plain": [
       "6"
      ]
     },
     "execution_count": 63,
     "metadata": {},
     "output_type": "execute_result"
    }
   ],
   "source": [
    "fun(3)"
   ]
  },
  {
   "cell_type": "code",
   "execution_count": 64,
   "metadata": {},
   "outputs": [
    {
     "data": {
      "text/plain": [
       "[20, 40, 60, 80, 100]"
      ]
     },
     "execution_count": 64,
     "metadata": {},
     "output_type": "execute_result"
    }
   ],
   "source": [
    "L=[10,20,30,40,50]\n",
    "L1=[fun(10),fun(20),fun(30),fun(40),fun(50)]\n",
    "L1"
   ]
  },
  {
   "cell_type": "code",
   "execution_count": 65,
   "metadata": {},
   "outputs": [
    {
     "data": {
      "text/plain": [
       "[20, 40, 60, 80, 100]"
      ]
     },
     "execution_count": 65,
     "metadata": {},
     "output_type": "execute_result"
    }
   ],
   "source": [
    "L2=[fun(i) for i in L]\n",
    "L2"
   ]
  },
  {
   "cell_type": "code",
   "execution_count": 66,
   "metadata": {},
   "outputs": [
    {
     "data": {
      "text/plain": [
       "[20, 40, 60, 80, 100]"
      ]
     },
     "execution_count": 66,
     "metadata": {},
     "output_type": "execute_result"
    }
   ],
   "source": [
    "L3=map(fun,L)       # unreadble output\n",
    "list(L3)"
   ]
  },
  {
   "cell_type": "code",
   "execution_count": 67,
   "metadata": {},
   "outputs": [],
   "source": [
    "L=[23,33,21,23,34]\n",
    "\n",
    "def fun(x):\n",
    "    return 5*x-10"
   ]
  },
  {
   "cell_type": "code",
   "execution_count": 68,
   "metadata": {},
   "outputs": [],
   "source": [
    "L2=map(fun,L)"
   ]
  },
  {
   "cell_type": "code",
   "execution_count": 69,
   "metadata": {},
   "outputs": [
    {
     "data": {
      "text/plain": [
       "[105, 155, 95, 105, 160]"
      ]
     },
     "execution_count": 69,
     "metadata": {},
     "output_type": "execute_result"
    }
   ],
   "source": [
    "list(L2)"
   ]
  },
  {
   "cell_type": "code",
   "execution_count": 70,
   "metadata": {},
   "outputs": [],
   "source": [
    "def even_odd(k):\n",
    "    if k%2==0:\n",
    "        return \"Even\"\n",
    "    else:\n",
    "        return \"Odd\""
   ]
  },
  {
   "cell_type": "code",
   "execution_count": 71,
   "metadata": {
    "scrolled": true
   },
   "outputs": [
    {
     "data": {
      "text/plain": [
       "['Even',\n",
       " 'Even',\n",
       " 'Odd',\n",
       " 'Odd',\n",
       " 'Even',\n",
       " 'Even',\n",
       " 'Even',\n",
       " 'Odd',\n",
       " 'Odd',\n",
       " 'Odd',\n",
       " 'Odd',\n",
       " 'Odd']"
      ]
     },
     "execution_count": 71,
     "metadata": {},
     "output_type": "execute_result"
    }
   ],
   "source": [
    "L=[12,22,23,11,24,44,56,55,43,11,23,55]\n",
    "L_even_odd=map(even_odd,L)\n",
    "list(L_even_odd)"
   ]
  },
  {
   "cell_type": "code",
   "execution_count": 72,
   "metadata": {},
   "outputs": [
    {
     "name": "stdout",
     "output_type": "stream",
     "text": [
      "[34, 56, 67]\n"
     ]
    }
   ],
   "source": [
    "K=[[34,33,21,23,45],[56,67,32],[67,56,42]]\n",
    "\n",
    "def fun2(L):\n",
    "    return L[0]\n",
    "\n",
    "P=map(fun2,K)\n",
    "print(list(P))"
   ]
  },
  {
   "cell_type": "markdown",
   "metadata": {},
   "source": [
    "# lambda keyword"
   ]
  },
  {
   "cell_type": "code",
   "execution_count": 136,
   "metadata": {},
   "outputs": [],
   "source": [
    "def fun1(x):\n",
    "    return 2*x\n",
    "\n",
    "fun2=lambda x : 2*x"
   ]
  },
  {
   "cell_type": "code",
   "execution_count": 137,
   "metadata": {},
   "outputs": [
    {
     "data": {
      "text/plain": [
       "10"
      ]
     },
     "execution_count": 137,
     "metadata": {},
     "output_type": "execute_result"
    }
   ],
   "source": [
    "fun1(5)"
   ]
  },
  {
   "cell_type": "code",
   "execution_count": 138,
   "metadata": {},
   "outputs": [
    {
     "data": {
      "text/plain": [
       "10"
      ]
     },
     "execution_count": 138,
     "metadata": {},
     "output_type": "execute_result"
    }
   ],
   "source": [
    "fun2(5)"
   ]
  },
  {
   "cell_type": "code",
   "execution_count": 139,
   "metadata": {},
   "outputs": [],
   "source": [
    "fun3=lambda x,y : x+y"
   ]
  },
  {
   "cell_type": "code",
   "execution_count": 140,
   "metadata": {},
   "outputs": [
    {
     "data": {
      "text/plain": [
       "30"
      ]
     },
     "execution_count": 140,
     "metadata": {},
     "output_type": "execute_result"
    }
   ],
   "source": [
    "fun3(10,20)"
   ]
  },
  {
   "cell_type": "code",
   "execution_count": 151,
   "metadata": {},
   "outputs": [
    {
     "data": {
      "text/plain": [
       "22"
      ]
     },
     "execution_count": 151,
     "metadata": {},
     "output_type": "execute_result"
    }
   ],
   "source": [
    "(lambda x, y : x+y)(10, 12)      # you can use directly"
   ]
  },
  {
   "cell_type": "code",
   "execution_count": 141,
   "metadata": {},
   "outputs": [],
   "source": [
    "fun=lambda x: 5*x\n",
    "L1=map(fun,[2,3,4,5,6])"
   ]
  },
  {
   "cell_type": "code",
   "execution_count": 142,
   "metadata": {},
   "outputs": [
    {
     "data": {
      "text/plain": [
       "[19.0, 33.0, 30.0, 15.333333333333334]"
      ]
     },
     "execution_count": 142,
     "metadata": {},
     "output_type": "execute_result"
    }
   ],
   "source": [
    "L=[[12,22,23],[34,32,33],[20,30,40],[12,15,19]]\n",
    "L3=map(lambda h:sum(h)/len(h),L)\n",
    "list(L3)"
   ]
  },
  {
   "cell_type": "code",
   "execution_count": 150,
   "metadata": {},
   "outputs": [
    {
     "data": {
      "text/plain": [
       "['2', '3', '4', '5', '6']"
      ]
     },
     "execution_count": 150,
     "metadata": {},
     "output_type": "execute_result"
    }
   ],
   "source": [
    "L2=map(lambda x:str(x),[2,3,4,5,6])\n",
    "list(L2)"
   ]
  },
  {
   "cell_type": "code",
   "execution_count": 152,
   "metadata": {},
   "outputs": [
    {
     "data": {
      "text/plain": [
       "[14, 16, 10, 14]"
      ]
     },
     "execution_count": 152,
     "metadata": {},
     "output_type": "execute_result"
    }
   ],
   "source": [
    "# apply lambda for list\n",
    "\n",
    "fun = lambda L : [i*2-2 for i in L if i > 5]\n",
    "\n",
    "fun([1, 5, 8, 4, 9, 6, 8])"
   ]
  },
  {
   "cell_type": "code",
   "execution_count": 153,
   "metadata": {},
   "outputs": [
    {
     "data": {
      "text/plain": [
       "[14, 16, 10, 14]"
      ]
     },
     "execution_count": 153,
     "metadata": {},
     "output_type": "execute_result"
    }
   ],
   "source": [
    "# same without function\n",
    "\n",
    "[i*2-2 for i in [1, 5, 8, 4, 9, 6, 8] if i>5]"
   ]
  },
  {
   "cell_type": "code",
   "execution_count": 155,
   "metadata": {},
   "outputs": [
    {
     "data": {
      "text/plain": [
       "[None, None, 14, None, 16, 10, 14]"
      ]
     },
     "execution_count": 155,
     "metadata": {},
     "output_type": "execute_result"
    }
   ],
   "source": [
    "# same using map function\n",
    "\n",
    "list(map(lambda x : x*2-2 if x>5 else None, [1, 5, 8, 4, 9, 6, 8]))"
   ]
  },
  {
   "cell_type": "code",
   "execution_count": 163,
   "metadata": {},
   "outputs": [
    {
     "data": {
      "text/plain": [
       "['C', 'A', 'C', 'B', 'B', 'B', 'C', 'C']"
      ]
     },
     "execution_count": 163,
     "metadata": {},
     "output_type": "execute_result"
    }
   ],
   "source": [
    "list(map(lambda marks: \"A\" if marks>=75 else \"B\" if marks>50 else \"C\", [45, 89, 46, 58, 74, 56, 25, 44]))"
   ]
  },
  {
   "cell_type": "code",
   "execution_count": 164,
   "metadata": {},
   "outputs": [
    {
     "data": {
      "text/plain": [
       "['C', 'A', 'C', 'B', 'B', 'B', 'C', 'C']"
      ]
     },
     "execution_count": 164,
     "metadata": {},
     "output_type": "execute_result"
    }
   ],
   "source": [
    "(lambda markss: [\"A\" if marks>=75 else \"B\" if marks>50 else \"C\" for marks in markss])([45, 89, 46, 58, 74, 56, 25, 44])"
   ]
  },
  {
   "cell_type": "code",
   "execution_count": 167,
   "metadata": {},
   "outputs": [
    {
     "data": {
      "text/plain": [
       "[('C', 'Fail'),\n",
       " ('A', 'Pass'),\n",
       " ('C', 'Fail'),\n",
       " ('B', 'Pass'),\n",
       " ('B', 'Pass'),\n",
       " ('B', 'Pass'),\n",
       " ('C', 'Fail'),\n",
       " ('C', 'Fail')]"
      ]
     },
     "execution_count": 167,
     "metadata": {},
     "output_type": "execute_result"
    }
   ],
   "source": [
    "list(map(lambda marks: (\"A\" if marks>=75 else \"B\" if marks>50 else \"C\", \"Pass\" if marks>50 else \"Fail\"), [45, 89, 46, 58, 74, 56, 25, 44]))"
   ]
  },
  {
   "cell_type": "code",
   "execution_count": 172,
   "metadata": {},
   "outputs": [
    {
     "data": {
      "text/plain": [
       "[('F', 'fail'),\n",
       " ('A', 'pass'),\n",
       " ('C', 'fail'),\n",
       " ('C', 'pass'),\n",
       " ('B', 'pass'),\n",
       " ('C', 'pass'),\n",
       " ('F', 'fail'),\n",
       " ('F', 'fail')]"
      ]
     },
     "execution_count": 172,
     "metadata": {},
     "output_type": "execute_result"
    }
   ],
   "source": [
    "L1 = list(map(lambda marks : \"A\" if marks > 80 else \"B\" if marks > 65 else \"C\" if marks > 45 else \"F\",  [45, 89, 46, 58, 74, 56, 25, 44]))\n",
    "L2 = list(map(lambda marks : 'pass' if marks > 50 else 'fail',  [45, 89, 46, 58, 74, 56, 25, 44]))\n",
    "list(zip(L1, L2))"
   ]
  },
  {
   "cell_type": "code",
   "execution_count": 170,
   "metadata": {
    "scrolled": false
   },
   "outputs": [
    {
     "data": {
      "text/plain": [
       "[('C', 'Fail', 55),\n",
       " ('A', 'Pass', 99),\n",
       " ('C', 'Fail', 56),\n",
       " ('B', 'Pass', 68),\n",
       " ('B', 'Pass', 84),\n",
       " ('B', 'Pass', 66),\n",
       " ('C', 'Fail', 35),\n",
       " ('C', 'Fail', 54)]"
      ]
     },
     "execution_count": 170,
     "metadata": {},
     "output_type": "execute_result"
    }
   ],
   "source": [
    "list(map(lambda marks: (\"A\" if marks>=75 else \"B\" if marks>50 else \"C\", \"Pass\" if marks>50 else \"Fail\", marks+10), [45, 89, 46, 58, 74, 56, 25, 44]))"
   ]
  },
  {
   "cell_type": "markdown",
   "metadata": {},
   "source": [
    "# Recursion"
   ]
  },
  {
   "cell_type": "code",
   "execution_count": 181,
   "metadata": {},
   "outputs": [],
   "source": [
    "def factorial(x):\n",
    "    if x==0 or x==1:\n",
    "        return 1\n",
    "    else:\n",
    "        return x*factorial(x-1)"
   ]
  },
  {
   "cell_type": "code",
   "execution_count": 182,
   "metadata": {},
   "outputs": [
    {
     "data": {
      "text/plain": [
       "120"
      ]
     },
     "execution_count": 182,
     "metadata": {},
     "output_type": "execute_result"
    }
   ],
   "source": [
    "factorial(5)"
   ]
  },
  {
   "cell_type": "code",
   "execution_count": 183,
   "metadata": {},
   "outputs": [],
   "source": [
    "factorial = lambda x : 1 if x==0 else x*factorial(x-1)"
   ]
  },
  {
   "cell_type": "code",
   "execution_count": 184,
   "metadata": {},
   "outputs": [],
   "source": [
    "def add_rec(x):\n",
    "    if x>=0:\n",
    "        if x==1:\n",
    "            return 1\n",
    "        else:\n",
    "            return x+add_rec(x-1)\n",
    "    else:\n",
    "        print(\"Try positive value\")"
   ]
  },
  {
   "cell_type": "code",
   "execution_count": 186,
   "metadata": {},
   "outputs": [
    {
     "data": {
      "text/plain": [
       "10"
      ]
     },
     "execution_count": 186,
     "metadata": {},
     "output_type": "execute_result"
    }
   ],
   "source": [
    "add_rec(4)"
   ]
  },
  {
   "cell_type": "markdown",
   "metadata": {},
   "source": [
    "# Non keyword arguments"
   ]
  },
  {
   "cell_type": "code",
   "execution_count": 187,
   "metadata": {},
   "outputs": [],
   "source": [
    "def fun(*args):\n",
    "    for i in args:\n",
    "        print(i, end=\" \")"
   ]
  },
  {
   "cell_type": "code",
   "execution_count": 188,
   "metadata": {},
   "outputs": [
    {
     "name": "stdout",
     "output_type": "stream",
     "text": [
      "12 22 34 45 "
     ]
    }
   ],
   "source": [
    "fun(12,22,34,45)"
   ]
  },
  {
   "cell_type": "code",
   "execution_count": 193,
   "metadata": {},
   "outputs": [
    {
     "data": {
      "text/plain": [
       "['fail', 'pass', 'pass', 'fail', 'pass']"
      ]
     },
     "execution_count": 193,
     "metadata": {},
     "output_type": "execute_result"
    }
   ],
   "source": [
    "def fun(*x):\n",
    "    return [\"pass\" if i>50 else \"fail\" for i in x]\n",
    "\n",
    "fun(45, 95, 56, 18, 88)"
   ]
  },
  {
   "cell_type": "code",
   "execution_count": 194,
   "metadata": {},
   "outputs": [
    {
     "data": {
      "text/plain": [
       "45"
      ]
     },
     "execution_count": 194,
     "metadata": {},
     "output_type": "execute_result"
    }
   ],
   "source": [
    "def fun(y, *x):      \n",
    "    return y\n",
    "\n",
    "fun(45, 89, 56, 26, 65, 85, 98)            # \"y\" in first place, anther all are \"x\" "
   ]
  },
  {
   "cell_type": "code",
   "execution_count": 197,
   "metadata": {},
   "outputs": [
    {
     "data": {
      "text/plain": [
       "[True, False, True, True, False, False, True, True, False, True, False]"
      ]
     },
     "execution_count": 197,
     "metadata": {},
     "output_type": "execute_result"
    }
   ],
   "source": [
    "def fun(y, *x):\n",
    "    return [i>y for i in x]\n",
    "\n",
    "fun(45, 56, 45, 89, 78, 26, 32, 78, 59, 15, 56, 45) "
   ]
  },
  {
   "cell_type": "code",
   "execution_count": 196,
   "metadata": {},
   "outputs": [
    {
     "data": {
      "text/plain": [
       "[True, False, True, True, False, False, True, True, False, True, False]"
      ]
     },
     "execution_count": 196,
     "metadata": {},
     "output_type": "execute_result"
    }
   ],
   "source": [
    "fun = lambda y, *x : [i>y for i in x]\n",
    "\n",
    "fun(45, 56, 45, 89, 78, 26, 32, 78, 59, 15, 56, 45) "
   ]
  },
  {
   "cell_type": "markdown",
   "metadata": {},
   "source": [
    "# Keyword arguments (creating dictionary)"
   ]
  },
  {
   "cell_type": "code",
   "execution_count": 189,
   "metadata": {},
   "outputs": [],
   "source": [
    "def fun(**kwargs):\n",
    "    return kwargs"
   ]
  },
  {
   "cell_type": "code",
   "execution_count": 191,
   "metadata": {},
   "outputs": [
    {
     "data": {
      "text/plain": [
       "{'param1': 34, 'param2': 67, 'param3': 14, 'param4': 72}"
      ]
     },
     "execution_count": 191,
     "metadata": {},
     "output_type": "execute_result"
    }
   ],
   "source": [
    "fun(param1=34,param2=67,param3=14,param4=72)"
   ]
  },
  {
   "cell_type": "code",
   "execution_count": 198,
   "metadata": {},
   "outputs": [
    {
     "data": {
      "text/plain": [
       "((45, 89, 56, 32, 54), {'a': 5, 'b': 8, 'c': 1, 'd': 9})"
      ]
     },
     "execution_count": 198,
     "metadata": {},
     "output_type": "execute_result"
    }
   ],
   "source": [
    "def fun(*x, **y):    # in here you must key word in last \n",
    "    return x, y\n",
    "\n",
    "fun(45, 89, 56, 32, 54, a=5, b=8, c=1,d=9)"
   ]
  },
  {
   "cell_type": "code",
   "execution_count": null,
   "metadata": {},
   "outputs": [],
   "source": []
  }
 ],
 "metadata": {
  "kernelspec": {
   "display_name": "Python 3",
   "language": "python",
   "name": "python3"
  },
  "language_info": {
   "codemirror_mode": {
    "name": "ipython",
    "version": 3
   },
   "file_extension": ".py",
   "mimetype": "text/x-python",
   "name": "python",
   "nbconvert_exporter": "python",
   "pygments_lexer": "ipython3",
   "version": "3.8.5"
  }
 },
 "nbformat": 4,
 "nbformat_minor": 4
}
