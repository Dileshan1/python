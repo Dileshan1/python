{
 "cells": [
  {
   "cell_type": "markdown",
   "metadata": {},
   "source": [
    "# Import-> Create Main Window-> Add Widgets-> Enter The Main Event Loop"
   ]
  },
  {
   "cell_type": "markdown",
   "metadata": {},
   "source": [
    "# Import libraries"
   ]
  },
  {
   "cell_type": "code",
   "execution_count": 1,
   "metadata": {},
   "outputs": [],
   "source": [
    "import tkinter\n",
    "from tkinter.ttk import Combobox\n",
    "from tkinter.scrolledtext import ScrolledText\n",
    "from tkinter import messagebox"
   ]
  },
  {
   "cell_type": "markdown",
   "metadata": {},
   "source": [
    "# Creating the window"
   ]
  },
  {
   "cell_type": "code",
   "execution_count": 2,
   "metadata": {},
   "outputs": [],
   "source": [
    "window = tkinter.Tk()           # create frame\n",
    "window.title(\"GUI\")\n",
    "window.geometry(\"500x300\")      # size\n",
    "\n",
    "window.mainloop()               # runnin this code until you close the GUI"
   ]
  },
  {
   "cell_type": "markdown",
   "metadata": {},
   "source": [
    "# Label"
   ]
  },
  {
   "cell_type": "code",
   "execution_count": 3,
   "metadata": {},
   "outputs": [],
   "source": [
    "window=tkinter.Tk()\n",
    "\n",
    "window.title(\"GUI\")\n",
    "window.geometry(\"300x200\")\n",
    "\n",
    "label1=tkinter.Label(window,text=\"Option 01\",font=(\"Arial Bold\",10))\n",
    "label1.grid(column=0,row=0)\n",
    "\n",
    "window.mainloop()"
   ]
  },
  {
   "cell_type": "markdown",
   "metadata": {},
   "source": [
    "# Button"
   ]
  },
  {
   "cell_type": "code",
   "execution_count": 17,
   "metadata": {},
   "outputs": [],
   "source": [
    "window=tkinter.Tk()\n",
    "\n",
    "window.title(\"GUI\")\n",
    "window.geometry(\"300x200\")\n",
    "\n",
    "label1=tkinter.Label(window,text=\"Option 01\",font=(\"Arial Bold\",10))\n",
    "label1.grid(column=0,row=0)\n",
    "\n",
    "button1=tkinter.Button(window,text=\"Button 01\",bg=\"yellow\",fg=\"red\")\n",
    "button1.grid(column=1,row=0)\n",
    "\n",
    "window.mainloop()"
   ]
  },
  {
   "cell_type": "markdown",
   "metadata": {},
   "source": [
    "# Button function"
   ]
  },
  {
   "cell_type": "code",
   "execution_count": 18,
   "metadata": {},
   "outputs": [],
   "source": [
    "window=tkinter.Tk()\n",
    "\n",
    "window.title(\"GUI\")\n",
    "window.geometry(\"300x200\")\n",
    "\n",
    "label1=tkinter.Label(window,text=\"Option 01\",font=(\"Arial Bold\",10))\n",
    "label1.grid(column=0,row=0)\n",
    "\n",
    "def clickedb1():\n",
    "    print(\"Hi\")\n",
    "\n",
    "button1=tkinter.Button(window,text=\"Button 01\",bg=\"yellow\",fg=\"red\",command=clickedb1)\n",
    "button1.grid(column=1,row=0)\n",
    "\n",
    "window.mainloop()"
   ]
  },
  {
   "cell_type": "markdown",
   "metadata": {},
   "source": [
    "# Text Box"
   ]
  },
  {
   "cell_type": "code",
   "execution_count": 6,
   "metadata": {},
   "outputs": [
    {
     "name": "stdout",
     "output_type": "stream",
     "text": [
      "\n",
      "\n"
     ]
    }
   ],
   "source": [
    "window=tkinter.Tk()\n",
    "\n",
    "window.title(\"GUI\")\n",
    "window.geometry(\"300x200\")\n",
    "\n",
    "label1=tkinter.Label(window,text=\"Option 01\",font=(\"Arial Bold\",10))\n",
    "label1.grid(column=0,row=0)\n",
    "\n",
    "txt1=tkinter.Entry(window,width=20)              # can't set height\n",
    "txt1.grid(column=1,row=0)\n",
    "\n",
    "def clickedb1():\n",
    "    print(txt1.get())\n",
    "\n",
    "button1=tkinter.Button(window,text=\"Button 01\",bg=\"yellow\",fg=\"red\",command=clickedb1)\n",
    "button1.grid(column=2,row=0)\n",
    "\n",
    "window.mainloop()"
   ]
  },
  {
   "cell_type": "markdown",
   "metadata": {},
   "source": [
    "# Combo box(Drop down)"
   ]
  },
  {
   "cell_type": "code",
   "execution_count": 20,
   "metadata": {},
   "outputs": [
    {
     "name": "stdout",
     "output_type": "stream",
     "text": [
      "30\n",
      "30\n",
      "B\n"
     ]
    }
   ],
   "source": [
    "window=tkinter.Tk()\n",
    "\n",
    "window.title(\"GUI\")\n",
    "window.geometry(\"300x200\")\n",
    "\n",
    "combo1=Combobox(window)                        # work as dictionary\n",
    "combo1[\"values\"]=(10,20,30,40,50,\"A\",\"B\",\"C\")\n",
    "combo1.current(2)                              # current value index to display\n",
    "combo1.grid(column=0,row=0)\n",
    "\n",
    "def clickedb1():\n",
    "    print(combo1.get())\n",
    "\n",
    "button1=tkinter.Button(window,text=\"Button 01\",bg=\"yellow\",fg=\"red\",command=clickedb1)\n",
    "button1.grid(column=1,row=0)\n",
    "\n",
    "window.mainloop()"
   ]
  },
  {
   "cell_type": "markdown",
   "metadata": {},
   "source": [
    "# Check Buttons"
   ]
  },
  {
   "cell_type": "code",
   "execution_count": 21,
   "metadata": {},
   "outputs": [],
   "source": [
    "window=tkinter.Tk()\n",
    "\n",
    "window.title(\"GUI\")\n",
    "window.geometry(\"300x200\")\n",
    "\n",
    "ch_state1=tkinter.BooleanVar()             # there has two output (True or False)\n",
    "ch_state1.set(False)                       # defalt argument\n",
    "chk1=tkinter.Checkbutton(window,text=\"Select1\",var=ch_state1)\n",
    "chk1.grid(column=1,row=2)\n",
    "\n",
    "ch_state2=tkinter.BooleanVar()\n",
    "ch_state2.set(False)\n",
    "chk2=tkinter.Checkbutton(window,text=\"Select2\",var=ch_state2)\n",
    "chk2.grid(column=1,row=3)\n",
    "\n",
    "ch_state3=tkinter.BooleanVar()\n",
    "ch_state3.set(False)\n",
    "chk3=tkinter.Checkbutton(window,text=\"Select3\",var=ch_state3)\n",
    "chk3.grid(column=1,row=4)\n",
    "\n",
    "def clickedb1():\n",
    "    print(combo1.get())\n",
    "\n",
    "button1=tkinter.Button(window,text=\"Button 01\",bg=\"yellow\",fg=\"red\",command=clickedb1)\n",
    "button1.grid(column=2,row=0)\n",
    "\n",
    "window.mainloop()"
   ]
  },
  {
   "cell_type": "markdown",
   "metadata": {},
   "source": [
    "# Radio Button"
   ]
  },
  {
   "cell_type": "code",
   "execution_count": 22,
   "metadata": {},
   "outputs": [],
   "source": [
    "window=tkinter.Tk()\n",
    "\n",
    "window.title(\"GUI\")\n",
    "window.geometry(\"700x300\")\n",
    "\n",
    "rad1=tkinter.Radiobutton(window,text=\"Option 01\",value=1)\n",
    "rad1.grid(column=3,row=0)\n",
    "\n",
    "rad2=tkinter.Radiobutton(window,text=\"Option 02\",value=2)\n",
    "rad2.grid(column=4,row=0)\n",
    "\n",
    "rad3=tkinter.Radiobutton(window,text=\"Option 03\",value=3)\n",
    "rad3.grid(column=5,row=0)\n",
    "\n",
    "def clickedb1():\n",
    "    print(combo1.get())\n",
    "\n",
    "button1=tkinter.Button(window,text=\"Button 01\",bg=\"yellow\",fg=\"red\",command=clickedb1)\n",
    "button1.grid(column=2,row=0)\n",
    "\n",
    "window.mainloop()"
   ]
  },
  {
   "cell_type": "markdown",
   "metadata": {},
   "source": [
    "# Scrolled Text"
   ]
  },
  {
   "cell_type": "code",
   "execution_count": 24,
   "metadata": {},
   "outputs": [],
   "source": [
    "window=tkinter.Tk()\n",
    "\n",
    "window.title(\"GUI\")\n",
    "window.geometry(\"700x300\")\n",
    "\n",
    "txt1=tkinter.Entry(window,width=20)\n",
    "txt1.grid(column=0,row=0)\n",
    "\n",
    "stxt1=ScrolledText(window,height=10,width=10)\n",
    "stxt1.grid(column=0,row=5)\n",
    "\n",
    "window.mainloop()"
   ]
  },
  {
   "cell_type": "markdown",
   "metadata": {},
   "source": [
    "# Message Box"
   ]
  },
  {
   "cell_type": "code",
   "execution_count": 25,
   "metadata": {},
   "outputs": [],
   "source": [
    "window=tkinter.Tk()\n",
    "\n",
    "window.title(\"GUI\")\n",
    "window.geometry(\"700x300\")\n",
    "\n",
    "# messagebox.showinfo(\"Message\",\"This is the message\")\n",
    "\n",
    "def clickedb1():\n",
    "    messagebox.showinfo(\"Message\",\"This is the message\")\n",
    "\n",
    "button1=tkinter.Button(window,text=\"Button 01\",bg=\"yellow\",fg=\"red\",command=clickedb1)\n",
    "button1.grid(column=2,row=0)\n",
    "\n",
    "window.mainloop()"
   ]
  },
  {
   "cell_type": "markdown",
   "metadata": {},
   "source": [
    "# Spin Box"
   ]
  },
  {
   "cell_type": "code",
   "execution_count": 26,
   "metadata": {},
   "outputs": [],
   "source": [
    "window=tkinter.Tk()\n",
    "\n",
    "window.title(\"GUI\")\n",
    "window.geometry(\"700x500\")\n",
    "\n",
    "sp1=tkinter.Spinbox(window,from_=0,to=10,width=5)\n",
    "sp1.grid(column=1,row=6)\n",
    "\n",
    "window.mainloop()"
   ]
  },
  {
   "cell_type": "markdown",
   "metadata": {},
   "source": [
    "# Simple Project - Digital Clock"
   ]
  },
  {
   "cell_type": "code",
   "execution_count": 13,
   "metadata": {},
   "outputs": [],
   "source": [
    "from tkinter import *\n",
    "from tkinter.ttk import *\n",
    "from time import strftime"
   ]
  },
  {
   "cell_type": "code",
   "execution_count": 14,
   "metadata": {},
   "outputs": [],
   "source": [
    "window=Tk()\n",
    "window.title(\"My Clock\")\n",
    "\n",
    "def time():\n",
    "    string=strftime(\"%H:%M:%S  %p\")\n",
    "    label.config(text=string)\n",
    "    label.after(1000,time)            # do again same function 1000 milliseconds(1 second)\n",
    "\n",
    "label=Label(window,font=(\"Arial Bold\",50),background=\"black\",foreground=\"yellow\")\n",
    "label.grid(column=0,row=0)\n",
    "\n",
    "time()\n",
    "\n",
    "window.mainloop()"
   ]
  },
  {
   "cell_type": "code",
   "execution_count": null,
   "metadata": {},
   "outputs": [],
   "source": []
  }
 ],
 "metadata": {
  "kernelspec": {
   "display_name": "Python 3",
   "language": "python",
   "name": "python3"
  },
  "language_info": {
   "codemirror_mode": {
    "name": "ipython",
    "version": 3
   },
   "file_extension": ".py",
   "mimetype": "text/x-python",
   "name": "python",
   "nbconvert_exporter": "python",
   "pygments_lexer": "ipython3",
   "version": "3.8.5"
  }
 },
 "nbformat": 4,
 "nbformat_minor": 4
}
