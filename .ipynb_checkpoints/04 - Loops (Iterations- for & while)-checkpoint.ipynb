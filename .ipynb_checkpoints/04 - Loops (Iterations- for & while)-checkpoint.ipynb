{
 "cells": [
  {
   "cell_type": "markdown",
   "metadata": {},
   "source": [
    "# For loop"
   ]
  },
  {
   "cell_type": "markdown",
   "metadata": {},
   "source": [
    "# Basic for loop"
   ]
  },
  {
   "cell_type": "code",
   "execution_count": 1,
   "metadata": {},
   "outputs": [],
   "source": [
    "L=[11,22,33,44,55,66,77]"
   ]
  },
  {
   "cell_type": "code",
   "execution_count": 2,
   "metadata": {},
   "outputs": [
    {
     "name": "stdout",
     "output_type": "stream",
     "text": [
      "11\n",
      "22\n",
      "33\n",
      "44\n",
      "55\n",
      "66\n",
      "77\n"
     ]
    }
   ],
   "source": [
    "for i in L:\n",
    "    print(i)"
   ]
  },
  {
   "cell_type": "code",
   "execution_count": 3,
   "metadata": {},
   "outputs": [
    {
     "name": "stdout",
     "output_type": "stream",
     "text": [
      "11 22 33 44 55 66 77 "
     ]
    }
   ],
   "source": [
    "for i in L:\n",
    "    print(i, end=\" \")"
   ]
  },
  {
   "cell_type": "code",
   "execution_count": 4,
   "metadata": {},
   "outputs": [
    {
     "name": "stdout",
     "output_type": "stream",
     "text": [
      "22,44,66,88,110,132,154,"
     ]
    }
   ],
   "source": [
    "for i in L:\n",
    "    print(2*i, end=\",\")"
   ]
  },
  {
   "cell_type": "code",
   "execution_count": 5,
   "metadata": {},
   "outputs": [
    {
     "name": "stdout",
     "output_type": "stream",
     "text": [
      "22 44 66 "
     ]
    }
   ],
   "source": [
    "for i in L:\n",
    "    if i%2==0:\n",
    "        print(i, end=\" \")"
   ]
  },
  {
   "cell_type": "markdown",
   "metadata": {},
   "source": [
    "# Range function"
   ]
  },
  {
   "cell_type": "code",
   "execution_count": 5,
   "metadata": {},
   "outputs": [
    {
     "data": {
      "text/plain": [
       "range(1, 10)"
      ]
     },
     "execution_count": 5,
     "metadata": {},
     "output_type": "execute_result"
    }
   ],
   "source": [
    "range(1,10)"
   ]
  },
  {
   "cell_type": "code",
   "execution_count": 6,
   "metadata": {},
   "outputs": [
    {
     "data": {
      "text/plain": [
       "[1, 2, 3, 4, 5, 6, 7, 8, 9]"
      ]
     },
     "execution_count": 6,
     "metadata": {},
     "output_type": "execute_result"
    }
   ],
   "source": [
    "list(range(1,10))"
   ]
  },
  {
   "cell_type": "code",
   "execution_count": 7,
   "metadata": {},
   "outputs": [
    {
     "data": {
      "text/plain": [
       "[1, 2, 3, 4, 5, 6, 7, 8, 9, 10]"
      ]
     },
     "execution_count": 7,
     "metadata": {},
     "output_type": "execute_result"
    }
   ],
   "source": [
    "list(range(1,11))"
   ]
  },
  {
   "cell_type": "code",
   "execution_count": 8,
   "metadata": {},
   "outputs": [
    {
     "data": {
      "text/plain": [
       "[0, 1, 2, 3, 4, 5, 6, 7, 8, 9, 10]"
      ]
     },
     "execution_count": 8,
     "metadata": {},
     "output_type": "execute_result"
    }
   ],
   "source": [
    "list(range(11))"
   ]
  },
  {
   "cell_type": "code",
   "execution_count": 9,
   "metadata": {},
   "outputs": [
    {
     "data": {
      "text/plain": [
       "[1, 3, 5, 7, 9]"
      ]
     },
     "execution_count": 9,
     "metadata": {},
     "output_type": "execute_result"
    }
   ],
   "source": [
    "list(range(1,11,2))"
   ]
  },
  {
   "cell_type": "markdown",
   "metadata": {},
   "source": [
    "# For loop with range function"
   ]
  },
  {
   "cell_type": "code",
   "execution_count": 10,
   "metadata": {},
   "outputs": [
    {
     "name": "stdout",
     "output_type": "stream",
     "text": [
      "0\n",
      "1\n",
      "2\n",
      "3\n",
      "4\n",
      "5\n",
      "6\n",
      "7\n",
      "8\n",
      "9\n"
     ]
    }
   ],
   "source": [
    "for i in range(10):\n",
    "    print(i)"
   ]
  },
  {
   "cell_type": "code",
   "execution_count": 11,
   "metadata": {},
   "outputs": [
    {
     "name": "stdout",
     "output_type": "stream",
     "text": [
      "11 12 13 14 15 16 17 18 19 20 "
     ]
    }
   ],
   "source": [
    "for i in range(11,21):\n",
    "    print(i, end=\" \")"
   ]
  },
  {
   "cell_type": "code",
   "execution_count": 12,
   "metadata": {},
   "outputs": [
    {
     "name": "stdout",
     "output_type": "stream",
     "text": [
      "Odd Even Odd Even Odd Even Odd Even Odd Even "
     ]
    }
   ],
   "source": [
    "for i in range(1,11):\n",
    "    if i%2==0:\n",
    "        print(\"Even\", end=\" \")\n",
    "    else:\n",
    "        print(\"Odd\", end=\" \")"
   ]
  },
  {
   "cell_type": "markdown",
   "metadata": {},
   "source": [
    "# Break keyword"
   ]
  },
  {
   "cell_type": "code",
   "execution_count": 13,
   "metadata": {},
   "outputs": [
    {
     "name": "stdout",
     "output_type": "stream",
     "text": [
      "12\n",
      "22\n",
      "23\n",
      "34\n"
     ]
    }
   ],
   "source": [
    "for i in [12,22,23,34,56,43,67]:\n",
    "    if i>=50:\n",
    "        break\n",
    "    print(i)"
   ]
  },
  {
   "cell_type": "markdown",
   "metadata": {},
   "source": [
    "# Continue keyword"
   ]
  },
  {
   "cell_type": "code",
   "execution_count": 14,
   "metadata": {},
   "outputs": [
    {
     "name": "stdout",
     "output_type": "stream",
     "text": [
      "12\n",
      "22\n",
      "23\n",
      "34\n",
      "43\n"
     ]
    }
   ],
   "source": [
    "for i in [12,22,23,34,56,43,67]:\n",
    "    if i>=50:\n",
    "        continue\n",
    "    print(i)"
   ]
  },
  {
   "cell_type": "markdown",
   "metadata": {},
   "source": [
    "# Multiple for loops"
   ]
  },
  {
   "cell_type": "code",
   "execution_count": 15,
   "metadata": {},
   "outputs": [
    {
     "name": "stdout",
     "output_type": "stream",
     "text": [
      "I know\n",
      "I can do it !!!\n",
      "I can do it !!!\n",
      "I know\n",
      "I can do it !!!\n",
      "I can do it !!!\n",
      "I know\n",
      "I can do it !!!\n",
      "I can do it !!!\n"
     ]
    }
   ],
   "source": [
    "for i in range(3):\n",
    "    print(\"I know\")\n",
    "    for j in range(2):\n",
    "        print(\"I can do it !!!\")"
   ]
  },
  {
   "cell_type": "code",
   "execution_count": 16,
   "metadata": {},
   "outputs": [
    {
     "name": "stdout",
     "output_type": "stream",
     "text": [
      "20 40 60 \n",
      "40 80 120 \n",
      "60 120 180 \n"
     ]
    }
   ],
   "source": [
    "L1=[10,20,30]\n",
    "L2=[2,4,6]\n",
    "\n",
    "for i in L1:\n",
    "    for j in L2:\n",
    "        print(i*j,end=\" \")\n",
    "        \n",
    "    print()"
   ]
  },
  {
   "cell_type": "code",
   "execution_count": 17,
   "metadata": {},
   "outputs": [
    {
     "name": "stdout",
     "output_type": "stream",
     "text": [
      "3\n",
      "5\n",
      "5\n",
      "5\n",
      "10\n",
      "10\n",
      "10\n",
      "10\n",
      "10\n",
      "7\n",
      "7\n",
      "7\n",
      "7\n"
     ]
    }
   ],
   "source": [
    "L1=[3,5,10,2,7]\n",
    "L2=[2,4,6,3,8]\n",
    "\n",
    "for i in L1:\n",
    "    for j in L2:\n",
    "        if i>j:\n",
    "            print(i)"
   ]
  },
  {
   "cell_type": "code",
   "execution_count": 18,
   "metadata": {},
   "outputs": [
    {
     "name": "stdout",
     "output_type": "stream",
     "text": [
      "7\n",
      "9\n",
      "11\n",
      "8\n",
      "13\n",
      "12\n",
      "14\n",
      "16\n",
      "13\n",
      "18\n"
     ]
    }
   ],
   "source": [
    "L1=[3,5,10,2,4]\n",
    "L2=[2,4,6,3,8]\n",
    "\n",
    "for i in L1:\n",
    "    if i>=5:\n",
    "        for j in L2:\n",
    "            print(i+j)"
   ]
  },
  {
   "cell_type": "markdown",
   "metadata": {},
   "source": [
    "# For loop inside lists"
   ]
  },
  {
   "cell_type": "code",
   "execution_count": 19,
   "metadata": {},
   "outputs": [],
   "source": [
    "L=[23,33,21,45,56]"
   ]
  },
  {
   "cell_type": "code",
   "execution_count": 20,
   "metadata": {
    "scrolled": true
   },
   "outputs": [
    {
     "name": "stdout",
     "output_type": "stream",
     "text": [
      "[46, 66, 42, 90, 112]\n"
     ]
    }
   ],
   "source": [
    "L_new=[2*i for i in L]\n",
    "print(L_new)"
   ]
  },
  {
   "cell_type": "code",
   "execution_count": 21,
   "metadata": {
    "scrolled": true
   },
   "outputs": [
    {
     "name": "stdout",
     "output_type": "stream",
     "text": [
      "[3, 6, 9, 12, 15, 18, 21, 24, 27, 30]\n"
     ]
    }
   ],
   "source": [
    "K=[3*j for j in range(1,11)]\n",
    "print(K)"
   ]
  },
  {
   "cell_type": "code",
   "execution_count": 22,
   "metadata": {
    "scrolled": true
   },
   "outputs": [
    {
     "name": "stdout",
     "output_type": "stream",
     "text": [
      "[33, 34, 56]\n"
     ]
    }
   ],
   "source": [
    "H=[23,33,34,45,56,78]\n",
    "S=[H[i] for i in [1,2,4]]\n",
    "print(S)"
   ]
  },
  {
   "cell_type": "markdown",
   "metadata": {},
   "source": [
    "# For loop inside lists with if condition"
   ]
  },
  {
   "cell_type": "code",
   "execution_count": 24,
   "metadata": {},
   "outputs": [],
   "source": [
    "L=[11,23,24,46,57,68,43,50]"
   ]
  },
  {
   "cell_type": "code",
   "execution_count": 25,
   "metadata": {},
   "outputs": [
    {
     "name": "stdout",
     "output_type": "stream",
     "text": [
      "[24, 46, 68, 50]\n"
     ]
    }
   ],
   "source": [
    "L_new=[j for j in L if j%2==0]\n",
    "print(L_new)"
   ]
  },
  {
   "cell_type": "markdown",
   "metadata": {},
   "source": [
    "# For loop inside lists with if else conditions"
   ]
  },
  {
   "cell_type": "code",
   "execution_count": 26,
   "metadata": {},
   "outputs": [],
   "source": [
    "L=[11,23,24,46,57,68,43,50]"
   ]
  },
  {
   "cell_type": "code",
   "execution_count": 27,
   "metadata": {},
   "outputs": [
    {
     "name": "stdout",
     "output_type": "stream",
     "text": [
      "['Odd', 'Odd', 'Even', 'Even', 'Odd', 'Even', 'Odd', 'Even']\n"
     ]
    }
   ],
   "source": [
    "L_new=[\"Even\" if i%2==0 else \"Odd\" for i in L]\n",
    "print(L_new)"
   ]
  },
  {
   "cell_type": "code",
   "execution_count": 28,
   "metadata": {},
   "outputs": [],
   "source": [
    "mark=[90,34,56,78,83,45,68]"
   ]
  },
  {
   "cell_type": "code",
   "execution_count": 31,
   "metadata": {},
   "outputs": [
    {
     "name": "stdout",
     "output_type": "stream",
     "text": [
      "['A', 'Repeat', 'C', 'B', 'A', 'Repeat', 'B']\n"
     ]
    }
   ],
   "source": [
    "Grade=[\"A\" if i>=80 else \"B\" if i>=65 else \"C\" if i>=50 else \"Repeat\" for i in mark]\n",
    "print(Grade)"
   ]
  },
  {
   "cell_type": "markdown",
   "metadata": {},
   "source": [
    "# Multiple for loops inside lists"
   ]
  },
  {
   "cell_type": "code",
   "execution_count": 32,
   "metadata": {},
   "outputs": [
    {
     "data": {
      "text/plain": [
       "[6,\n",
       " 7,\n",
       " 4,\n",
       " 7,\n",
       " 4,\n",
       " 8,\n",
       " 9,\n",
       " 6,\n",
       " 9,\n",
       " 6,\n",
       " 9,\n",
       " 10,\n",
       " 7,\n",
       " 10,\n",
       " 7,\n",
       " 7,\n",
       " 8,\n",
       " 5,\n",
       " 8,\n",
       " 5,\n",
       " 10,\n",
       " 11,\n",
       " 8,\n",
       " 11,\n",
       " 8]"
      ]
     },
     "execution_count": 32,
     "metadata": {},
     "output_type": "execute_result"
    }
   ],
   "source": [
    "L1=[2,4,5,3,6]\n",
    "L2=[4,5,2,5,2]\n",
    "L3=[]\n",
    "\n",
    "for i in L1:\n",
    "    for j in L2:\n",
    "        L3.append(i+j)\n",
    "        \n",
    "L3"
   ]
  },
  {
   "cell_type": "code",
   "execution_count": 33,
   "metadata": {},
   "outputs": [
    {
     "data": {
      "text/plain": [
       "[6,\n",
       " 7,\n",
       " 4,\n",
       " 7,\n",
       " 4,\n",
       " 8,\n",
       " 9,\n",
       " 6,\n",
       " 9,\n",
       " 6,\n",
       " 9,\n",
       " 10,\n",
       " 7,\n",
       " 10,\n",
       " 7,\n",
       " 7,\n",
       " 8,\n",
       " 5,\n",
       " 8,\n",
       " 5,\n",
       " 10,\n",
       " 11,\n",
       " 8,\n",
       " 11,\n",
       " 8]"
      ]
     },
     "execution_count": 33,
     "metadata": {},
     "output_type": "execute_result"
    }
   ],
   "source": [
    "L1=[2,4,5,3,6]\n",
    "L2=[4,5,2,5,2]\n",
    "\n",
    "L4=[i+j for i in L1 for j in L2]\n",
    "L4"
   ]
  },
  {
   "cell_type": "code",
   "execution_count": 34,
   "metadata": {},
   "outputs": [
    {
     "data": {
      "text/plain": [
       "[4, 5, 5, 4, 5, 5, 4, 5, 5, 4]"
      ]
     },
     "execution_count": 34,
     "metadata": {},
     "output_type": "execute_result"
    }
   ],
   "source": [
    "L1=[2,4,5,3,6]\n",
    "L2=[4,5,2,5,4]\n",
    "\n",
    "L_check=[j for i in L1 for j in L2 if j>i]\n",
    "L_check"
   ]
  },
  {
   "cell_type": "markdown",
   "metadata": {},
   "source": [
    "# Enumerate function"
   ]
  },
  {
   "cell_type": "code",
   "execution_count": 56,
   "metadata": {},
   "outputs": [
    {
     "data": {
      "text/plain": [
       "[(0, 10), (1, 11), (2, 12), (3, 5), (4, 6), (5, 7), (6, 8), (7, 9), (8, 10)]"
      ]
     },
     "execution_count": 56,
     "metadata": {},
     "output_type": "execute_result"
    }
   ],
   "source": [
    "L = [10, 11, 12, 5, 6, 7, 8, 9, 10]\n",
    "\n",
    "list(enumerate(L))      # not readble. \"list\" for seen list"
   ]
  },
  {
   "cell_type": "code",
   "execution_count": 35,
   "metadata": {},
   "outputs": [
    {
     "name": "stdout",
     "output_type": "stream",
     "text": [
      "0\n",
      "12\n",
      "----\n",
      "1\n",
      "22\n",
      "----\n",
      "2\n",
      "34\n",
      "----\n",
      "3\n",
      "45\n",
      "----\n"
     ]
    },
    {
     "data": {
      "text/plain": [
       "{0: 12, 1: 22, 2: 34, 3: 45}"
      ]
     },
     "execution_count": 35,
     "metadata": {},
     "output_type": "execute_result"
    }
   ],
   "source": [
    "L=[12,22,34,45]\n",
    "d = {}\n",
    "for i,j in enumerate(L):            # i gives index for all element\n",
    "    print(i)\n",
    "    print(j)\n",
    "    d[i] = j\n",
    "    print(\"----\")\n",
    "\n",
    "d"
   ]
  },
  {
   "cell_type": "code",
   "execution_count": 36,
   "metadata": {},
   "outputs": [
    {
     "data": {
      "text/plain": [
       "[33, 45, 67]"
      ]
     },
     "execution_count": 36,
     "metadata": {},
     "output_type": "execute_result"
    }
   ],
   "source": [
    "H=[23,33,44,43,45,56,43,32,56,67]\n",
    "S=[j for i,j in enumerate(H) if i in [1,4,9]]\n",
    "S"
   ]
  },
  {
   "cell_type": "code",
   "execution_count": 38,
   "metadata": {},
   "outputs": [
    {
     "data": {
      "text/plain": [
       "[33, 45, 67]"
      ]
     },
     "execution_count": 38,
     "metadata": {},
     "output_type": "execute_result"
    }
   ],
   "source": [
    "H=[23,33,44,43,45,56,43,32,56,67]\n",
    "S=[H[i] for i in [1,4,9]]\n",
    "S"
   ]
  },
  {
   "cell_type": "markdown",
   "metadata": {},
   "source": [
    "# Zip function"
   ]
  },
  {
   "cell_type": "code",
   "execution_count": 57,
   "metadata": {},
   "outputs": [
    {
     "data": {
      "text/plain": [
       "[(7, 3, 6), (2, 4, 9), (5, 5, 7), (6, 6, 2), (9, 4, 5)]"
      ]
     },
     "execution_count": 57,
     "metadata": {},
     "output_type": "execute_result"
    }
   ],
   "source": [
    "L1 = [7, 2, 5, 6, 9]\n",
    "L2 = [3, 4, 5, 6, 4]\n",
    "L3 = [6, 9, 7, 2, 5, 1]\n",
    "\n",
    "list(zip(L1, L2, L3))    # zip is not readble\n",
    "                         # L3 last element (1) not in nested list"
   ]
  },
  {
   "cell_type": "code",
   "execution_count": 39,
   "metadata": {},
   "outputs": [
    {
     "name": "stdout",
     "output_type": "stream",
     "text": [
      "12 23\n",
      "22 33\n",
      "23 45\n",
      "34 67\n",
      "54 43\n"
     ]
    }
   ],
   "source": [
    "L1=[12,22,23,34,54]\n",
    "L2=[23,33,45,67,43]\n",
    "\n",
    "for i,j in zip(L1,L2):\n",
    "    print(i,j)"
   ]
  },
  {
   "cell_type": "code",
   "execution_count": 40,
   "metadata": {},
   "outputs": [],
   "source": [
    "L1=[12,22,23,34,54]\n",
    "L2=[23,33,45,67,43]\n",
    "\n",
    "L_Sum=[]\n",
    "for i,j in zip(L1,L2):\n",
    "    L_Sum.append(i+j)"
   ]
  },
  {
   "cell_type": "code",
   "execution_count": 41,
   "metadata": {},
   "outputs": [
    {
     "data": {
      "text/plain": [
       "[35, 55, 68, 101, 97]"
      ]
     },
     "execution_count": 41,
     "metadata": {},
     "output_type": "execute_result"
    }
   ],
   "source": [
    "L_Sum"
   ]
  },
  {
   "cell_type": "code",
   "execution_count": 42,
   "metadata": {},
   "outputs": [
    {
     "name": "stdout",
     "output_type": "stream",
     "text": [
      "[35, 55, 68, 101, 97]\n"
     ]
    }
   ],
   "source": [
    "L_sum2=[i+j for i,j in zip(L1,L2)]\n",
    "print(L_sum2)"
   ]
  },
  {
   "cell_type": "code",
   "execution_count": 45,
   "metadata": {
    "scrolled": true
   },
   "outputs": [
    {
     "data": {
      "text/plain": [
       "{12: 23, 22: 33, 23: 45, 34: 67, 54: 43}"
      ]
     },
     "execution_count": 45,
     "metadata": {},
     "output_type": "execute_result"
    }
   ],
   "source": [
    "L1=[12,22,23,34,54]                # Create dictionary\n",
    "L2=[23,33,45,67,43]\n",
    "\n",
    "dict(list(zip(L1,L2)))"
   ]
  },
  {
   "cell_type": "markdown",
   "metadata": {},
   "source": [
    "# all & any with for loops & lists"
   ]
  },
  {
   "cell_type": "code",
   "execution_count": 46,
   "metadata": {},
   "outputs": [],
   "source": [
    "L=[12,22,23,35,30,56,67]\n",
    "K=[10,20,30,40,50]"
   ]
  },
  {
   "cell_type": "code",
   "execution_count": 47,
   "metadata": {},
   "outputs": [
    {
     "data": {
      "text/plain": [
       "[True, True, False, False, True, True, False]"
      ]
     },
     "execution_count": 47,
     "metadata": {},
     "output_type": "execute_result"
    }
   ],
   "source": [
    "[g%2==0 for g in L]"
   ]
  },
  {
   "cell_type": "code",
   "execution_count": 52,
   "metadata": {
    "scrolled": true
   },
   "outputs": [
    {
     "data": {
      "text/plain": [
       "False"
      ]
     },
     "execution_count": 52,
     "metadata": {},
     "output_type": "execute_result"
    }
   ],
   "source": [
    "all(g%2==0 for g in L)"
   ]
  },
  {
   "cell_type": "code",
   "execution_count": 49,
   "metadata": {},
   "outputs": [
    {
     "data": {
      "text/plain": [
       "True"
      ]
     },
     "execution_count": 49,
     "metadata": {},
     "output_type": "execute_result"
    }
   ],
   "source": [
    "all(g%2==0 for g in K)"
   ]
  },
  {
   "cell_type": "code",
   "execution_count": 50,
   "metadata": {},
   "outputs": [
    {
     "data": {
      "text/plain": [
       "True"
      ]
     },
     "execution_count": 50,
     "metadata": {},
     "output_type": "execute_result"
    }
   ],
   "source": [
    "any(g%2==0 for g in L)"
   ]
  },
  {
   "cell_type": "code",
   "execution_count": 53,
   "metadata": {},
   "outputs": [
    {
     "data": {
      "text/plain": [
       "True"
      ]
     },
     "execution_count": 53,
     "metadata": {},
     "output_type": "execute_result"
    }
   ],
   "source": [
    "any([True, True, False, False, True, True, False])"
   ]
  },
  {
   "cell_type": "code",
   "execution_count": 54,
   "metadata": {
    "scrolled": true
   },
   "outputs": [
    {
     "data": {
      "text/plain": [
       "False"
      ]
     },
     "execution_count": 54,
     "metadata": {},
     "output_type": "execute_result"
    }
   ],
   "source": [
    "all([True, True, False, False, True, True, False])"
   ]
  },
  {
   "cell_type": "code",
   "execution_count": null,
   "metadata": {},
   "outputs": [],
   "source": [
    "details = {\"sam\": 80, \"cam\": 51, \"dil\": 22, \"pra\": 45, \"budd\": 80}\n",
    "result = []\n",
    "\n",
    "for i in details.values():\n",
    "    if i > 50:\n",
    "        print(list(details.keys())[list(details.values()).index(i)])"
   ]
  },
  {
   "cell_type": "markdown",
   "metadata": {},
   "source": [
    "# While loop"
   ]
  },
  {
   "cell_type": "code",
   "execution_count": 58,
   "metadata": {},
   "outputs": [
    {
     "name": "stdout",
     "output_type": "stream",
     "text": [
      "0\n",
      "2\n",
      "4\n",
      "6\n",
      "8\n"
     ]
    }
   ],
   "source": [
    "x=0\n",
    "\n",
    "while x<5:\n",
    "    print(2*x)\n",
    "    x=x+1"
   ]
  },
  {
   "cell_type": "code",
   "execution_count": 60,
   "metadata": {},
   "outputs": [
    {
     "name": "stdout",
     "output_type": "stream",
     "text": [
      "Enter a value:56\n",
      "Enter a value:65\n",
      "Enter a value:23\n",
      "Enter a value:56\n",
      "Enter a value:65\n",
      "Enter a value:45\n",
      "Enter a value:3\n",
      "Enter a value:34\n"
     ]
    }
   ],
   "source": [
    "flag=True\n",
    "\n",
    "val=int(input(\"Enter a value:\"))\n",
    "\n",
    "while flag:\n",
    "    val=int(input(\"Enter a value:\"))\n",
    "    if val>30 and val<40:\n",
    "        flag=False"
   ]
  },
  {
   "cell_type": "markdown",
   "metadata": {},
   "source": [
    "## While Else"
   ]
  },
  {
   "cell_type": "code",
   "execution_count": 61,
   "metadata": {
    "scrolled": true
   },
   "outputs": [
    {
     "name": "stdout",
     "output_type": "stream",
     "text": [
      "Please enter your card pin number:456\n",
      "Please enter your card pin number:632\n",
      "Please enter your card pin number:13\n",
      "Please enter your card pin number:13246\n",
      "Please enter your card pin number:123456\n",
      "Please enter your card pin number:12345678\n",
      "You have accessed to the machine\n"
     ]
    }
   ],
   "source": [
    "pin=12345678\n",
    "check=True\n",
    "\n",
    "while check:\n",
    "    entered_pin=int(input(\"Please enter your card pin number:\"))\n",
    "    if entered_pin==pin:\n",
    "        check=False\n",
    "else:\n",
    "    print(\"You have accessed to the machine\")"
   ]
  },
  {
   "cell_type": "code",
   "execution_count": 62,
   "metadata": {},
   "outputs": [
    {
     "name": "stdout",
     "output_type": "stream",
     "text": [
      "Please enter your card pin number:456\n",
      "Please enter your card pin number:89\n",
      "Please enter your card pin number:23\n",
      "Please enter your card pin number:12345678\n",
      "You have accessed to the machine\n"
     ]
    }
   ],
   "source": [
    "pin=12345678\n",
    "\n",
    "entered_pin=int(input(\"Please enter your card pin number:\"))\n",
    "\n",
    "while entered_pin!=pin:\n",
    "    entered_pin=int(input(\"Please enter your card pin number:\"))\n",
    "else:\n",
    "    print(\"You have accessed to the machine\")"
   ]
  },
  {
   "cell_type": "code",
   "execution_count": 77,
   "metadata": {},
   "outputs": [
    {
     "name": "stdout",
     "output_type": "stream",
     "text": [
      "Please enter your username:abc\n",
      "Please enter your card pin number:56\n",
      "Entered pin is incorrect. You have 5 more times to try\n",
      "**************************************************************************\n",
      "Check again and enter your correct card pin number:3\n",
      "Entered pin is incorrect. You have 4 more times to try\n",
      "**************************************************************************\n",
      "Check again and enter your correct card pin number:3\n",
      "Entered pin is incorrect. You have 3 more times to try\n",
      "**************************************************************************\n",
      "Check again and enter your correct card pin number:3\n",
      "Entered pin is incorrect. You have 2 more times to try\n",
      "**************************************************************************\n",
      "Check again and enter your correct card pin number:3\n",
      "Entered pin is incorrect. You have 1 more times to try\n",
      "**************************************************************************\n",
      "Check again and enter your correct card pin number:5\n",
      "You have tried the maximum number of times. Enter your card again and try\n"
     ]
    }
   ],
   "source": [
    "card_details={\"un\":[\"abc\",\"xyz\",\"pqr\"],\"pin\":[1234,5678,1357]}\n",
    "\n",
    "\n",
    "entered_un=input(\"Please enter your username:\")\n",
    "if entered_un in card_details[\"un\"]:\n",
    "    entered_pin=int(input(\"Please enter your card pin number:\"))\n",
    "    count=0\n",
    "    while entered_pin!=card_details[\"pin\"][card_details[\"un\"].index(entered_un)]:\n",
    "        if count==5:\n",
    "            print(\"You have tried the maximum number of times. Enter your card again and try\")\n",
    "            break\n",
    "        print(\"Entered pin is incorrect. You have \"+str(5-count)+\" more times to try\")\n",
    "        print(\"**************************************************************************\")\n",
    "        entered_pin=int(input(\"Check again and enter your correct card pin number:\"))\n",
    "        count=count+1\n",
    "        \n",
    "    else:\n",
    "        print(\"You have accessed to the machine\")\n",
    "else:\n",
    "    print(\"Entered username is incorrect. You have to enter the card again and enter a valid username\")"
   ]
  },
  {
   "cell_type": "code",
   "execution_count": 76,
   "metadata": {},
   "outputs": [
    {
     "name": "stdout",
     "output_type": "stream",
     "text": [
      "Enter user name : prasa\n",
      "Enter pin no : 546\n",
      "Entered pin is incorrect. You have 5 more times to try\n",
      "Enter pin no : 897\n",
      "Entered pin is incorrect. You have 4 more times to try\n",
      "Enter pin no : 54\n",
      "Entered pin is incorrect. You have 3 more times to try\n",
      "Enter pin no : 534\n",
      "Entered pin is incorrect. You have 2 more times to try\n",
      "Enter pin no : 3\n",
      "Entered pin is incorrect. You have 1 more times to try\n",
      "Enter pin no : 32\n",
      "Entered pin is incorrect. You have 0 more times to try\n"
     ]
    }
   ],
   "source": [
    "card_details = {\"UserName\": [\"dile\", \"prasa\", \"budd\"], \"pass\": [123, 456, 879]}\n",
    "\n",
    "user = input(\"Enter user name : \")\n",
    "i=0\n",
    "\n",
    "if user in card_details[\"UserName\"]:\n",
    "    while i<=5:\n",
    "        pin = int(input(\"Enter pin no : \"))\n",
    "        i=i+1\n",
    "        if pin == card_details[\"pass\"][card_details[\"UserName\"].index(user)]:\n",
    "            print(\"You have accessed to the machine\")\n",
    "            break\n",
    "        else:\n",
    "            print(\"Entered pin is incorrect. You have \"+str(6-i)+\" more times to try\")\n",
    "        \n",
    "else:\n",
    "    print(\"Entered username is incorrect. You have to enter the card again and enter a valid username\")"
   ]
  },
  {
   "cell_type": "code",
   "execution_count": null,
   "metadata": {},
   "outputs": [],
   "source": []
  }
 ],
 "metadata": {
  "kernelspec": {
   "display_name": "Python 3",
   "language": "python",
   "name": "python3"
  },
  "language_info": {
   "codemirror_mode": {
    "name": "ipython",
    "version": 3
   },
   "file_extension": ".py",
   "mimetype": "text/x-python",
   "name": "python",
   "nbconvert_exporter": "python",
   "pygments_lexer": "ipython3",
   "version": "3.8.5"
  }
 },
 "nbformat": 4,
 "nbformat_minor": 4
}
