{
 "cells": [
  {
   "cell_type": "code",
   "execution_count": 1,
   "metadata": {},
   "outputs": [],
   "source": [
    "from scipy import special\n",
    "\n",
    "# scipy has more mathematical operations."
   ]
  },
  {
   "cell_type": "code",
   "execution_count": 2,
   "metadata": {},
   "outputs": [
    {
     "data": {
      "text/plain": [
       "100.0"
      ]
     },
     "execution_count": 2,
     "metadata": {},
     "output_type": "execute_result"
    }
   ],
   "source": [
    "special.exp10(2)"
   ]
  },
  {
   "cell_type": "code",
   "execution_count": 3,
   "metadata": {},
   "outputs": [
    {
     "data": {
      "text/plain": [
       "100"
      ]
     },
     "execution_count": 3,
     "metadata": {},
     "output_type": "execute_result"
    }
   ],
   "source": [
    "10*10"
   ]
  },
  {
   "cell_type": "code",
   "execution_count": 4,
   "metadata": {},
   "outputs": [
    {
     "data": {
      "text/plain": [
       "16.0"
      ]
     },
     "execution_count": 4,
     "metadata": {},
     "output_type": "execute_result"
    }
   ],
   "source": [
    "special.exp2(4)"
   ]
  },
  {
   "cell_type": "code",
   "execution_count": 5,
   "metadata": {},
   "outputs": [
    {
     "data": {
      "text/plain": [
       "16"
      ]
     },
     "execution_count": 5,
     "metadata": {},
     "output_type": "execute_result"
    }
   ],
   "source": [
    "2*2*2*2"
   ]
  },
  {
   "cell_type": "code",
   "execution_count": 6,
   "metadata": {},
   "outputs": [],
   "source": [
    "?special.expn"
   ]
  },
  {
   "cell_type": "code",
   "execution_count": 7,
   "metadata": {},
   "outputs": [
    {
     "data": {
      "text/plain": [
       "0.7625584504796027"
      ]
     },
     "execution_count": 7,
     "metadata": {},
     "output_type": "execute_result"
    }
   ],
   "source": [
    "import numpy as np\n",
    "\n",
    "np.sin(26)       # here use radian"
   ]
  },
  {
   "cell_type": "code",
   "execution_count": 8,
   "metadata": {},
   "outputs": [
    {
     "data": {
      "text/plain": [
       "1.0"
      ]
     },
     "execution_count": 8,
     "metadata": {},
     "output_type": "execute_result"
    }
   ],
   "source": [
    "np.sin((np.pi)/2)              # here use digree"
   ]
  },
  {
   "cell_type": "code",
   "execution_count": 10,
   "metadata": {},
   "outputs": [
    {
     "data": {
      "text/plain": [
       "1.0"
      ]
     },
     "execution_count": 10,
     "metadata": {},
     "output_type": "execute_result"
    }
   ],
   "source": [
    "special.sindg(90)              # scipy use digree and radian"
   ]
  },
  {
   "cell_type": "code",
   "execution_count": 12,
   "metadata": {},
   "outputs": [
    {
     "data": {
      "text/plain": [
       "['SpecialFunctionError',\n",
       " 'SpecialFunctionWarning',\n",
       " '__all__',\n",
       " '__builtins__',\n",
       " '__cached__',\n",
       " '__doc__',\n",
       " '__file__',\n",
       " '__loader__',\n",
       " '__name__',\n",
       " '__package__',\n",
       " '__path__',\n",
       " '__spec__',\n",
       " '_basic',\n",
       " '_comb',\n",
       " '_ellip_harm',\n",
       " '_ellip_harm_2',\n",
       " '_lambertw',\n",
       " '_logsumexp',\n",
       " '_spherical_bessel',\n",
       " '_ufuncs',\n",
       " '_ufuncs_cxx',\n",
       " 'agm',\n",
       " 'ai_zeros',\n",
       " 'airy',\n",
       " 'airye',\n",
       " 'assoc_laguerre',\n",
       " 'bdtr',\n",
       " 'bdtrc',\n",
       " 'bdtri',\n",
       " 'bdtrik',\n",
       " 'bdtrin',\n",
       " 'bei',\n",
       " 'bei_zeros',\n",
       " 'beip',\n",
       " 'beip_zeros',\n",
       " 'ber',\n",
       " 'ber_zeros',\n",
       " 'bernoulli',\n",
       " 'berp',\n",
       " 'berp_zeros',\n",
       " 'besselpoly',\n",
       " 'beta',\n",
       " 'betainc',\n",
       " 'betaincinv',\n",
       " 'betaln',\n",
       " 'bi_zeros',\n",
       " 'binom',\n",
       " 'boxcox',\n",
       " 'boxcox1p',\n",
       " 'btdtr',\n",
       " 'btdtri',\n",
       " 'btdtria',\n",
       " 'btdtrib',\n",
       " 'c_roots',\n",
       " 'cbrt',\n",
       " 'cg_roots',\n",
       " 'chdtr',\n",
       " 'chdtrc',\n",
       " 'chdtri',\n",
       " 'chdtriv',\n",
       " 'chebyc',\n",
       " 'chebys',\n",
       " 'chebyt',\n",
       " 'chebyu',\n",
       " 'chndtr',\n",
       " 'chndtridf',\n",
       " 'chndtrinc',\n",
       " 'chndtrix',\n",
       " 'clpmn',\n",
       " 'comb',\n",
       " 'cosdg',\n",
       " 'cosm1',\n",
       " 'cotdg',\n",
       " 'dawsn',\n",
       " 'digamma',\n",
       " 'diric',\n",
       " 'ellip_harm',\n",
       " 'ellip_harm_2',\n",
       " 'ellip_normal',\n",
       " 'ellipe',\n",
       " 'ellipeinc',\n",
       " 'ellipj',\n",
       " 'ellipk',\n",
       " 'ellipkinc',\n",
       " 'ellipkm1',\n",
       " 'entr',\n",
       " 'erf',\n",
       " 'erf_zeros',\n",
       " 'erfc',\n",
       " 'erfcinv',\n",
       " 'erfcx',\n",
       " 'erfi',\n",
       " 'erfinv',\n",
       " 'errstate',\n",
       " 'euler',\n",
       " 'eval_chebyc',\n",
       " 'eval_chebys',\n",
       " 'eval_chebyt',\n",
       " 'eval_chebyu',\n",
       " 'eval_gegenbauer',\n",
       " 'eval_genlaguerre',\n",
       " 'eval_hermite',\n",
       " 'eval_hermitenorm',\n",
       " 'eval_jacobi',\n",
       " 'eval_laguerre',\n",
       " 'eval_legendre',\n",
       " 'eval_sh_chebyt',\n",
       " 'eval_sh_chebyu',\n",
       " 'eval_sh_jacobi',\n",
       " 'eval_sh_legendre',\n",
       " 'exp1',\n",
       " 'exp10',\n",
       " 'exp2',\n",
       " 'expi',\n",
       " 'expit',\n",
       " 'expm1',\n",
       " 'expn',\n",
       " 'exprel',\n",
       " 'factorial',\n",
       " 'factorial2',\n",
       " 'factorialk',\n",
       " 'fdtr',\n",
       " 'fdtrc',\n",
       " 'fdtri',\n",
       " 'fdtridfd',\n",
       " 'fresnel',\n",
       " 'fresnel_zeros',\n",
       " 'fresnelc_zeros',\n",
       " 'fresnels_zeros',\n",
       " 'gamma',\n",
       " 'gammainc',\n",
       " 'gammaincc',\n",
       " 'gammainccinv',\n",
       " 'gammaincinv',\n",
       " 'gammaln',\n",
       " 'gammasgn',\n",
       " 'gdtr',\n",
       " 'gdtrc',\n",
       " 'gdtria',\n",
       " 'gdtrib',\n",
       " 'gdtrix',\n",
       " 'gegenbauer',\n",
       " 'genlaguerre',\n",
       " 'geterr',\n",
       " 'h1vp',\n",
       " 'h2vp',\n",
       " 'h_roots',\n",
       " 'hankel1',\n",
       " 'hankel1e',\n",
       " 'hankel2',\n",
       " 'hankel2e',\n",
       " 'he_roots',\n",
       " 'hermite',\n",
       " 'hermitenorm',\n",
       " 'huber',\n",
       " 'hyp0f1',\n",
       " 'hyp1f1',\n",
       " 'hyp2f1',\n",
       " 'hyperu',\n",
       " 'i0',\n",
       " 'i0e',\n",
       " 'i1',\n",
       " 'i1e',\n",
       " 'inv_boxcox',\n",
       " 'inv_boxcox1p',\n",
       " 'it2i0k0',\n",
       " 'it2j0y0',\n",
       " 'it2struve0',\n",
       " 'itairy',\n",
       " 'iti0k0',\n",
       " 'itj0y0',\n",
       " 'itmodstruve0',\n",
       " 'itstruve0',\n",
       " 'iv',\n",
       " 'ive',\n",
       " 'ivp',\n",
       " 'j0',\n",
       " 'j1',\n",
       " 'j_roots',\n",
       " 'jacobi',\n",
       " 'jn',\n",
       " 'jn_zeros',\n",
       " 'jnjnp_zeros',\n",
       " 'jnp_zeros',\n",
       " 'jnyn_zeros',\n",
       " 'js_roots',\n",
       " 'jv',\n",
       " 'jve',\n",
       " 'jvp',\n",
       " 'k0',\n",
       " 'k0e',\n",
       " 'k1',\n",
       " 'k1e',\n",
       " 'kei',\n",
       " 'kei_zeros',\n",
       " 'keip',\n",
       " 'keip_zeros',\n",
       " 'kelvin',\n",
       " 'kelvin_zeros',\n",
       " 'ker',\n",
       " 'ker_zeros',\n",
       " 'kerp',\n",
       " 'kerp_zeros',\n",
       " 'kl_div',\n",
       " 'kn',\n",
       " 'kolmogi',\n",
       " 'kolmogorov',\n",
       " 'kv',\n",
       " 'kve',\n",
       " 'kvp',\n",
       " 'l_roots',\n",
       " 'la_roots',\n",
       " 'laguerre',\n",
       " 'lambertw',\n",
       " 'legendre',\n",
       " 'lmbda',\n",
       " 'log1p',\n",
       " 'log_ndtr',\n",
       " 'log_softmax',\n",
       " 'loggamma',\n",
       " 'logit',\n",
       " 'logsumexp',\n",
       " 'lpmn',\n",
       " 'lpmv',\n",
       " 'lpn',\n",
       " 'lqmn',\n",
       " 'lqn',\n",
       " 'mathieu_a',\n",
       " 'mathieu_b',\n",
       " 'mathieu_cem',\n",
       " 'mathieu_even_coef',\n",
       " 'mathieu_modcem1',\n",
       " 'mathieu_modcem2',\n",
       " 'mathieu_modsem1',\n",
       " 'mathieu_modsem2',\n",
       " 'mathieu_odd_coef',\n",
       " 'mathieu_sem',\n",
       " 'modfresnelm',\n",
       " 'modfresnelp',\n",
       " 'modstruve',\n",
       " 'multigammaln',\n",
       " 'nbdtr',\n",
       " 'nbdtrc',\n",
       " 'nbdtri',\n",
       " 'nbdtrik',\n",
       " 'nbdtrin',\n",
       " 'ncfdtr',\n",
       " 'ncfdtri',\n",
       " 'ncfdtridfd',\n",
       " 'ncfdtridfn',\n",
       " 'ncfdtrinc',\n",
       " 'nctdtr',\n",
       " 'nctdtridf',\n",
       " 'nctdtrinc',\n",
       " 'nctdtrit',\n",
       " 'ndtr',\n",
       " 'ndtri',\n",
       " 'nrdtrimn',\n",
       " 'nrdtrisd',\n",
       " 'obl_ang1',\n",
       " 'obl_ang1_cv',\n",
       " 'obl_cv',\n",
       " 'obl_cv_seq',\n",
       " 'obl_rad1',\n",
       " 'obl_rad1_cv',\n",
       " 'obl_rad2',\n",
       " 'obl_rad2_cv',\n",
       " 'orthogonal',\n",
       " 'owens_t',\n",
       " 'p_roots',\n",
       " 'pbdn_seq',\n",
       " 'pbdv',\n",
       " 'pbdv_seq',\n",
       " 'pbvv',\n",
       " 'pbvv_seq',\n",
       " 'pbwa',\n",
       " 'pdtr',\n",
       " 'pdtrc',\n",
       " 'pdtri',\n",
       " 'pdtrik',\n",
       " 'perm',\n",
       " 'poch',\n",
       " 'polygamma',\n",
       " 'pro_ang1',\n",
       " 'pro_ang1_cv',\n",
       " 'pro_cv',\n",
       " 'pro_cv_seq',\n",
       " 'pro_rad1',\n",
       " 'pro_rad1_cv',\n",
       " 'pro_rad2',\n",
       " 'pro_rad2_cv',\n",
       " 'ps_roots',\n",
       " 'pseudo_huber',\n",
       " 'psi',\n",
       " 'radian',\n",
       " 'rel_entr',\n",
       " 'rgamma',\n",
       " 'riccati_jn',\n",
       " 'riccati_yn',\n",
       " 'roots_chebyc',\n",
       " 'roots_chebys',\n",
       " 'roots_chebyt',\n",
       " 'roots_chebyu',\n",
       " 'roots_gegenbauer',\n",
       " 'roots_genlaguerre',\n",
       " 'roots_hermite',\n",
       " 'roots_hermitenorm',\n",
       " 'roots_jacobi',\n",
       " 'roots_laguerre',\n",
       " 'roots_legendre',\n",
       " 'roots_sh_chebyt',\n",
       " 'roots_sh_chebyu',\n",
       " 'roots_sh_jacobi',\n",
       " 'roots_sh_legendre',\n",
       " 'round',\n",
       " 's_roots',\n",
       " 'seterr',\n",
       " 'sf_error',\n",
       " 'sh_chebyt',\n",
       " 'sh_chebyu',\n",
       " 'sh_jacobi',\n",
       " 'sh_legendre',\n",
       " 'shichi',\n",
       " 'sici',\n",
       " 'sinc',\n",
       " 'sindg',\n",
       " 'smirnov',\n",
       " 'smirnovi',\n",
       " 'softmax',\n",
       " 'specfun',\n",
       " 'spence',\n",
       " 'spfun_stats',\n",
       " 'sph_harm',\n",
       " 'spherical_in',\n",
       " 'spherical_jn',\n",
       " 'spherical_kn',\n",
       " 'spherical_yn',\n",
       " 'stdtr',\n",
       " 'stdtridf',\n",
       " 'stdtrit',\n",
       " 'struve',\n",
       " 't_roots',\n",
       " 'tandg',\n",
       " 'test',\n",
       " 'tklmbda',\n",
       " 'ts_roots',\n",
       " 'u_roots',\n",
       " 'us_roots',\n",
       " 'voigt_profile',\n",
       " 'wofz',\n",
       " 'wrightomega',\n",
       " 'xlog1py',\n",
       " 'xlogy',\n",
       " 'y0',\n",
       " 'y0_zeros',\n",
       " 'y1',\n",
       " 'y1_zeros',\n",
       " 'y1p_zeros',\n",
       " 'yn',\n",
       " 'yn_zeros',\n",
       " 'ynp_zeros',\n",
       " 'yv',\n",
       " 'yve',\n",
       " 'yvp',\n",
       " 'zeta',\n",
       " 'zetac']"
      ]
     },
     "execution_count": 12,
     "metadata": {},
     "output_type": "execute_result"
    }
   ],
   "source": [
    "dir(special)"
   ]
  },
  {
   "cell_type": "markdown",
   "metadata": {},
   "source": [
    "# derivative"
   ]
  },
  {
   "cell_type": "code",
   "execution_count": 11,
   "metadata": {},
   "outputs": [],
   "source": [
    "# derivation is slope of perticular x value"
   ]
  },
  {
   "cell_type": "code",
   "execution_count": 14,
   "metadata": {},
   "outputs": [],
   "source": [
    "from scipy import misc"
   ]
  },
  {
   "cell_type": "code",
   "execution_count": 15,
   "metadata": {},
   "outputs": [],
   "source": [
    "fun = lambda x : 2**x"
   ]
  },
  {
   "cell_type": "code",
   "execution_count": 16,
   "metadata": {},
   "outputs": [
    {
     "data": {
      "text/plain": [
       "3.0"
      ]
     },
     "execution_count": 16,
     "metadata": {},
     "output_type": "execute_result"
    }
   ],
   "source": [
    "misc.derivative(fun, 2)              # (function, x value)"
   ]
  },
  {
   "cell_type": "markdown",
   "metadata": {},
   "source": [
    "# integration"
   ]
  },
  {
   "cell_type": "code",
   "execution_count": 19,
   "metadata": {},
   "outputs": [],
   "source": [
    "from scipy import integrate"
   ]
  },
  {
   "cell_type": "code",
   "execution_count": 20,
   "metadata": {},
   "outputs": [],
   "source": [
    "fun = lambda x : 2**x"
   ]
  },
  {
   "cell_type": "code",
   "execution_count": 21,
   "metadata": {},
   "outputs": [
    {
     "data": {
      "text/plain": [
       "(2.8853900817779268, 3.2034265038149174e-14)"
      ]
     },
     "execution_count": 21,
     "metadata": {},
     "output_type": "execute_result"
    }
   ],
   "source": [
    "integrate.quad(fun, 1, 2)             # (function, limit)\n",
    "                                      # output is (integration, error)"
   ]
  },
  {
   "cell_type": "code",
   "execution_count": 22,
   "metadata": {},
   "outputs": [
    {
     "data": {
      "text/plain": [
       "2.8853900817779268"
      ]
     },
     "execution_count": 22,
     "metadata": {},
     "output_type": "execute_result"
    }
   ],
   "source": [
    "integrate.quad(fun, 1, 2)[0]                 # integration"
   ]
  },
  {
   "cell_type": "code",
   "execution_count": null,
   "metadata": {},
   "outputs": [],
   "source": []
  },
  {
   "cell_type": "markdown",
   "metadata": {},
   "source": [
    "# stat"
   ]
  },
  {
   "cell_type": "code",
   "execution_count": 24,
   "metadata": {},
   "outputs": [],
   "source": [
    "from scipy import stats"
   ]
  },
  {
   "cell_type": "code",
   "execution_count": 25,
   "metadata": {},
   "outputs": [],
   "source": [
    "arr = [12, 15, 19, 3]"
   ]
  },
  {
   "cell_type": "code",
   "execution_count": 26,
   "metadata": {},
   "outputs": [
    {
     "data": {
      "text/plain": [
       "DescribeResult(nobs=4, minmax=(3, 19), mean=12.25, variance=46.25, skewness=-0.5667333022409091, kurtosis=-1.0356756756756758)"
      ]
     },
     "execution_count": 26,
     "metadata": {},
     "output_type": "execute_result"
    }
   ],
   "source": [
    "stats.describe(arr)"
   ]
  },
  {
   "cell_type": "code",
   "execution_count": 31,
   "metadata": {},
   "outputs": [],
   "source": [
    "arr = [[12, 15, 19, 3], [19, 2, 3, 5], [45, 78, 99, 100], [999, 100, 258, 785]]       # nested list size must be same"
   ]
  },
  {
   "cell_type": "code",
   "execution_count": 33,
   "metadata": {},
   "outputs": [
    {
     "data": {
      "text/plain": [
       "DescribeResult(nobs=4, minmax=(array([12,  2,  3,  3]), array([999, 100, 258, 785])), mean=array([268.75,  48.75,  94.75, 223.25]), variance=array([237208.25      ,   2268.91666667,  13608.25      , 142298.91666667]), skewness=array([1.15177463, 0.06773108, 0.76224548, 1.10650664]), kurtosis=array([-0.66896916, -1.8167996 , -1.04629177, -0.70780387]))"
      ]
     },
     "execution_count": 33,
     "metadata": {},
     "output_type": "execute_result"
    }
   ],
   "source": [
    "stats.describe(arr)                     # output [1st list, 2nd, 3rd, 4th]"
   ]
  },
  {
   "cell_type": "code",
   "execution_count": null,
   "metadata": {},
   "outputs": [],
   "source": []
  }
 ],
 "metadata": {
  "kernelspec": {
   "display_name": "Python 3",
   "language": "python",
   "name": "python3"
  },
  "language_info": {
   "codemirror_mode": {
    "name": "ipython",
    "version": 3
   },
   "file_extension": ".py",
   "mimetype": "text/x-python",
   "name": "python",
   "nbconvert_exporter": "python",
   "pygments_lexer": "ipython3",
   "version": "3.8.5"
  }
 },
 "nbformat": 4,
 "nbformat_minor": 4
}
